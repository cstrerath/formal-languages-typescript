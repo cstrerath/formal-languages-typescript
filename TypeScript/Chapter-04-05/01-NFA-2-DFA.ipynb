{
 "cells": [
  {
   "cell_type": "code",
   "execution_count": 1,
   "id": "ccef3b29",
   "metadata": {},
   "outputs": [
    {
     "data": {
      "text/html": [
       "<style><link href='http://fonts.googleapis.com/css?family=Alegreya+Sans:100,300,400,500,700,800,900,100italic,300italic,400italic,500italic,700italic,800italic,900italic' rel='stylesheet' type='text/css'>\r\n",
       "<link href='http://fonts.googleapis.com/css?family=Arvo:400,700,400italic' rel='stylesheet' type='text/css'>\r\n",
       "<link href='http://fonts.googleapis.com/css?family=PT+Mono' rel='stylesheet' type='text/css'>\r\n",
       "<link href='http://fonts.googleapis.com/css?family=Shadows+Into+Light' rel='stylesheet' type='text/css'>\r\n",
       "<link href='http://fonts.googleapis.com/css?family=Philosopher:400,700,400italic,700italic' rel='stylesheet' type='text/css'>\r\n",
       "<link href=\"http://fonts.googleapis.com/css?family=Sacramento\" rel=\"stylesheet\" type=\"text/css\">\r\n",
       "\r\n",
       "<style>\r\n",
       "\r\n",
       "@font-face {\r\n",
       "    font-family: \"Computer Modern\";\r\n",
       "    src: url('http://mirrors.ctan.org/fonts/cm-unicode/fonts/otf/cmunss.otf');\r\n",
       "}\r\n",
       "\r\n",
       ".container { width: 100% }\r\n",
       "\r\n",
       "/* Formatting for header cells */\r\n",
       ".text_cell_render h1 {\r\n",
       "    font-family: 'Philosopher', sans-serif;\r\n",
       "    font-weight: 400;\r\n",
       "    font-size: 2.2em;\r\n",
       "    line-height: 100%;\r\n",
       "    color: rgb(0, 80, 120);\r\n",
       "    margin-bottom: 0.1em;\r\n",
       "    margin-top: 0.1em;\r\n",
       "    display: block;\r\n",
       "}\t\r\n",
       ".text_cell_render h2 {\r\n",
       "    font-family: 'Philosopher', serif;\r\n",
       "    font-weight: 400;\r\n",
       "    font-size: 1.9em;\r\n",
       "    line-height: 100%;\r\n",
       "    color: rgb(200,100,0);\r\n",
       "    margin-bottom: 0.1em;\r\n",
       "    margin-top: 0.1em;\r\n",
       "    display: block;\r\n",
       "}\t\r\n",
       "\r\n",
       ".text_cell_render h3 {\r\n",
       "    font-family: 'Philosopher', serif;\r\n",
       "    margin-top:12px;\r\n",
       "    margin-bottom: 3px;\r\n",
       "    font-style: italic;\r\n",
       "    color: rgb(94,127,192);\r\n",
       "}\r\n",
       "\r\n",
       ".text_cell_render h4 {\r\n",
       "    font-family: 'Philosopher', serif;\r\n",
       "}\r\n",
       "\r\n",
       ".text_cell_render h5 {\r\n",
       "    font-family: 'Alegreya Sans', sans-serif;\r\n",
       "    font-weight: 300;\r\n",
       "    font-size: 16pt;\r\n",
       "    color: grey;\r\n",
       "    font-style: italic;\r\n",
       "    margin-bottom: .1em;\r\n",
       "    margin-top: 0.1em;\r\n",
       "    display: block;\r\n",
       "}\r\n",
       "\r\n",
       ".text_cell_render h6 {\r\n",
       "    font-family: 'PT Mono', sans-serif;\r\n",
       "    font-weight: 300;\r\n",
       "    font-size: 10pt;\r\n",
       "    color: grey;\r\n",
       "    margin-bottom: 1px;\r\n",
       "    margin-top: 1px;\r\n",
       "}\r\n",
       "\r\n",
       ".text_cell_render em {\r\n",
       "    font-family: 'Philosopher', sans-serif;\r\n",
       "    color:        blue;\r\n",
       "    background-color: rgb(255,220,180);\r\n",
       "    font-size:    110%;\r\n",
       "    margin-left:   2px;\r\n",
       "    margin-right:  2px;\r\n",
       "    font-weight:   100;\r\n",
       "}\r\n",
       "\r\n",
       ".text_cell_render b {\r\n",
       "    color:            rgb(255,195,195);\r\n",
       "    background-color: rgb(0,0,0);\r\n",
       "    font-size:    110%;\r\n",
       "    margin-left:   2px;\r\n",
       "    margin-right:  2px;\r\n",
       "    font-weight:   650;\r\n",
       "}\r\n",
       "\r\n",
       ".text_cell_render u {\r\n",
       "    color:            blue;\r\n",
       "    font-size:    110%;\r\n",
       "    margin-left:   2px;\r\n",
       "    margin-right:  2px;\r\n",
       "    font-weight:   650;\r\n",
       "}\r\n",
       "\r\n",
       ".text_cell_render tt {\r\n",
       "    font-size:    120%;\r\n",
       "    margin-left:   2px;\r\n",
       "    margin-right:  2px;\r\n",
       "    font-weight:   150;\r\n",
       "}\r\n",
       "\r\n",
       ".Codemirror {\r\n",
       "    font-family: \"PT Mono\";\r\n",
       "    font-size: 100%;\r\n",
       "}\r\n",
       "\r\n",
       "#fancy {\r\n",
       "    font-family:      Georgia;\r\n",
       "    position:         relative;\r\n",
       "    float:            left;\r\n",
       "    border:           2px solid red;\r\n",
       "    width:            600px;\r\n",
       "    padding-left:     20px;\r\n",
       "    padding-right:    20px;\r\n",
       "    padding-top:      10px;\r\n",
       "    font-family:      'Sacramento', cursive;\r\n",
       "    font-size:        26px;\r\n",
       "    background-color: #F4EBF3;\r\n",
       "    border-radius:    15px;\r\n",
       "}\r\n",
       "\r\n",
       "</Style>\r\n",
       "\r\n",
       "</style>"
      ]
     },
     "metadata": {},
     "output_type": "display_data"
    }
   ],
   "source": [
    "import { display } from \"tslab\";\n",
    "import { readFileSync } from \"fs\";\n",
    "\n",
    "const css = readFileSync(\"../style.css\", \"utf8\");\n",
    "display.html(`<style>${css}</style>`);"
   ]
  },
  {
   "cell_type": "markdown",
   "id": "b425c9a7",
   "metadata": {},
   "source": [
    "# Converting a Non-Deterministic <span style=\"font-variant:small-caps;\">Fsm</span> into a Deterministic <span style=\"font-variant:small-caps;\">Fsm</span>"
   ]
  },
  {
   "cell_type": "markdown",
   "id": "dc552c02",
   "metadata": {},
   "source": [
    "In this notebook we show how a non-deterministic <span style=\"font-variant:small-caps;\">Fsm</span>\n",
    "$$ F = \\langle Q, \\Sigma, \\delta, q_0, A \\rangle $$\n",
    "can be transformed into a deterministic <span style=\"font-variant:small-caps;\">Fsm</span> $\\texttt{det}(F)$ such that both <span style=\"font-variant:small-caps;\">Fsm</span>s accept the\n",
    "same language, that is we have\n",
    "$$ L(F) = L\\bigl(\\texttt{det}(F)\\bigr). $$\n",
    "The idea behind this transformation is that the <span style=\"font-variant:small-caps;\">Fsm</span> $\\texttt{det}(F)$ has to \n",
    "compute the set of all states that the <span style=\"font-variant:small-caps;\">Fsm</span> $F$ could be in. \n",
    "Hence the states of the deterministic <span style=\"font-variant:small-caps;\">Fsm</span> $\\texttt{det}(F)$ are \n",
    "**sets** of states of the non-deterministic <span style=\"font-variant:small-caps;\">Fsm</span> $F$.  A set of these states contains all those states that the non-deterministic <span style=\"font-variant:small-caps;\">Fsm</span> \n",
    "$F$ could have reached.  Furthermore, a set $M$ of states of the <span style=\"font-variant:small-caps;\">Fsm</span> $F$ is an accepting state of the <span style=\"font-variant:small-caps;\">Fsm</span> $\\texttt{det}(F)$ if the set $M$ contains an accepting state of the <span style=\"font-variant:small-caps;\">Fsm</span> $F$."
   ]
  },
  {
   "cell_type": "markdown",
   "id": "e5d6feff",
   "metadata": {},
   "source": [
    "## Declaring the Necessary Types"
   ]
  },
  {
   "cell_type": "markdown",
   "id": "387f8bda",
   "metadata": {},
   "source": [
    "`State` is the abstract type of the states of an <span style=\"font-variant:small-caps;\">Fsm</span>."
   ]
  },
  {
   "cell_type": "code",
   "execution_count": 2,
   "id": "28c72500",
   "metadata": {},
   "outputs": [],
   "source": [
    "type State = string | number;"
   ]
  },
  {
   "cell_type": "code",
   "execution_count": 3,
   "id": "0e4dc4d5",
   "metadata": {},
   "outputs": [],
   "source": [
    "type Char = string;"
   ]
  },
  {
   "cell_type": "markdown",
   "id": "77778902",
   "metadata": {},
   "source": [
    "We represent the non-deterministic transition relation $\\delta$ by the following type:"
   ]
  },
  {
   "cell_type": "code",
   "execution_count": 4,
   "id": "8f894c06",
   "metadata": {},
   "outputs": [],
   "source": [
    "type TransRel = Map<string, Set<State>>;"
   ]
  },
  {
   "cell_type": "markdown",
   "id": "a4e927b0",
   "metadata": {},
   "source": [
    "The type of the deterministic transition relation is more complicated, since the states of the deterministic <span style=\"font-variant:small-caps;\">Fsm</span> are set of the states of the non-deterministic <span style=\"font-variant:small-caps;\">Fsm</span>."
   ]
  },
  {
   "cell_type": "code",
   "execution_count": 5,
   "id": "ded4ec7f",
   "metadata": {},
   "outputs": [],
   "source": [
    "type TransRelDet = Map<string, Set<State>>;"
   ]
  },
  {
   "cell_type": "markdown",
   "id": "36bed956",
   "metadata": {},
   "source": [
    "A non-deterministic finite state machine has the following type:"
   ]
  },
  {
   "cell_type": "code",
   "execution_count": 6,
   "id": "76bffe49",
   "metadata": {},
   "outputs": [],
   "source": [
    "type NFA = {\n",
    "  Q: Set<State>;\n",
    "  Sigma: Set<Char>;\n",
    "  delta: TransRel;\n",
    "  q0: State;\n",
    "  A: Set<State>;\n",
    "};"
   ]
  },
  {
   "cell_type": "markdown",
   "id": "68612b37",
   "metadata": {},
   "source": [
    "The deterministic finite state machines produced in this notebook have the following type."
   ]
  },
  {
   "cell_type": "code",
   "execution_count": 7,
   "id": "8354dac9",
   "metadata": {},
   "outputs": [],
   "source": [
    "type DFA = {\n",
    "  Q: Set<Set<State>>; // Menge der DFA-Zustände (jeder ist eine Menge von NFA-Zuständen)\n",
    "  Sigma: Set<Char>;\n",
    "  delta: TransRelDet; // \"setKey(M),c\" -> N\n",
    "  q0: Set<State>;\n",
    "  A: Set<Set<State>>;\n",
    "};"
   ]
  },
  {
   "cell_type": "markdown",
   "id": "b8f617c4",
   "metadata": {},
   "source": [
    "<hr style=\"height:5px;background-color:blue\">"
   ]
  },
  {
   "cell_type": "markdown",
   "id": "0d248922",
   "metadata": {},
   "source": [
    "In order to present the construction of $\\texttt{det}(F)$ we first have to define three auxiliary functions.\n",
    "We start with the function `bigUnion`.  Given a set `M` that contains frozensets, the epression `bigUnion(M)`\n",
    "returns the union of all sets in `M`, i.e. we have\n",
    "$$ \\texttt{bigUnion}(M) = \\bigcup M = \\bigl\\{ x \\bigm| \\exists A \\in M: x \\in A \\bigr\\}. $$\n",
    "The resulting set is returned as a `frozenset`."
   ]
  },
  {
   "cell_type": "code",
   "execution_count": 8,
   "id": "3cadf3b8",
   "metadata": {},
   "outputs": [],
   "source": [
    "function bigUnion<T>(sets: Set<Set<T>>): Set<T> {\n",
    "  const result = new Set<T>();\n",
    "  for (const subset of sets) {\n",
    "    for (const x of subset) result.add(x);\n",
    "  }\n",
    "  return result;\n",
    "}"
   ]
  },
  {
   "cell_type": "code",
   "execution_count": 9,
   "id": "cf732f4c",
   "metadata": {},
   "outputs": [
    {
     "name": "stdout",
     "output_type": "stream",
     "text": [
      "Result: Set(5) { \u001b[33m1\u001b[39m, \u001b[33m2\u001b[39m, \u001b[33m3\u001b[39m, \u001b[33m4\u001b[39m, \u001b[33m5\u001b[39m }\n",
      "Result as array: [ \u001b[33m1\u001b[39m, \u001b[33m2\u001b[39m, \u001b[33m3\u001b[39m, \u001b[33m4\u001b[39m, \u001b[33m5\u001b[39m ]\n"
     ]
    }
   ],
   "source": [
    "const input = new Set([\n",
    "  new Set([1, 2, 3]),\n",
    "  new Set([2, 3, 4]),\n",
    "  new Set([3, 4, 5]),\n",
    "]);\n",
    "\n",
    "const result = bigUnion(input);\n",
    "\n",
    "console.log(\"Result:\", result); \n",
    "// Erwartet: Set {1, 2, 3, 4, 5}\n",
    "\n",
    "// Wenn du es schöner sehen willst:\n",
    "console.log(\"Result as array:\", Array.from(result).sort());\n",
    "// Erwartet: [1, 2, 3, 4, 5]"
   ]
  },
  {
   "cell_type": "markdown",
   "id": "7832c1a6",
   "metadata": {},
   "source": [
    "`Helpfunctions`:"
   ]
  },
  {
   "cell_type": "code",
   "execution_count": 11,
   "id": "951595b5",
   "metadata": {},
   "outputs": [],
   "source": [
    "function key(q: State, c: Char): string {\n",
    "  return `${q},${c}`;\n",
    "}\n",
    "\n",
    "function toSortedArray(s: Set<State>): (string | number)[] {\n",
    "  // States können number oder string sein -> stabil als string vergleichen\n",
    "  return Array.from(s).sort((a, b) => String(a).localeCompare(String(b)));\n",
    "}\n",
    "\n",
    "function setKey(s: Set<State>): string {\n",
    "  return JSON.stringify(toSortedArray(s));\n",
    "}\n"
   ]
  },
  {
   "cell_type": "markdown",
   "id": "b89a84b4",
   "metadata": {},
   "source": [
    "The function `epsClosure` takes two arguments:\n",
    "- `s` is a state, \n",
    "- `δ` is the transition function of the non-deterministic <span style=\"font-variant:small-caps;\">Fsm</span> $F$.\n",
    "\n",
    "The function computes the set of all those states that can be reached from the state\n",
    "`s` via $\\varepsilon$-transitions.\n",
    "Formally, the set $\\texttt{epsClosure}(q)$ is defined inductively:\n",
    "- $s \\in \\texttt{epsClosure}(s)$.\n",
    "- $p \\in \\texttt{epsClosure}(s) \\wedge r \\in \\delta(p, \\varepsilon) \\;\\rightarrow\\; r \\in \\texttt{epsClosure}(s)$.\n",
    " \n",
    "  If the state $p$ is an element of the $\\varepsilon$-closure of the state $s$ \n",
    "  and there is an $\\varepsilon$-transition from $p$ to some state $r$, then $r$ \n",
    "  is also an element of the $\\varepsilon$-transition of $s$.\n",
    "  \n",
    "The implementation of `epsClosure` uses a *fixed-point algorithm*."
   ]
  },
  {
   "cell_type": "code",
   "execution_count": 12,
   "id": "4d4e4b4f",
   "metadata": {},
   "outputs": [],
   "source": [
    "function epsClosure(s: State, delta: TransRel): Set<State> {\n",
    "  let result = new Set<State>([s]);\n",
    "  while (true) {\n",
    "    const newStates = new Set<State>();\n",
    "    for (const q of result) {\n",
    "      const targets = delta.get(key(q, 'ε'));\n",
    "      if (targets) for (const t of targets) newStates.add(t);\n",
    "    }\n",
    "    const combined = new Set([...result, ...newStates]);\n",
    "    if (combined.size === result.size) return result;\n",
    "    result = combined;\n",
    "  }\n",
    "}"
   ]
  },
  {
   "cell_type": "markdown",
   "id": "45387298",
   "metadata": {},
   "source": [
    "In order to transform a non-deterministic <span style=\"font-variant:small-caps;\">Fsm</span> $F$ into a deterministic \n",
    "<span style=\"font-variant:small-caps;\">Fsm</span>\n",
    "$\\texttt{det}(F)$ we have to extend the function $\\delta:Q \\times \\Sigma \\rightarrow 2^Q$ into the function\n",
    "$$\\widehat{\\delta}: Q \\times \\Sigma \\rightarrow 2^Q. $$\n",
    "The idea is that given a state $q$ and a character $c$,  the value of $\\widehat{\\delta}(q,c)$ is the set of all states that the\n",
    "<span style=\"font-variant:small-caps;\">Fsm</span> $F$ could reach when it reads the character $c$ in state $q$ and then performs an arbitrary number of $\\varepsilon$-transitions.  Formally, the definition of $\\widehat{\\delta}$ is as follows:\n",
    "$$ \\widehat{\\delta}(q_1, c) := \\bigcup \\bigl\\{ \\texttt{epsClosure}(q_2) \\bigm| q_2 \\in \\delta(q_1, c) \\bigr \\}. $$\n",
    "This formula is to be read as follows:\n",
    "- For every state $q_2 \\in Q$ that can be reached from the state $q_1$ by reading the character $c$ we\n",
    "  compute $\\texttt{epsClosure}(q_2)$.\n",
    "- Then we take the union of all these sets $\\texttt{epsClosure}(q_2)$.\n",
    "\n",
    "The function $\\widehat{\\delta}$ is implemented as the function `deltaHat`, which takes three arguments:\n",
    "- `s` is a state,\n",
    "- `c` is a character,\n",
    "- `𝛿` is the transition function of a non-deterministic \n",
    "  <span style=\"font-variant:small-caps;\">Fsm</span>.\n",
    "\n",
    "This function computes the set of all those states that can be reached \n",
    "from `s` when we first have a transition from state `s` to some state `p` \n",
    "on reading the character `c` followed by any number of $\\varepsilon$-transitions\n",
    "starting in `p`."
   ]
  },
  {
   "cell_type": "code",
   "execution_count": 13,
   "id": "33372099",
   "metadata": {},
   "outputs": [],
   "source": [
    "function deltaHat(s: State, c: Char, delta: TransRel): Set<State> {\n",
    "  const reachable = new Set<State>();\n",
    "  const targets = delta.get(key(s, c));\n",
    "  if (targets) {\n",
    "    for (const q of targets) {\n",
    "      const clos = epsClosure(q, delta);\n",
    "      for (const r of clos) reachable.add(r);\n",
    "    }\n",
    "  }\n",
    "  return reachable;\n",
    "}"
   ]
  },
  {
   "cell_type": "markdown",
   "id": "be1153d9",
   "metadata": {},
   "source": [
    "The function  $\\widehat{\\delta}$ maps a state into a set of states.  Since the <span style=\"font-variant:small-caps;\">Fsm</span> $\\texttt{det}(F)$ uses sets of states of the <span style=\"font-variant:small-caps;\">Fsm</span> $F$ as its states we need a function that maps sets of states of the <span style=\"font-variant:small-caps;\">Fsm</span> $F$ into sets of states.  Hence we generalize \n",
    "the function $\\widehat{\\delta}$ to the function\n",
    "$$ \\Delta: 2^Q \\times \\Sigma \\rightarrow 2^Q $$\n",
    "such that for a set $M$ of states and a character $c$ the expression $\\Delta(M, c)$\n",
    "computes the set of all those states that the <span style=\"font-variant:small-caps;\">Fsm</span> $F$ could be in if it is in a state from the set $M$, then\n",
    "reads the character $c$, and finally makes some $\\varepsilon$-transitions.\n",
    "The formal definition is as follows: \n",
    "$$ \\Delta(M,c) := \\bigcup \\bigl\\{ \\widehat{\\delta}(q,c) \\bigm| q \\in M \\bigr\\}. $$\n",
    "This formula is easy to understand:  For every state  $q \\in M$ we compute the set of states that the\n",
    "<span style=\"font-variant:small-caps;\">Fsm</span> could be in after reading the character $c$ and doing some \n",
    "$\\varepsilon$-transitions.  Then we take the union of these sets."
   ]
  },
  {
   "cell_type": "code",
   "execution_count": 14,
   "id": "4c2b9200",
   "metadata": {},
   "outputs": [],
   "source": [
    "function capitalDelta(\n",
    "  M: Set<State>,\n",
    "  c: Char,\n",
    "  delta: TransRel\n",
    "): Set<State> {\n",
    "  const partials = new Set<Set<State>>();\n",
    "  for (const q of M) partials.add(deltaHat(q, c, delta));\n",
    "  return bigUnion(partials);\n",
    "}"
   ]
  },
  {
   "cell_type": "markdown",
   "id": "cfd389d1",
   "metadata": {},
   "source": [
    "The function `allStates` takes three arguments:\n",
    "- $Q$ is $\\texttt{epsClosure}(q_0)$, where $q_0$ is the start state of the deterministic <span style=\"font-variant:small-caps;\">Fsm</span> $\\texttt{det}(F)$,\n",
    "- $\\delta$ is the transition function of the non-deterministic <span style=\"font-variant:small-caps;\">Fsm</span> $F$, and\n",
    "- $\\Sigma$ is the alphabet of the non-deterministic <span style=\"font-variant:small-caps;\">Fsm</span> $F$.\n",
    "\n",
    "The function `allStates` computes the set of all states of the deterministic <span style=\"font-variant:small-caps;\">Fsm</span> $\\texttt{det}(F)$\n",
    "that can be reached from the start state."
   ]
  },
  {
   "cell_type": "code",
   "execution_count": 15,
   "id": "6fea3cd8",
   "metadata": {},
   "outputs": [],
   "source": [
    "function allStates(\n",
    "  Q0: Set<State>,\n",
    "  delta: TransRel,\n",
    "  Sigma: Set<Char>\n",
    "): Set<Set<State>> {\n",
    "  const seen = new Map<string, Set<State>>();\n",
    "  const queue: Set<State>[] = [];\n",
    "\n",
    "  const startKey = setKey(Q0);\n",
    "  seen.set(startKey, Q0);\n",
    "  queue.push(Q0);\n",
    "\n",
    "  while (queue.length > 0) {\n",
    "    const M = queue.shift()!;\n",
    "    for (const c of Sigma) {\n",
    "      const N = capitalDelta(M, c, delta); // kann leer sein – ist ok\n",
    "      const k = setKey(N);\n",
    "      if (!seen.has(k)) {\n",
    "        seen.set(k, N);\n",
    "        queue.push(N);\n",
    "      }\n",
    "    }\n",
    "  }\n",
    "  // Rückgabe als Set<Set<State>>\n",
    "  return new Set(seen.values());\n",
    "}"
   ]
  },
  {
   "cell_type": "markdown",
   "id": "62faa8bf",
   "metadata": {},
   "source": [
    "Now we are ready to formally define how the deterministic <span style=\"font-variant:small-caps;\">Fsm</span> $\\texttt{det}(F)$\n",
    "is computed from the non-deterministic <span style=\"font-variant:small-caps;\">Fsm</span>\n",
    "$F = \\bigl\\langle Q, \\Sigma, \\delta, q_0, A \\bigr\\rangle$.\n",
    "We define: \n",
    "$$ \\texttt{det}(F) := \\bigl\\langle \\texttt{allStates}(\\texttt{epsClosure}(q_0)), \\Sigma, \\Delta, \\texttt{epsClosure}(q_0), \\widehat{A} \\bigr\\rangle $$\n",
    "where the components of this tuple are given as follows:\n",
    "- The set of states of $\\texttt{det}(F)$ is the set of all states that can be reached from the set $\\texttt{epsClosure}(q_0)$.\n",
    "- The input alphabet $\\Sigma$ does not change when going from $F$ to $\\texttt{det}(F)$.\n",
    "  After all, the deterministic <span style=\"font-variant:small-caps;\">Fsm</span> $\\texttt{det}(F)$ has to recognize the same language as the non-deterministic\n",
    "  <span style=\"font-variant:small-caps;\">Fsm</span> $F$.\n",
    "- The function $\\Delta$, that has been defined previously, specified how the set of states change when a\n",
    "  character is read.\n",
    "- The start state $\\texttt{epsClosure}(q_0)$ of the non-deterministic <span style=\"font-variant:small-caps;\">Fsm</span> $\\texttt{det}(F)$ is the set of all states\n",
    "  that can be reached from the start state $q_0$ of the non-deterministic <span style=\"font-variant:small-caps;\">Fsm</span> $F$\n",
    "  via $\\varepsilon$-transitions.\n",
    "- The set of accepting states $\\widehat{A}$ is the set of those subsets of $Q$ that contain an accepting\n",
    "  state of the <span style=\"font-variant:small-caps;\">Fsm</span> $F$:\n",
    "  $$\\widehat{A} := \\bigl\\{ M \\in 2^Q \\mid M \\cap A \\not= \\{\\} \\bigl\\}. $$"
   ]
  },
  {
   "cell_type": "code",
   "execution_count": 16,
   "id": "00ba0a34",
   "metadata": {},
   "outputs": [],
   "source": [
    "function nfa2dfa(nfa: NFA): DFA {\n",
    "  const { Sigma, delta, q0, A } = nfa;\n",
    "\n",
    "  const newStart = epsClosure(q0, delta);\n",
    "  const newStates = allStates(newStart, delta, Sigma);\n",
    "\n",
    "  const newDelta: TransRelDet = new Map();\n",
    "  for (const M of newStates) {\n",
    "    const Mk = setKey(M);\n",
    "    for (const c of Sigma) {\n",
    "      const N = capitalDelta(M, c, delta);\n",
    "      newDelta.set(`${Mk},${c}`, N);\n",
    "    }\n",
    "  }\n",
    "\n",
    "  const newFinal = new Set<Set<State>>();\n",
    "  for (const M of newStates) {\n",
    "    for (const a of A) {\n",
    "      if (M.has(a)) {\n",
    "        newFinal.add(M);\n",
    "        break;\n",
    "      }\n",
    "    }\n",
    "  }\n",
    "\n",
    "  return { Q: newStates, Sigma, delta: newDelta, q0: newStart, A: newFinal };\n",
    "}"
   ]
  },
  {
   "cell_type": "markdown",
   "id": "b50dcd9b",
   "metadata": {},
   "source": [
    "To test this function, use the notebook `02-Test-NFA-2-DFA.ipynb`."
   ]
  }
 ],
 "metadata": {
  "kernelspec": {
   "display_name": "TypeScript",
   "language": "typescript",
   "name": "tslab"
  },
  "language_info": {
   "codemirror_mode": {
    "mode": "typescript",
    "name": "javascript",
    "typescript": true
   },
   "file_extension": ".ts",
   "mimetype": "text/typescript",
   "name": "typescript",
   "version": "3.7.2"
  }
 },
 "nbformat": 4,
 "nbformat_minor": 5
}
