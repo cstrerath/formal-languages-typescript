{
 "cells": [
  {
   "cell_type": "code",
   "execution_count": null,
   "id": "5b2fa03e",
   "metadata": {},
   "outputs": [],
   "source": [
    "import { display } from \"tslab\";\n",
    "import { readFileSync } from \"fs\";\n",
    "\n",
    "const css = readFileSync(\"../style.css\", \"utf8\");\n",
    "display.html(`<style>${css}</style>`);"
   ]
  },
  {
   "cell_type": "markdown",
   "id": "c9ac9e5c",
   "metadata": {},
   "source": [
    "# Test the Equivalence of Regular Expressions "
   ]
  },
  {
   "cell_type": "code",
   "execution_count": 1,
   "id": "7d117d24",
   "metadata": {},
   "outputs": [
    {
     "name": "stderr",
     "output_type": "stream",
     "text": [
      "Version 1.0.5\n"
     ]
    },
    {
     "name": "stdout",
     "output_type": "stream",
     "text": [
      "The nb_mypy extension is already loaded. To reload it, use:\n",
      "  %reload_ext nb_mypy\n",
      "The nb_mypy extension is already loaded. To reload it, use:\n",
      "  %reload_ext nb_mypy\n",
      "The nb_mypy extension is already loaded. To reload it, use:\n",
      "  %reload_ext nb_mypy\n"
     ]
    }
   ],
   "source": [
    "%run 09-Equivalence.ipynb\n",
    "%run RegExp-Parser.ipynb"
   ]
  },
  {
   "cell_type": "code",
   "execution_count": 2,
   "id": "b6df5328",
   "metadata": {},
   "outputs": [],
   "source": [
    "%unload_ext nb_mypy"
   ]
  },
  {
   "cell_type": "code",
   "execution_count": 3,
   "id": "b2452147",
   "metadata": {},
   "outputs": [],
   "source": [
    "def test(Σ, s1, s2):\n",
    "    r1 = parse(s1)\n",
    "    r2 = parse(s2)\n",
    "    if regExpEquiv(r1, r2, Σ):\n",
    "        print(f'The regular expressions {s1} and {s2} are equivalent.')\n",
    "    else:\n",
    "        print(f'The regular expressions {s1} and {s2} are not equivalent.')"
   ]
  },
  {
   "cell_type": "code",
   "execution_count": 4,
   "id": "0df60db4",
   "metadata": {},
   "outputs": [],
   "source": [
    "Σ = { \"a\", \"b\", \"c\" }"
   ]
  },
  {
   "cell_type": "code",
   "execution_count": 5,
   "id": "1fb8c750",
   "metadata": {},
   "outputs": [
    {
     "name": "stdout",
     "output_type": "stream",
     "text": [
      "The regular expressions (𝜀+a)(a+𝜀)*(a+𝜀) and a* are equivalent.\n"
     ]
    }
   ],
   "source": [
    "test(Σ, '(𝜀+a)(a+𝜀)*(a+𝜀)', 'a*')"
   ]
  },
  {
   "cell_type": "code",
   "execution_count": 6,
   "id": "a393a573",
   "metadata": {},
   "outputs": [
    {
     "name": "stdout",
     "output_type": "stream",
     "text": [
      "The regular expressions (ba)(ba)* and b(ab)*a are equivalent.\n"
     ]
    }
   ],
   "source": [
    "test(Σ, '(ba)(ba)*', 'b(ab)*a')"
   ]
  },
  {
   "cell_type": "code",
   "execution_count": 7,
   "id": "6adf5478",
   "metadata": {},
   "outputs": [
    {
     "name": "stdout",
     "output_type": "stream",
     "text": [
      "The regular expressions (a+b+c)*(ac*b+bc*a)(a+b+c)* and c*(a(a+c)*b+b(b+c)*a)(a+b+c)* are equivalent.\n"
     ]
    }
   ],
   "source": [
    "test(Σ, '(a+b+c)*(ac*b+bc*a)(a+b+c)*', 'c*(a(a+c)*b+b(b+c)*a)(a+b+c)*')"
   ]
  },
  {
   "cell_type": "code",
   "execution_count": 8,
   "id": "2e4e2f86",
   "metadata": {},
   "outputs": [
    {
     "name": "stdout",
     "output_type": "stream",
     "text": [
      "The regular expressions ((c*ac*)*(c*ac*)*(c*bc*)(c*bc*)*)+((c*bc*)(c*bc*)*(c*ac*)(c*ac*)*) and c*(a*(a+c)*b+b*(b+c)*a)(a+b+c)* are not equivalent.\n"
     ]
    }
   ],
   "source": [
    "test(Σ, '((c*ac*)*(c*ac*)*(c*bc*)(c*bc*)*)+((c*bc*)(c*bc*)*(c*ac*)(c*ac*)*)', 'c*(a*(a+c)*b+b*(b+c)*a)(a+b+c)*')"
   ]
  },
  {
   "cell_type": "code",
   "execution_count": 9,
   "id": "617747cf",
   "metadata": {},
   "outputs": [
    {
     "name": "stdout",
     "output_type": "stream",
     "text": [
      "The regular expressions (a+b)*a(a+b)*a(a+b)*a(a+b)* and a*b*ab*ab*ab*a* are not equivalent.\n"
     ]
    }
   ],
   "source": [
    "test(Σ, '(a+b)*a(a+b)*a(a+b)*a(a+b)*', 'a*b*ab*ab*ab*a*')"
   ]
  },
  {
   "cell_type": "code",
   "execution_count": null,
   "id": "bbf84fdc",
   "metadata": {},
   "outputs": [],
   "source": []
  }
 ],
 "metadata": {
  "kernelspec": {
   "display_name": "TypeScript",
   "language": "typescript",
   "name": "tslab"
  },
  "language_info": {
   "codemirror_mode": {
    "mode": "typescript",
    "name": "javascript",
    "typescript": true
   },
   "file_extension": ".ts",
   "mimetype": "text/typescript",
   "name": "typescript",
   "version": "3.7.2"
  }
 },
 "nbformat": 4,
 "nbformat_minor": 5
}
