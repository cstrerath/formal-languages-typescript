{
 "cells": [
  {
   "cell_type": "code",
   "execution_count": 1,
   "id": "576364a1",
   "metadata": {},
   "outputs": [
    {
     "data": {
      "text/html": [
       "<style><link href='http://fonts.googleapis.com/css?family=Alegreya+Sans:100,300,400,500,700,800,900,100italic,300italic,400italic,500italic,700italic,800italic,900italic' rel='stylesheet' type='text/css'>\r\n",
       "<link href='http://fonts.googleapis.com/css?family=Arvo:400,700,400italic' rel='stylesheet' type='text/css'>\r\n",
       "<link href='http://fonts.googleapis.com/css?family=PT+Mono' rel='stylesheet' type='text/css'>\r\n",
       "<link href='http://fonts.googleapis.com/css?family=Shadows+Into+Light' rel='stylesheet' type='text/css'>\r\n",
       "<link href='http://fonts.googleapis.com/css?family=Philosopher:400,700,400italic,700italic' rel='stylesheet' type='text/css'>\r\n",
       "<link href=\"http://fonts.googleapis.com/css?family=Sacramento\" rel=\"stylesheet\" type=\"text/css\">\r\n",
       "\r\n",
       "<style>\r\n",
       "\r\n",
       "@font-face {\r\n",
       "    font-family: \"Computer Modern\";\r\n",
       "    src: url('http://mirrors.ctan.org/fonts/cm-unicode/fonts/otf/cmunss.otf');\r\n",
       "}\r\n",
       "\r\n",
       ".container { width: 100% }\r\n",
       "\r\n",
       "/* Formatting for header cells */\r\n",
       ".text_cell_render h1 {\r\n",
       "    font-family: 'Philosopher', sans-serif;\r\n",
       "    font-weight: 400;\r\n",
       "    font-size: 2.2em;\r\n",
       "    line-height: 100%;\r\n",
       "    color: rgb(0, 80, 120);\r\n",
       "    margin-bottom: 0.1em;\r\n",
       "    margin-top: 0.1em;\r\n",
       "    display: block;\r\n",
       "}\t\r\n",
       ".text_cell_render h2 {\r\n",
       "    font-family: 'Philosopher', serif;\r\n",
       "    font-weight: 400;\r\n",
       "    font-size: 1.9em;\r\n",
       "    line-height: 100%;\r\n",
       "    color: rgb(200,100,0);\r\n",
       "    margin-bottom: 0.1em;\r\n",
       "    margin-top: 0.1em;\r\n",
       "    display: block;\r\n",
       "}\t\r\n",
       "\r\n",
       ".text_cell_render h3 {\r\n",
       "    font-family: 'Philosopher', serif;\r\n",
       "    margin-top:12px;\r\n",
       "    margin-bottom: 3px;\r\n",
       "    font-style: italic;\r\n",
       "    color: rgb(94,127,192);\r\n",
       "}\r\n",
       "\r\n",
       ".text_cell_render h4 {\r\n",
       "    font-family: 'Philosopher', serif;\r\n",
       "}\r\n",
       "\r\n",
       ".text_cell_render h5 {\r\n",
       "    font-family: 'Alegreya Sans', sans-serif;\r\n",
       "    font-weight: 300;\r\n",
       "    font-size: 16pt;\r\n",
       "    color: grey;\r\n",
       "    font-style: italic;\r\n",
       "    margin-bottom: .1em;\r\n",
       "    margin-top: 0.1em;\r\n",
       "    display: block;\r\n",
       "}\r\n",
       "\r\n",
       ".text_cell_render h6 {\r\n",
       "    font-family: 'PT Mono', sans-serif;\r\n",
       "    font-weight: 300;\r\n",
       "    font-size: 10pt;\r\n",
       "    color: grey;\r\n",
       "    margin-bottom: 1px;\r\n",
       "    margin-top: 1px;\r\n",
       "}\r\n",
       "\r\n",
       ".text_cell_render em {\r\n",
       "    font-family: 'Philosopher', sans-serif;\r\n",
       "    color:        blue;\r\n",
       "    background-color: rgb(255,220,180);\r\n",
       "    font-size:    110%;\r\n",
       "    margin-left:   2px;\r\n",
       "    margin-right:  2px;\r\n",
       "    font-weight:   100;\r\n",
       "}\r\n",
       "\r\n",
       ".text_cell_render b {\r\n",
       "    color:            rgb(255,195,195);\r\n",
       "    background-color: rgb(0,0,0);\r\n",
       "    font-size:    110%;\r\n",
       "    margin-left:   2px;\r\n",
       "    margin-right:  2px;\r\n",
       "    font-weight:   650;\r\n",
       "}\r\n",
       "\r\n",
       ".text_cell_render u {\r\n",
       "    color:            blue;\r\n",
       "    font-size:    110%;\r\n",
       "    margin-left:   2px;\r\n",
       "    margin-right:  2px;\r\n",
       "    font-weight:   650;\r\n",
       "}\r\n",
       "\r\n",
       ".text_cell_render tt {\r\n",
       "    font-size:    120%;\r\n",
       "    margin-left:   2px;\r\n",
       "    margin-right:  2px;\r\n",
       "    font-weight:   150;\r\n",
       "}\r\n",
       "\r\n",
       ".Codemirror {\r\n",
       "    font-family: \"PT Mono\";\r\n",
       "    font-size: 100%;\r\n",
       "}\r\n",
       "\r\n",
       "#fancy {\r\n",
       "    font-family:      Georgia;\r\n",
       "    position:         relative;\r\n",
       "    float:            left;\r\n",
       "    border:           2px solid red;\r\n",
       "    width:            600px;\r\n",
       "    padding-left:     20px;\r\n",
       "    padding-right:    20px;\r\n",
       "    padding-top:      10px;\r\n",
       "    font-family:      'Sacramento', cursive;\r\n",
       "    font-size:        26px;\r\n",
       "    background-color: #F4EBF3;\r\n",
       "    border-radius:    15px;\r\n",
       "}\r\n",
       "\r\n",
       "</Style>\r\n",
       "\r\n",
       "</style>"
      ]
     },
     "metadata": {},
     "output_type": "display_data"
    }
   ],
   "source": [
    "import { display } from \"tslab\";\n",
    "import { readFileSync } from \"fs\";\n",
    "\n",
    "const css = readFileSync(\"../style.css\", \"utf8\");\n",
    "display.html(`<style>${css}</style>`);"
   ]
  },
  {
   "cell_type": "markdown",
   "id": "d8e00c3a",
   "metadata": {},
   "source": [
    "# Minimizing a Finite State Machine\n",
    "\n",
    "In this notebook we show how a <span style=\"font-variant:small-caps;\">Dfa</span> can be minimized by identifying states the are equivalent."
   ]
  },
  {
   "cell_type": "markdown",
   "id": "e38b71c3",
   "metadata": {},
   "source": [
    "## Some Type Definitions"
   ]
  },
  {
   "cell_type": "markdown",
   "id": "16e357a7",
   "metadata": {},
   "source": [
    "* `Char` is an alias for `str`.\n",
    "* `State` is the abstract type of the states that make up the deterministic <span style=\"font-variant:small-caps;\">Fsm</span>."
   ]
  },
  {
   "cell_type": "code",
   "execution_count": 2,
   "id": "1186bb68",
   "metadata": {},
   "outputs": [],
   "source": [
    "type Char = string;\n",
    "type State = number;"
   ]
  },
  {
   "cell_type": "markdown",
   "id": "249e38b3",
   "metadata": {},
   "source": [
    "`TransRel` is the type that describes the transition function $\\delta$."
   ]
  },
  {
   "cell_type": "code",
   "execution_count": 3,
   "id": "8cf66d86",
   "metadata": {},
   "outputs": [],
   "source": [
    "type TransRel = Map<State, Map<Char, State>>;"
   ]
  },
  {
   "cell_type": "markdown",
   "id": "7a7d00bc",
   "metadata": {},
   "source": [
    "`DFA` is the type that describes the deterministic <span style=\"font-variant:small-caps;\">Fsm</span>."
   ]
  },
  {
   "cell_type": "code",
   "execution_count": 4,
   "id": "c7b632b4",
   "metadata": {},
   "outputs": [],
   "source": [
    "interface DFA {\n",
    "  Q: Set<State>;                 // set of states\n",
    "  Sigma: Set<Char>;              // alphabet\n",
    "  delta: TransRel;               // transition function\n",
    "  q0: State;                     // start state\n",
    "  F: Set<State>;                 // accepting states\n",
    "}"
   ]
  },
  {
   "cell_type": "markdown",
   "id": "19708c89",
   "metadata": {},
   "source": [
    "`Pair` is a pair of states."
   ]
  },
  {
   "cell_type": "code",
   "execution_count": 5,
   "id": "6ebb3c40",
   "metadata": {},
   "outputs": [],
   "source": [
    "type Pair = [State, State];"
   ]
  },
  {
   "cell_type": "markdown",
   "id": "7ccf827d",
   "metadata": {},
   "source": [
    "The states of the minimized <span style=\"font-variant:small-caps;\">Fsm</span> will be  sets of states of the original <span style=\"font-variant:small-caps;\">Fsm</span>.  These states will contain those states that are *equivalent*."
   ]
  },
  {
   "cell_type": "code",
   "execution_count": 6,
   "id": "6a8dd00a",
   "metadata": {},
   "outputs": [],
   "source": [
    "type SetState = ReadonlySet<State>;"
   ]
  },
  {
   "cell_type": "code",
   "execution_count": 7,
   "id": "660c8ab0",
   "metadata": {},
   "outputs": [],
   "source": [
    "type TransRelSet = Map<string, SetState>;"
   ]
  },
  {
   "cell_type": "code",
   "execution_count": 8,
   "id": "19938463",
   "metadata": {},
   "outputs": [],
   "source": [
    "interface MinDFA {\n",
    "  Q: Set<SetState>;\n",
    "  Sigma: Set<Char>;\n",
    "  delta: TransRelSet;\n",
    "  q0: SetState;\n",
    "  F: Set<SetState>;\n",
    "}"
   ]
  },
  {
   "cell_type": "markdown",
   "id": "4f9bfa30",
   "metadata": {},
   "source": [
    "The function `arb(M)` takes a non-empty set `M` as its argument and returns an *arbitrary* element from this set.  The set `M` is not changed.  The function `arb`also works if `M` is a `frozenset`. \n",
    "\n",
    "In order to type-check this function we define an abstract type `S` that serves as a *type parameter* and  denotes the type of the elements of the set `M`."
   ]
  },
  {
   "cell_type": "code",
   "execution_count": 9,
   "id": "7cf40f67",
   "metadata": {},
   "outputs": [],
   "source": [
    " function arb<S>(M: Set<S> | ReadonlySet<S>): S {\n",
    "  for (const x of M) return x;\n",
    "  throw new Error(\"Error: arb called with empty set!\");\n",
    "}"
   ]
  },
  {
   "cell_type": "markdown",
   "id": "f16ba38a",
   "metadata": {},
   "source": [
    "The function `cart_prod(A, B)` computes the *Cartesian product* $A \\times B$ of the sets $A$ and $B$ where $A \\times B$ is defined as follows:\n",
    "$$ A \\times B := \\{ (x, y) \\mid x \\in A \\wedge y \\in B \\}. $$\n",
    "In order to denote the type of the second set, we define the abstract type `T`."
   ]
  },
  {
   "cell_type": "code",
   "execution_count": 10,
   "id": "b2cac480",
   "metadata": {},
   "outputs": [],
   "source": [
    "function cartProd<S, T>(A: Set<S>, B: Set<T>): Set<[S, T]> {\n",
    "  const result = new Set<[S, T]>();\n",
    "  for (const a of A) {\n",
    "    for (const b of B) {\n",
    "      result.add([a, b]);\n",
    "    }\n",
    "  }\n",
    "  return result;\n",
    "}"
   ]
  },
  {
   "cell_type": "code",
   "execution_count": 11,
   "id": "d02d6b07",
   "metadata": {},
   "outputs": [
    {
     "name": "stdout",
     "output_type": "stream",
     "text": [
      "Set(6) {\n",
      "  \u001b[32m\"(1, 'a')\"\u001b[39m,\n",
      "  \u001b[32m\"(1, 'b')\"\u001b[39m,\n",
      "  \u001b[32m\"(1, 'c')\"\u001b[39m,\n",
      "  \u001b[32m\"(2, 'a')\"\u001b[39m,\n",
      "  \u001b[32m\"(2, 'b')\"\u001b[39m,\n",
      "  \u001b[32m\"(2, 'c')\"\u001b[39m\n",
      "}\n"
     ]
    }
   ],
   "source": [
    "// Beispielaufruf für cartProd\n",
    "const A = new Set([1, 2]);\n",
    "const B = new Set(['a', 'b', 'c']);\n",
    "\n",
    "const result = cartProd(A, B);\n",
    "\n",
    "// Ergebnis schön ausgeben:\n",
    "console.log(new Set([...result].map(([x, y]) => `(${x}, '${y}')`)));"
   ]
  },
  {
   "cell_type": "markdown",
   "id": "20122ee5",
   "metadata": {},
   "source": [
    "The function `separate` takes four arguments:\n",
    "- `Pairs`  is a set of pairs of states from some given <span style=\"font-variant:small-caps;\">Dfa</span> $F$.\n",
    "\n",
    "   If $(p_1, p_2) \\in \\texttt{Pairs}$, then $p_1$ and $p_2$ are known to be *separable*.\n",
    "   \n",
    "   Two states $p_1$ and $p_2$ are *separable* if there is a string $w$ such that processing $w$ in state\n",
    "   $p_1$ leads to an accepting state, while processing $w$ in state $p_2$ leads to a state that is not \n",
    "   accepting, or vice versa.\n",
    "- `States` is the set of all states of the <span style=\"font-variant:small-caps;\">Fsm</span> $F$,\n",
    "- `Σ` is the alphabet of the <span style=\"font-variant:small-caps;\">Dfa</span> $F$.\n",
    "- `𝛿` is the transition function of the <span style=\"font-variant:small-caps;\">Dfa</span>\n",
    "\n",
    "The function `separate(Pairs, States, Σ, 𝛿)` computes the set of pairs of states $(q_1, q_2)$ that are *separable* because there is some character $c \\in \\Sigma$ such that \n",
    "$$\\delta(q_1,c) = p_1, \\quad \\textrm{but} \\quad \\delta(q_2,c) = p_2 $$\n",
    "and $(p_1, p_2)$ is already known to be *separable* because $(p_1, p_2) \\in \\textrm{Pairs}$."
   ]
  },
  {
   "cell_type": "code",
   "execution_count": 12,
   "id": "e64175f0",
   "metadata": {},
   "outputs": [],
   "source": [
    "function separate(\n",
    "  Pairs: Set<Pair>,\n",
    "  States: Set<State>,\n",
    "  Sigma: Set<Char>,\n",
    "  delta: TransRel\n",
    "): Set<Pair> {\n",
    "  const Result = new Set<Pair>();\n",
    "\n",
    "  // Prüft, ob ein Paar (p1, p2) in Pairs existiert\n",
    "  const hasPair = (p1: State | undefined, p2: State | undefined): boolean => {\n",
    "    if (p1 === undefined || p2 === undefined) return false;\n",
    "    for (const [x, y] of Pairs) {\n",
    "      if (x === p1 && y === p2) return true;\n",
    "    }\n",
    "    return false;\n",
    "  };\n",
    "\n",
    "  for (const q1 of States) {\n",
    "    for (const q2 of States) {\n",
    "      for (const c of Sigma) {\n",
    "        const next1 = delta.get(q1)?.get(c);\n",
    "        const next2 = delta.get(q2)?.get(c);\n",
    "        if (hasPair(next1, next2)) {\n",
    "          Result.add([q1, q2]);\n",
    "        }\n",
    "      }\n",
    "    }\n",
    "  }\n",
    "\n",
    "  return Result;\n",
    "}"
   ]
  },
  {
   "cell_type": "markdown",
   "id": "11501b6d",
   "metadata": {},
   "source": [
    "Given a state `p` and a `Partition` of the set of all states, the function `find_equivalence_class(p, Partition)` returns the equivalence class of `p`, i.e. it returns the set of states from `Partition` that contains the state `x`. "
   ]
  },
  {
   "cell_type": "code",
   "execution_count": 13,
   "id": "1d16725a",
   "metadata": {},
   "outputs": [],
   "source": [
    "function findEquivalenceClass(\n",
    "  p: State,\n",
    "  Partition: Set<SetState>\n",
    "): SetState {\n",
    "  const classes = new Set<SetState>();\n",
    "\n",
    "  for (const C of Partition) {\n",
    "    if (C.has(p)) {\n",
    "      classes.add(C);\n",
    "    }\n",
    "  }\n",
    "\n",
    "  // Falls mehrere oder keine Klassen gefunden werden:\n",
    "  if (classes.size === 0) {\n",
    "    throw new Error(`State ${p} not found in any equivalence class!`);\n",
    "  }\n",
    "\n",
    "  // Gib eine beliebige (die einzige) Klasse zurück\n",
    "  return arb(classes);\n",
    "}"
   ]
  },
  {
   "cell_type": "markdown",
   "id": "a1a08689",
   "metadata": {},
   "source": [
    "The function `reachable(q0, Σ, 𝛿)` takes three arguments:\n",
    "* `q0` is the start state of an Fsm,\n",
    "* `Σ`  is the alphabet.\n",
    "* `𝛿`  is the transition function.  The transition function is assumed to be *complete*. `𝛿` is represented as a dictionary.   \n",
    "\n",
    "It returns the set of all states that can be reached from the start state `q0` by reading strings of characters from `Σ`.\n",
    "\n",
    "The result is computed via a *fixed point* computation."
   ]
  },
  {
   "cell_type": "code",
   "execution_count": 14,
   "id": "d8c9bd43",
   "metadata": {},
   "outputs": [],
   "source": [
    "function reachable(\n",
    "  q0: State,\n",
    "  Sigma: Set<Char>,\n",
    "  delta: TransRel\n",
    "): Set<State> {\n",
    "  const Result = new Set<State>([q0]);\n",
    "\n",
    "  while (true) {\n",
    "    const NewStates = new Set<State>();\n",
    "\n",
    "    for (const p of Result) {\n",
    "      const transitions = delta.get(p);\n",
    "      if (!transitions) continue;\n",
    "      for (const c of Sigma) {\n",
    "        const next = transitions.get(c);\n",
    "        if (next !== undefined) {\n",
    "          NewStates.add(next);\n",
    "        }\n",
    "      }\n",
    "    }\n",
    "\n",
    "    // Prüfen, ob NewStates schon in Result enthalten ist\n",
    "    let allKnown = true;\n",
    "    for (const s of NewStates) {\n",
    "      if (!Result.has(s)) {\n",
    "        allKnown = false;\n",
    "        Result.add(s);\n",
    "      }\n",
    "    }\n",
    "\n",
    "    if (allKnown) return Result; // Fixpunkt erreicht\n",
    "  }\n",
    "}"
   ]
  },
  {
   "cell_type": "markdown",
   "id": "2d79a04d",
   "metadata": {},
   "source": [
    "The function `all_separable(Q, A, Σ, 𝛿)` takes four arguments:\n",
    "* `Q` is the set of states of the Fsm.\n",
    "* `A` is the set of all accepting states,\n",
    "* `Σ`  is the alphabet.\n",
    "* `𝛿` is the transition function.  \n",
    "\n",
    "  `𝛿` is represented as a dictionary.   \n",
    "\n",
    "The function computes the set of all Pairs `(p, q)` such that `p` and `q` are separable, i.e. all pairs such that\n",
    "$$ \\exists s \\in \\Sigma^*: \\bigl(\\delta^*(p, s) \\in A \\wedge \\delta^*(q,s) \\not\\in A\\bigr) \\vee \n",
    "                           \\bigl(\\delta^*(p, s) \\not\\in A \\wedge \\delta^*(q,s) \\in A\\bigr). \n",
    "$$\n",
    "The result is computed via a *fixed point* computation:\n",
    "1. Initially, all accepting states are separated from the non-accepting states.\n",
    "2. If $p_1$ and $p_2$ are separable and $q_1$ and $q_2$ are two states such that there is a character \n",
    "   $c \\in \\Sigma$ such that\n",
    "   $$ \\delta(q_1, c) = p_1 \\quad \\mbox{and} \\quad \\delta(q_2, c) = p_2, $$\n",
    "   then $q_1$ and $q_2$ are separable."
   ]
  },
  {
   "cell_type": "code",
   "execution_count": 15,
   "id": "4a2022b8",
   "metadata": {},
   "outputs": [],
   "source": [
    "function allSeparable(\n",
    "  Q: Set<State>,\n",
    "  A: Set<State>,\n",
    "  Sigma: Set<Char>,\n",
    "  delta: TransRel\n",
    "): Set<Pair> {\n",
    "  // Anfang: akzeptierende vs. nicht-akzeptierende Zustände\n",
    "  const nonAccepting = new Set([...Q].filter((q) => !A.has(q)));\n",
    "\n",
    "  // cartProd(Q − A, A) ∪ cartProd(A, Q − A)\n",
    "  let Separable = new Set<Pair>([\n",
    "    ...cartProd(nonAccepting, A),\n",
    "    ...cartProd(A, nonAccepting),\n",
    "  ]);\n",
    "\n",
    "  while (true) {\n",
    "    const NewPairs = separate(Separable, Q, Sigma, delta);\n",
    "\n",
    "    // Prüfen, ob NewPairs eine echte Erweiterung ist\n",
    "    let isSubset = true;\n",
    "    for (const pair of NewPairs) {\n",
    "      if (![...Separable].some(([x, y]) => x === pair[0] && y === pair[1])) {\n",
    "        isSubset = false;\n",
    "        break;\n",
    "      }\n",
    "    }\n",
    "\n",
    "    if (isSubset) {\n",
    "      return Separable; // Fixpunkt erreicht\n",
    "    }\n",
    "\n",
    "    // Vereinigung Separable ∪ NewPairs\n",
    "    for (const pair of NewPairs) {\n",
    "      Separable.add(pair);\n",
    "    }\n",
    "  }\n",
    "}"
   ]
  },
  {
   "cell_type": "markdown",
   "id": "472f5008",
   "metadata": {},
   "source": [
    "The function `minimize(A)` takes a <span style=\"font-variant:small-caps;\">Dfa</span> `F` as its input.\n",
    "Here `F` is a 5-tuple of the form\n",
    "$$ F = (Q, \\Sigma, \\delta, q_0, A) $$\n",
    "The algorithm performs the following steps:\n",
    "1. All unreachable states are eliminated.\n",
    "2. All accepting states are separated form all non-accepting states.\n",
    "3. States are separated as long as possible.\n",
    "   Two states $p_1$ and $p_2$ are separable if there is a string \n",
    "   $w \\in \\Sigma^*$ such that \n",
    "   $$ \\Bigl(\\delta(p_1,w) \\in A \\;\\wedge\\; \\delta(p_2,w) \\not\\in A\\Bigr) \\quad \\vee \\quad \n",
    "      \\Bigl(\\delta(p_1,w) \\not\\in A \\;\\wedge\\; \\delta(p_2,w) \\in A\\Bigr)\n",
    "   $$\n",
    "4. States that are not separable are *equivalent* and are therefore identified and grouped\n",
    "   in equivalence classes.  The states in an equivalence class are then identified."
   ]
  },
  {
   "cell_type": "code",
   "execution_count": 16,
   "id": "f513924d",
   "metadata": {},
   "outputs": [],
   "source": [
    "function minimize(F: DFA): MinDFA {\n",
    "  let { Q, Sigma, delta, q0, F: Accepting } = F;\n",
    "\n",
    "  // 1️⃣ Eliminate unreachable states\n",
    "  Q = reachable(q0, Sigma, delta);\n",
    "\n",
    "  // 2️⃣ Compute separable pairs\n",
    "  const Separable = allSeparable(Q, Accepting, Sigma, delta);\n",
    "\n",
    "  // 3️⃣ Compute equivalent pairs (Q×Q \\ Separable)\n",
    "  const Equivalent = new Set<Pair>();\n",
    "  for (const [p, q] of cartProd(Q, Q)) {\n",
    "    if (![...Separable].some(([x, y]) => x === p && y === q)) {\n",
    "      Equivalent.add([p, q]);\n",
    "    }\n",
    "  }\n",
    "\n",
    "  // 4️⃣ Build equivalence classes\n",
    "  const EquivClasses = new Set<SetState>();\n",
    "  for (const q of Q) {\n",
    "    const cls = new Set<State>();\n",
    "    for (const p of Q) {\n",
    "      if ([...Equivalent].some(([x, y]) => x === p && y === q)) {\n",
    "        cls.add(p);\n",
    "      }\n",
    "    }\n",
    "    EquivClasses.add(cls);\n",
    "  }\n",
    "\n",
    "  // 5️⃣ Determine new start state\n",
    "  const newQ0 = arb(new Set([...EquivClasses].filter((C) => C.has(q0))));\n",
    "\n",
    "  // 6️⃣ Determine new accepting states\n",
    "  const newAccept = new Set<SetState>(\n",
    "    [...EquivClasses].filter((C) => {\n",
    "      const rep = arb(C);\n",
    "      return Accepting.has(rep);\n",
    "    })\n",
    "  );\n",
    "\n",
    "  // 7️⃣ Build new transition function\n",
    "  const newDelta: TransRelSet = new Map();\n",
    "\n",
    "  for (const q of Q) {\n",
    "    const classOfQ = findEquivalenceClass(q, EquivClasses);\n",
    "    for (const c of Sigma) {\n",
    "      const next = delta.get(q)?.get(c);\n",
    "      if (next !== undefined) {\n",
    "        const classOfP = findEquivalenceClass(next, EquivClasses);\n",
    "        newDelta.set(JSON.stringify([Array.from(classOfQ), c]), classOfP);\n",
    "      } else {\n",
    "        newDelta.set(JSON.stringify([Array.from(classOfQ), c]), new Set());\n",
    "      }\n",
    "    }\n",
    "  }\n",
    "\n",
    "  // 8️⃣ Return minimized DFA\n",
    "  return {\n",
    "    Q: EquivClasses,\n",
    "    Sigma,\n",
    "    delta: newDelta,\n",
    "    q0: newQ0,\n",
    "    F: newAccept,\n",
    "  };\n",
    "}"
   ]
  },
  {
   "cell_type": "code",
   "execution_count": null,
   "id": "98e4b048",
   "metadata": {},
   "outputs": [],
   "source": []
  }
 ],
 "metadata": {
  "kernelspec": {
   "display_name": "TypeScript",
   "language": "typescript",
   "name": "tslab"
  },
  "language_info": {
   "codemirror_mode": {
    "mode": "typescript",
    "name": "javascript",
    "typescript": true
   },
   "file_extension": ".ts",
   "mimetype": "text/typescript",
   "name": "typescript",
   "version": "3.7.2"
  }
 },
 "nbformat": 4,
 "nbformat_minor": 5
}
