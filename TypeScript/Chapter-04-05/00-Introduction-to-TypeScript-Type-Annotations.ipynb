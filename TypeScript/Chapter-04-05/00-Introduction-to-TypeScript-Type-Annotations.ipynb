{
 "cells": [
  {
   "cell_type": "code",
   "execution_count": 1,
   "id": "4680a8a8",
   "metadata": {},
   "outputs": [
    {
     "data": {
      "text/html": [
       "<style><link href='http://fonts.googleapis.com/css?family=Alegreya+Sans:100,300,400,500,700,800,900,100italic,300italic,400italic,500italic,700italic,800italic,900italic' rel='stylesheet' type='text/css'>\r\n",
       "<link href='http://fonts.googleapis.com/css?family=Arvo:400,700,400italic' rel='stylesheet' type='text/css'>\r\n",
       "<link href='http://fonts.googleapis.com/css?family=PT+Mono' rel='stylesheet' type='text/css'>\r\n",
       "<link href='http://fonts.googleapis.com/css?family=Shadows+Into+Light' rel='stylesheet' type='text/css'>\r\n",
       "<link href='http://fonts.googleapis.com/css?family=Philosopher:400,700,400italic,700italic' rel='stylesheet' type='text/css'>\r\n",
       "<link href=\"http://fonts.googleapis.com/css?family=Sacramento\" rel=\"stylesheet\" type=\"text/css\">\r\n",
       "\r\n",
       "<style>\r\n",
       "\r\n",
       "@font-face {\r\n",
       "    font-family: \"Computer Modern\";\r\n",
       "    src: url('http://mirrors.ctan.org/fonts/cm-unicode/fonts/otf/cmunss.otf');\r\n",
       "}\r\n",
       "\r\n",
       ".container { width: 100% }\r\n",
       "\r\n",
       "/* Formatting for header cells */\r\n",
       ".text_cell_render h1 {\r\n",
       "    font-family: 'Philosopher', sans-serif;\r\n",
       "    font-weight: 400;\r\n",
       "    font-size: 2.2em;\r\n",
       "    line-height: 100%;\r\n",
       "    color: rgb(0, 80, 120);\r\n",
       "    margin-bottom: 0.1em;\r\n",
       "    margin-top: 0.1em;\r\n",
       "    display: block;\r\n",
       "}\t\r\n",
       ".text_cell_render h2 {\r\n",
       "    font-family: 'Philosopher', serif;\r\n",
       "    font-weight: 400;\r\n",
       "    font-size: 1.9em;\r\n",
       "    line-height: 100%;\r\n",
       "    color: rgb(200,100,0);\r\n",
       "    margin-bottom: 0.1em;\r\n",
       "    margin-top: 0.1em;\r\n",
       "    display: block;\r\n",
       "}\t\r\n",
       "\r\n",
       ".text_cell_render h3 {\r\n",
       "    font-family: 'Philosopher', serif;\r\n",
       "    margin-top:12px;\r\n",
       "    margin-bottom: 3px;\r\n",
       "    font-style: italic;\r\n",
       "    color: rgb(94,127,192);\r\n",
       "}\r\n",
       "\r\n",
       ".text_cell_render h4 {\r\n",
       "    font-family: 'Philosopher', serif;\r\n",
       "}\r\n",
       "\r\n",
       ".text_cell_render h5 {\r\n",
       "    font-family: 'Alegreya Sans', sans-serif;\r\n",
       "    font-weight: 300;\r\n",
       "    font-size: 16pt;\r\n",
       "    color: grey;\r\n",
       "    font-style: italic;\r\n",
       "    margin-bottom: .1em;\r\n",
       "    margin-top: 0.1em;\r\n",
       "    display: block;\r\n",
       "}\r\n",
       "\r\n",
       ".text_cell_render h6 {\r\n",
       "    font-family: 'PT Mono', sans-serif;\r\n",
       "    font-weight: 300;\r\n",
       "    font-size: 10pt;\r\n",
       "    color: grey;\r\n",
       "    margin-bottom: 1px;\r\n",
       "    margin-top: 1px;\r\n",
       "}\r\n",
       "\r\n",
       ".text_cell_render em {\r\n",
       "    font-family: 'Philosopher', sans-serif;\r\n",
       "    color:        blue;\r\n",
       "    background-color: rgb(255,220,180);\r\n",
       "    font-size:    110%;\r\n",
       "    margin-left:   2px;\r\n",
       "    margin-right:  2px;\r\n",
       "    font-weight:   100;\r\n",
       "}\r\n",
       "\r\n",
       ".text_cell_render b {\r\n",
       "    color:            rgb(255,195,195);\r\n",
       "    background-color: rgb(0,0,0);\r\n",
       "    font-size:    110%;\r\n",
       "    margin-left:   2px;\r\n",
       "    margin-right:  2px;\r\n",
       "    font-weight:   650;\r\n",
       "}\r\n",
       "\r\n",
       ".text_cell_render u {\r\n",
       "    color:            blue;\r\n",
       "    font-size:    110%;\r\n",
       "    margin-left:   2px;\r\n",
       "    margin-right:  2px;\r\n",
       "    font-weight:   650;\r\n",
       "}\r\n",
       "\r\n",
       ".text_cell_render tt {\r\n",
       "    font-size:    120%;\r\n",
       "    margin-left:   2px;\r\n",
       "    margin-right:  2px;\r\n",
       "    font-weight:   150;\r\n",
       "}\r\n",
       "\r\n",
       ".Codemirror {\r\n",
       "    font-family: \"PT Mono\";\r\n",
       "    font-size: 100%;\r\n",
       "}\r\n",
       "\r\n",
       "#fancy {\r\n",
       "    font-family:      Georgia;\r\n",
       "    position:         relative;\r\n",
       "    float:            left;\r\n",
       "    border:           2px solid red;\r\n",
       "    width:            600px;\r\n",
       "    padding-left:     20px;\r\n",
       "    padding-right:    20px;\r\n",
       "    padding-top:      10px;\r\n",
       "    font-family:      'Sacramento', cursive;\r\n",
       "    font-size:        26px;\r\n",
       "    background-color: #F4EBF3;\r\n",
       "    border-radius:    15px;\r\n",
       "}\r\n",
       "\r\n",
       "</Style>\r\n",
       "\r\n",
       "</style>"
      ]
     },
     "metadata": {},
     "output_type": "display_data"
    }
   ],
   "source": [
    "import { display } from \"tslab\";\n",
    "import { readFileSync } from \"fs\";\n",
    "\n",
    "const css = readFileSync(\"../style.css\", \"utf8\");\n",
    "display.html(`<style>${css}</style>`);"
   ]
  },
  {
   "cell_type": "markdown",
   "id": "c1800490",
   "metadata": {},
   "source": [
    "# An Introduction to Static Typing in TypeScript\n",
    "\n",
    "TypeScript is a statically typed superset of JavaScript that adds optional type annotations to the language.\n",
    "This means you can gradually introduce types into existing JavaScript code, combining type safety with the flexibility of dynamic programming.\n",
    "\n",
    "Type annotations can be applied to variables, function parameters, and return values, providing clearer documentation and enabling powerful compile-time checks.\n",
    "TypeScript’s type system supports advanced concepts such as\n",
    "+ *generic types*, \n",
    "+ *union and intersection types*, and \n",
    "+ *custom user-defined types and interfaces*. \n",
    "\n",
    "By incrementally adding types, developers can make their code more robust, self-documenting, and maintainable while catching potential errors before runtime.\n",
    "\n",
    "## Setting Up TypeScript for Development\n",
    "Therefore, to use gradual typing in a *conda environment*, you have to create this environment using the following command:\n",
    "```\n",
    "conda create -n fl\n",
    "```\n",
    "After activation this environment via the command\n",
    "```\n",
    "conda activate fl\n",
    "```\n",
    "we can install `nodejs` with the command\n",
    "```\n",
    "conda install nodejs\n",
    "```\n",
    "After Nodejs the TypeScript Kernel is needed.\n",
    "```\n",
    "npm install -g tslab\n",
    "```\n",
    "After intall via npm this command is needed.\n",
    "\n",
    "```\n",
    "tslab install --sys-prefix\n",
    "\n",
    "```\n",
    "The next cell activates this extension.\n"
   ]
  },
  {
   "cell_type": "markdown",
   "id": "b344504d",
   "metadata": {},
   "source": [
    "## Imports\n",
    "For this Jupyter Notebook some Package are needed."
   ]
  },
  {
   "cell_type": "code",
   "execution_count": 2,
   "id": "0019dc8e",
   "metadata": {},
   "outputs": [
    {
     "name": "stderr",
     "output_type": "stream",
     "text": []
    },
    {
     "name": "stdout",
     "output_type": "stream",
     "text": [
      "\n",
      "up to date, audited 10 packages in 10s\n",
      "\n",
      "1 package is looking for funding\n",
      "  run `npm fund` for details\n",
      "\n",
      "found 0 vulnerabilities\n",
      "\n"
     ]
    }
   ],
   "source": [
    "const { execSync } = await import('child_process');\n",
    "console.log(execSync('npm install readline-sync').toString());"
   ]
  },
  {
   "cell_type": "code",
   "execution_count": 3,
   "id": "2a17d26c",
   "metadata": {},
   "outputs": [],
   "source": [
    "import readlineSync from \"readline-sync\";"
   ]
  },
  {
   "cell_type": "markdown",
   "id": "2b24b7be",
   "metadata": {},
   "source": [
    "## Finding Errors by Type Checking\n",
    "The following two lines contain a type error that the `TypeScript` compiler can detect:"
   ]
  },
  {
   "cell_type": "code",
   "execution_count": 9,
   "id": "94e5667c",
   "metadata": {},
   "outputs": [
    {
     "name": "stderr",
     "output_type": "stream",
     "text": [
      "3:11 - Argument of type 'string' is not assignable to parameter of type 'number'.\n"
     ]
    }
   ],
   "source": [
    "const number = String(readlineSync.question(\"What is your favourite number? \"));\n",
    "\n",
    "if (isNaN(number)) {\n",
    "  console.log(\"That's not a valid number!\");\n",
    "} else {\n",
    "  console.log(\"It is\", number + 1);\n",
    "}"
   ]
  },
  {
   "cell_type": "markdown",
   "id": "8c247f37",
   "metadata": {},
   "source": [
    "The correct version of the two lines above would have been as follows:"
   ]
  },
  {
   "cell_type": "code",
   "execution_count": 12,
   "id": "7ace274e",
   "metadata": {},
   "outputs": [
    {
     "name": "stdout",
     "output_type": "stream",
     "text": [
      "It is \u001b[33m43\u001b[39m\n"
     ]
    }
   ],
   "source": [
    "const number = Number(readlineSync.question(\"What is your favourite number? \"));\n",
    "if (isNaN(number)) {\n",
    "  console.log(\"That's not a valid number!\");\n",
    "} else {\n",
    "  console.log(\"It is\", number + 1);\n",
    "}"
   ]
  },
  {
   "cell_type": "markdown",
   "id": "ae67818e",
   "metadata": {},
   "source": [
    "## Type Annotations\n",
    "\n",
    "The most basic form of type checking in TypeScript is specifying the types of variables and function return values. To type check a function, you annotate the type of each parameter by adding a colon followed by the type after the parameter name. The return type of the function is specified using a colon `(:)` after the parameter list, as shown below:"
   ]
  },
  {
   "cell_type": "code",
   "execution_count": 13,
   "id": "919e84e9",
   "metadata": {},
   "outputs": [],
   "source": [
    "function add(a: number, b: number): number {\n",
    "  return a + b;\n",
    "}"
   ]
  },
  {
   "cell_type": "markdown",
   "id": "de33d9d5",
   "metadata": {},
   "source": [
    "In TypeScript, however, the type checker immediately reports an error when you call the function `add` with arguments that do not match the expected types.\n",
    "Unlike Python, TypeScript performs static type checking at compile time — before the code runs.\n",
    "This means that TypeScript can detect type errors early, helping you catch potential bugs before execution.\n",
    "However, once the code is compiled to JavaScript, all type information is removed, and the resulting JavaScript can still run in any environment that supports it."
   ]
  },
  {
   "cell_type": "code",
   "execution_count": 14,
   "id": "62c1f082",
   "metadata": {},
   "outputs": [
    {
     "name": "stderr",
     "output_type": "stream",
     "text": [
      "2:5 - Argument of type 'string' is not assignable to parameter of type 'number'.\n"
     ]
    }
   ],
   "source": [
    "const name = \"Karl\";\n",
    "add(\"Hello \", name); // ❌ Fehler: Argument vom Typ 'string' ist nicht zuweisbar an Parameter vom Typ 'number'"
   ]
  },
  {
   "cell_type": "markdown",
   "id": "d8ef7bc7",
   "metadata": {},
   "source": [
    "In TypeScript, type annotations are only used at compile time and are not available at runtime.\n",
    "This means that once TypeScript code is compiled to JavaScript, all type information is completely removed."
   ]
  },
  {
   "cell_type": "code",
   "execution_count": 15,
   "id": "4e7768fc",
   "metadata": {},
   "outputs": [
    {
     "name": "stdout",
     "output_type": "stream",
     "text": [
      "{ a: \u001b[32m'number'\u001b[39m, b: \u001b[32m'number'\u001b[39m, return: \u001b[32m'number'\u001b[39m }\n"
     ]
    }
   ],
   "source": [
    "function add(a: number, b: number): number {\n",
    "  return a + b;\n",
    "}\n",
    "(add as any).__annotations__ = { a: \"number\", b: \"number\", return: \"number\" };\n",
    "\n",
    "console.log((add as any).__annotations__);\n",
    "// { a: 'number', b: 'number', return: 'number' }"
   ]
  },
  {
   "cell_type": "markdown",
   "id": "947096a5",
   "metadata": {},
   "source": [
    "## Built-in Types\n",
    "\n",
    "In TypeScript, all common primitive types such as number, string, and boolean are supported.\n",
    "In addition, complex types like arrays (number[]), tuples ([string, number]), and objects ({ key: value }) can also be annotated.\n",
    "\n",
    "The following function average computes the arithmetic mean of the numbers in an array:"
   ]
  },
  {
   "cell_type": "code",
   "execution_count": 16,
   "id": "66708073",
   "metadata": {},
   "outputs": [],
   "source": [
    "function average(numbers: number[]): number {\n",
    "  return numbers.reduce((a, b) => a + b, 0) / numbers.length;\n",
    "}"
   ]
  },
  {
   "cell_type": "code",
   "execution_count": 17,
   "id": "f2c56bed",
   "metadata": {},
   "outputs": [
    {
     "name": "stdout",
     "output_type": "stream",
     "text": [
      "\u001b[33m2.5\u001b[39m\n"
     ]
    }
   ],
   "source": [
    "console.log(average([1, 2, 3, 4]));     // ✅ OK"
   ]
  },
  {
   "cell_type": "markdown",
   "id": "11fe4731",
   "metadata": {},
   "source": [
    "The following cell has a type error, although it executes without a problem."
   ]
  },
  {
   "cell_type": "code",
   "execution_count": 18,
   "id": "83aedb40",
   "metadata": {},
   "outputs": [
    {
     "name": "stdout",
     "output_type": "stream",
     "text": [
      "\u001b[33m2\u001b[39m\n"
     ]
    }
   ],
   "source": [
    "console.log(average([1.0, 2.0, 3.0]));  // ✅ auch OK in TypeScript"
   ]
  },
  {
   "cell_type": "markdown",
   "id": "bf0f2fc5",
   "metadata": {},
   "source": [
    "## Custom Types\n",
    "You can define your own types using the `class` keyword. Note that `this` does not have a type annotation."
   ]
  },
  {
   "cell_type": "code",
   "execution_count": 20,
   "id": "1ca89bd6",
   "metadata": {},
   "outputs": [],
   "source": [
    "class Person {\n",
    "  name: string;\n",
    "\n",
    "  constructor(name: string) {\n",
    "    this.name = name;\n",
    "  }\n",
    "\n",
    "  greet(): string {\n",
    "    return `Hello, ${this.name}!`;\n",
    "  }\n",
    "}"
   ]
  },
  {
   "cell_type": "markdown",
   "id": "0178bc81",
   "metadata": {},
   "source": [
    "When a function does not return a value, the return type is `void`."
   ]
  },
  {
   "cell_type": "code",
   "execution_count": 21,
   "id": "b14d5144",
   "metadata": {},
   "outputs": [],
   "source": [
    "function salve(p: Person): void {\n",
    "  console.log(p.greet());\n",
    "}"
   ]
  },
  {
   "cell_type": "code",
   "execution_count": 22,
   "id": "5b7899de",
   "metadata": {},
   "outputs": [
    {
     "name": "stdout",
     "output_type": "stream",
     "text": [
      "Hello, Julius Caesar!\n"
     ]
    }
   ],
   "source": [
    "const jc = new Person(\"Julius Caesar\");\n",
    "salve(jc);"
   ]
  },
  {
   "cell_type": "markdown",
   "id": "d163ec5a",
   "metadata": {},
   "source": [
    "In TypeScript, the *union* operator `|` is used to indicate that a variable or parameter can hold values of multiple possible types.\n",
    "\n",
    "For example, the following function `greet_name` accepts either a `string` or an object `(Record<string, string>)` that represents a person’s name:"
   ]
  },
  {
   "cell_type": "code",
   "execution_count": 23,
   "id": "e3c495d6",
   "metadata": {},
   "outputs": [],
   "source": [
    "function greet_name(name: string | Record<string, string>): string {\n",
    "  if (typeof name === \"string\") {\n",
    "    return \"Hi \" + name + \"!\";\n",
    "  } else {\n",
    "    return `Bienvenido, Señor ${name[\"given\"]} ${name[\"family\"]}.`;\n",
    "  }\n",
    "}"
   ]
  },
  {
   "cell_type": "code",
   "execution_count": 24,
   "id": "c386d97c",
   "metadata": {},
   "outputs": [
    {
     "name": "stdout",
     "output_type": "stream",
     "text": [
      "Hi Alice!\n"
     ]
    }
   ],
   "source": [
    "console.log(greet_name(\"Alice\"));"
   ]
  },
  {
   "cell_type": "code",
   "execution_count": 25,
   "id": "9a2a9320",
   "metadata": {},
   "outputs": [
    {
     "name": "stdout",
     "output_type": "stream",
     "text": [
      "Bienvenido, Señor Esteban Ramirez.\n"
     ]
    }
   ],
   "source": [
    "console.log(greet_name({ given: \"Esteban\", family: \"Ramirez\" }));"
   ]
  },
  {
   "cell_type": "markdown",
   "id": "6f4265d5",
   "metadata": {},
   "source": [
    "## Using `TypeVar` for Generic Functions"
   ]
  },
  {
   "cell_type": "markdown",
   "id": "ccf9fc91",
   "metadata": {},
   "source": [
    "TypeScript could automatic find the type of the Variable: For Example"
   ]
  },
  {
   "cell_type": "code",
   "execution_count": 30,
   "id": "0619bdd2",
   "metadata": {},
   "outputs": [
    {
     "name": "stdout",
     "output_type": "stream",
     "text": [
      "[ \u001b[32m'Caesar'\u001b[39m, \u001b[33m42\u001b[39m ]\n"
     ]
    }
   ],
   "source": [
    "swap<number, string>([42, \"Caesar\"]);  // explizite Typangabe"
   ]
  },
  {
   "cell_type": "markdown",
   "id": "8221c024",
   "metadata": {},
   "source": [
    "The function `swap` takes a pair of elements that should be of the same type.  \n",
    "It swaps the order of these elements. swaps the elements of a pair (a 2-tuple). The function   \n",
    "`swap` is *generic*, meaning it is able to handle pairs of integers, strings, or any other type."
   ]
  },
  {
   "cell_type": "code",
   "execution_count": 26,
   "id": "fe02e505",
   "metadata": {},
   "outputs": [],
   "source": [
    "function swap<S, T>(pair: [S, T]): [T, S] {\n",
    "  const [x, y] = pair;\n",
    "  return [y, x];\n",
    "}"
   ]
  },
  {
   "cell_type": "markdown",
   "id": "3cd21c5d",
   "metadata": {},
   "source": [
    "In the next cell, the type variable `T` is instantiated as `int`."
   ]
  },
  {
   "cell_type": "code",
   "execution_count": 27,
   "id": "81995fee",
   "metadata": {},
   "outputs": [
    {
     "name": "stdout",
     "output_type": "stream",
     "text": [
      "[ \u001b[33m2\u001b[39m, \u001b[33m1\u001b[39m ]\n"
     ]
    }
   ],
   "source": [
    "console.log(swap([1, 2]));       // [2, 1]"
   ]
  },
  {
   "cell_type": "markdown",
   "id": "759f47ed",
   "metadata": {},
   "source": [
    "In the following cell, the type variable `T` is instantiated as `str`."
   ]
  },
  {
   "cell_type": "code",
   "execution_count": 28,
   "id": "7cef6e2d",
   "metadata": {},
   "outputs": [
    {
     "name": "stdout",
     "output_type": "stream",
     "text": [
      "[ \u001b[32m'b'\u001b[39m, \u001b[32m'a'\u001b[39m ]\n"
     ]
    }
   ],
   "source": [
    "console.log(swap([\"a\", \"b\"]));   // ['b', 'a']"
   ]
  },
  {
   "cell_type": "markdown",
   "id": "6338c4a1",
   "metadata": {},
   "source": [
    "Below, the type variable the type variable `T` is instantiated as `object`."
   ]
  },
  {
   "cell_type": "code",
   "execution_count": 29,
   "id": "1085d68c",
   "metadata": {},
   "outputs": [
    {
     "name": "stdout",
     "output_type": "stream",
     "text": [
      "[ \u001b[32m'a'\u001b[39m, \u001b[33m1\u001b[39m ]\n"
     ]
    }
   ],
   "source": [
    "console.log(swap([1, \"a\"]));     // ['a', 1]"
   ]
  },
  {
   "cell_type": "markdown",
   "id": "a99ed2d5",
   "metadata": {},
   "source": [
    "## Recursive Types"
   ]
  },
  {
   "cell_type": "code",
   "execution_count": 33,
   "id": "8d649aaa",
   "metadata": {},
   "outputs": [],
   "source": [
    "type RecursiveTuple = number | string | RecursiveTuple[];"
   ]
  },
  {
   "cell_type": "code",
   "execution_count": 34,
   "id": "bfd1c805",
   "metadata": {},
   "outputs": [],
   "source": [
    "function flattenRecursiveTuple(t: RecursiveTuple): (number | string)[] {\n",
    "  const result: (number | string)[] = [];\n",
    "\n",
    "  if (typeof t === \"number\" || typeof t === \"string\") {\n",
    "    result.push(t);\n",
    "  } else if (Array.isArray(t)) {\n",
    "    for (const elem of t) {\n",
    "      result.push(...flattenRecursiveTuple(elem));\n",
    "    }\n",
    "  }\n",
    "\n",
    "  return result;\n",
    "}"
   ]
  },
  {
   "cell_type": "code",
   "execution_count": 35,
   "id": "6f68ec2c",
   "metadata": {},
   "outputs": [
    {
     "name": "stdout",
     "output_type": "stream",
     "text": [
      "[ \u001b[33m1\u001b[39m, \u001b[32m'a'\u001b[39m, \u001b[33m2\u001b[39m, \u001b[32m'b'\u001b[39m, \u001b[33m3\u001b[39m, \u001b[32m'c'\u001b[39m ]\n"
     ]
    }
   ],
   "source": [
    "// Beispielstruktur (entspricht tuple in Python)\n",
    "const nestedTuple: RecursiveTuple = [1, \"a\", [2, \"b\", [3, \"c\"]]];\n",
    "\n",
    "const flattened = flattenRecursiveTuple(nestedTuple);\n",
    "console.log(flattened);\n",
    "// → [1, 'a', 2, 'b', 3, 'c']"
   ]
  },
  {
   "cell_type": "code",
   "execution_count": null,
   "id": "cfc00aef",
   "metadata": {},
   "outputs": [],
   "source": []
  }
 ],
 "metadata": {
  "kernelspec": {
   "display_name": "TypeScript",
   "language": "typescript",
   "name": "tslab"
  },
  "language_info": {
   "codemirror_mode": {
    "mode": "typescript",
    "name": "javascript",
    "typescript": true
   },
   "file_extension": ".ts",
   "mimetype": "text/typescript",
   "name": "typescript",
   "version": "3.7.2"
  }
 },
 "nbformat": 4,
 "nbformat_minor": 5
}
