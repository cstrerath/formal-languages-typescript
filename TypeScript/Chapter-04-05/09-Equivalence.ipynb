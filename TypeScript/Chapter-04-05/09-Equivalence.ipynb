{
 "cells": [
  {
   "cell_type": "code",
   "execution_count": null,
   "id": "0c1fa992",
   "metadata": {},
   "outputs": [],
   "source": [
    "import { display } from \"tslab\";\n",
    "import { readFileSync } from \"fs\";\n",
    "\n",
    "const css = readFileSync(\"../style.css\", \"utf8\");\n",
    "display.html(`<style>${css}</style>`);"
   ]
  },
  {
   "cell_type": "markdown",
   "id": "0b6e5608",
   "metadata": {},
   "source": [
    "# Checking the Equivalence of Regular Expressions"
   ]
  },
  {
   "cell_type": "markdown",
   "id": "a2377f0b",
   "metadata": {},
   "source": [
    "In order to check whether two regular expressions $r_1$ and $r_2$ are *equivalent*, perform the \n",
    "following steps:\n",
    "- convert the regular expressions $r_1$ and $r_2$ into non-deterministic *FSMs*\n",
    "  $F_1$ and $F_2$ such that $L(r_1) = L(F_1)$ and $L(r_2) = L(F_2)$,\n",
    "- convert the non-deterministic *FSMs* $F_1$ and $F_2$ into deterministic *FSMs*\n",
    "  $D_1$ and $D_2$ such that $L(D_1) = L(F_1)$ and $L(D_2) = L(F_2)$\n",
    "- check whether both $L(D_1) \\backslash L(D_2)$ and $L(D_2) \\backslash L(D_1)$ are empty."
   ]
  },
  {
   "cell_type": "markdown",
   "id": "a152cffe",
   "metadata": {},
   "source": [
    "The notebook `Regexp-2-NFA.ipynb` contains the function `RegExp2NFA.toNFA` that can be used to compute a non-deterministic \n",
    "<span style=\"font-variant:small-caps;\">Fsm</span> that accepts the language described by a given regular expression."
   ]
  },
  {
   "cell_type": "code",
   "execution_count": null,
   "id": "c0130e50",
   "metadata": {},
   "outputs": [],
   "source": [
    "import { RegExp2NFA, parseRegex, nfa2dfa, minimizeDFA, DFA, showNFA, dfaToDot } from \"./09-Equivalence\";"
   ]
  },
  {
   "cell_type": "markdown",
   "id": "7b586c27",
   "metadata": {},
   "source": [
    "`NFA-2-DFA.ts` contains the function `nfa2dfa` that converts a non-deterministic \n",
    "*Fsm* into an equivalent deterministic *Fsm*."
   ]
  },
  {
   "cell_type": "markdown",
   "id": "a4ee7ae2",
   "metadata": {},
   "source": [
    "Given two sets `A` and `B`, the function `cartesian_product(A, B)` computes the \n",
    "<em style=\"color:blue\">cartesian product</em> $A \\times B$ which is defined as\n",
    "$$ A \\times B := \\{ (x, y) \\mid x \\in A \\wedge y \\in B \\}. $$"
   ]
  },
  {
   "cell_type": "code",
   "execution_count": null,
   "id": "33c3472d",
   "metadata": {},
   "outputs": [],
   "source": [
    "function cartesianProduct<S, T>(A: Set<S>, B: Set<T>): Set<[S, T]> {\n",
    "  const result = new Set<[S, T]>();\n",
    "  for (const x of A) for (const y of B) result.add([x, y]);\n",
    "  return result;\n",
    "}"
   ]
  },
  {
   "cell_type": "code",
   "execution_count": null,
   "id": "a08a7b74",
   "metadata": {},
   "outputs": [],
   "source": [
    "const A = new Set([1, 2]);\n",
    "const B = new Set([\"a\", \"b\"]);\n",
    "\n",
    "const result = cartesianProduct(A, B);\n",
    "console.log(result);"
   ]
  },
  {
   "cell_type": "code",
   "execution_count": null,
   "id": "c95d4762",
   "metadata": {},
   "outputs": [],
   "source": [
    "type Char = string;\n",
    "type State = string;\n",
    "type StatePair = [State, State];\n",
    "\n",
    "type TransRel1 = Map<string, string>; // key: \"q,a\" → value: \"p\"\n",
    "type TransRel2 = Map<string, string>;\n",
    "\n",
    "interface DFA1 {\n",
    "  Q: Set<string>;\n",
    "  Sigma: Set<Char>;\n",
    "  delta: TransRel1;\n",
    "  q0: string;\n",
    "  F: Set<string>;\n",
    "}\n",
    "\n",
    "interface DFA2 {\n",
    "  Q: Set<string>;\n",
    "  Sigma: Set<Char>;\n",
    "  delta: TransRel2;\n",
    "  q0: string;\n",
    "  F: Set<string>;\n",
    "}\n"
   ]
  },
  {
   "cell_type": "markdown",
   "id": "f305a325",
   "metadata": {},
   "source": [
    "Given to deterministic *FSMs* `F1` and `F2`, the expression `fsm_complement(F1, F2)` computes a deterministic \n",
    "*FSM* that recognizes the language  $L(F_1)\\backslash L(F_2)$."
   ]
  },
  {
   "cell_type": "code",
   "execution_count": null,
   "id": "14e13a8c",
   "metadata": {},
   "outputs": [],
   "source": [
    "function fsmComplement(F1: DFA1, F2: DFA1): DFA2 {\n",
    "  // ❗ Kein Destructuring — vermeidet tslab-„exports“-Fehler\n",
    "  const States1 = F1.Q;\n",
    "  const Sigma = F1.Sigma;\n",
    "  const delta1 = F1.delta;\n",
    "  const q1 = F1.q0;\n",
    "  const A1 = F1.F;\n",
    "\n",
    "  const States2 = F2.Q;\n",
    "  const delta2 = F2.delta;\n",
    "  const q2 = F2.q0;\n",
    "  const A2 = F2.F;\n",
    "\n",
    "  // Zustände kombinieren\n",
    "  const States = cartesianProduct(States1, States2);\n",
    "  const delta: TransRel2 = new Map();\n",
    "\n",
    "  for (const [p1, p2] of States) {\n",
    "    for (const c of Sigma) {\n",
    "      const next1 = delta1.get(`${p1},${c}`);\n",
    "      const next2 = delta2.get(`${p2},${c}`);\n",
    "      if (!next1 || !next2) {\n",
    "        throw new Error(`Missing transition for (${p1}, ${p2}) on '${c}'`);\n",
    "      }\n",
    "      delta.set(`(${p1},${p2}),${c}`, `(${next1},${next2})`);\n",
    "    }\n",
    "  }\n",
    "\n",
    "  // Akzeptierende Zustände: A1 × (States2 \\ A2)\n",
    "  const A2Complement = new Set([...States2].filter((s) => !A2.has(s)));\n",
    "  const F = new Set(\n",
    "    [...cartesianProduct(A1, A2Complement)].map(([p1, p2]) => `(${p1},${p2})`)\n",
    "  );\n",
    "\n",
    "  const Q = new Set([...States].map(([p1, p2]) => `(${p1},${p2})`));\n",
    "  const q0 = `(${q1},${q2})`;\n",
    "\n",
    "  return { Q, Sigma, delta, q0, F };\n",
    "}"
   ]
  },
  {
   "cell_type": "markdown",
   "id": "120d68ec",
   "metadata": {},
   "source": [
    "Given a regular expression $r$ and an alphabet $\\Sigma$, the function $\\texttt{regexp2DFA}(r, \\Sigma)$\n",
    "computes a deterministic *FSM* that accepts\n",
    "the language specified by $r$."
   ]
  },
  {
   "cell_type": "code",
   "execution_count": null,
   "id": "9cda0427",
   "metadata": {},
   "outputs": [],
   "source": [
    "type Char = string;\n",
    "type RegExp =\n",
    "  | number // 0 für ∅\n",
    "  | Char\n",
    "  | [RegExp, ...RegExp[]]; // Tupel-ähnliche Struktur, wie in Python AST"
   ]
  },
  {
   "cell_type": "code",
   "execution_count": null,
   "id": "4493624a",
   "metadata": {},
   "outputs": [],
   "source": [
    "function regexp2DFA(r: any, Σ: Set<Char>): DFA1 {\n",
    "  const converter = new RegExp2NFA(Σ);\n",
    "  const nfa = converter.toNFA(r);\n",
    "  const dfa = nfa2dfa(nfa);\n",
    "  return dfa;\n",
    "}"
   ]
  },
  {
   "cell_type": "markdown",
   "id": "93f0939d",
   "metadata": {},
   "source": [
    "Given a deterministic *FSM* $F$ the function \n",
    "`is_empty(F)` checks whether the language accepted by $F$ is empty.\n",
    "In this function, the variable `Reachable` is the set of those states that are already known to be reachable\n",
    "from the start state `q0`. `NewFound` are those states that can be reached from a state in the set \n",
    "`Reachable`.  When we find no new states that are reachable, the iteration stops and we check whether\n",
    "there is a state that is both reachable and acceptable because in that case the language is not empty."
   ]
  },
  {
   "cell_type": "code",
   "execution_count": null,
   "id": "fbffed1f",
   "metadata": {},
   "outputs": [],
   "source": [
    "function isEmpty(F: DFA2): boolean {\n",
    "  const States = F.Q;\n",
    "  const Sigma = F.Sigma;\n",
    "  const delta = F.delta;\n",
    "  const q0 = F.q0;\n",
    "  const Accepting = F.F;\n",
    "\n",
    "  // Menge der bereits erreichbaren Zustände\n",
    "  const Reachable = new Set<string>([q0]);\n",
    "\n",
    "  while (true) {\n",
    "    // Neue erreichbare Zustände finden\n",
    "    const NewFound = new Set<string>();\n",
    "    for (const q of Reachable) {\n",
    "      for (const c of Sigma) {\n",
    "        const next = delta.get(`${q},${c}`);\n",
    "        if (next) NewFound.add(next);\n",
    "      }\n",
    "    }\n",
    "\n",
    "    // Falls keine neuen Zustände gefunden → abbrechen\n",
    "    let allOld = true;\n",
    "    for (const s of NewFound) {\n",
    "      if (!Reachable.has(s)) {\n",
    "        allOld = false;\n",
    "        break;\n",
    "      }\n",
    "    }\n",
    "    if (allOld) break;\n",
    "\n",
    "    // Vereinigung beider Mengen\n",
    "    for (const s of NewFound) Reachable.add(s);\n",
    "  }\n",
    "\n",
    "  // Falls einer der akzeptierenden Zustände erreichbar ist → nicht leer\n",
    "  for (const f of Accepting) {\n",
    "    if (Reachable.has(f)) return false;\n",
    "  }\n",
    "\n",
    "  return true; // keine akzeptierenden Zustände erreichbar\n",
    "}"
   ]
  },
  {
   "cell_type": "markdown",
   "id": "1ba9fa83",
   "metadata": {},
   "source": [
    "The function `regExpEquiv` takes three arguments:\n",
    "- $r_1$ and $r_2$ are regular expressions,\n",
    "- $\\Sigma$ is the alphabet used in these regular expressions.\n",
    "\n",
    "The function returns `True` iff $r_1 \\doteq r_2$, i.e. if $r_1$ and $r_2$ are equivalent. "
   ]
  },
  {
   "cell_type": "code",
   "execution_count": null,
   "id": "1fcfec7a",
   "metadata": {},
   "outputs": [],
   "source": [
    "function regExpEquiv(r1: any, r2: any, Sigma: Set<string>): boolean {\n",
    "  // Schritt 1: baue DFAs für r1 und r2\n",
    "  const F1 = regexp2DFA(r1, Sigma);\n",
    "  const F2 = regexp2DFA(r2, Sigma);\n",
    "\n",
    "  // Schritt 2: Differenzen der Sprachen bilden\n",
    "  const r1_minus_r2 = fsmComplement(F1, F2);\n",
    "  const r2_minus_r1 = fsmComplement(F2, F1);\n",
    "\n",
    "  // Schritt 3: prüfen, ob beide Differenzen leer sind\n",
    "  return isEmpty(r1_minus_r2) && isEmpty(r2_minus_r1);\n",
    "}"
   ]
  },
  {
   "cell_type": "markdown",
   "id": "20a07a74",
   "metadata": {},
   "source": [
    "The notebook `Test-Equivalence.ipynb` can be used to test this function."
   ]
  },
  {
   "cell_type": "code",
   "execution_count": null,
   "id": "ed7fe275",
   "metadata": {},
   "outputs": [],
   "source": []
  }
 ],
 "metadata": {
  "kernelspec": {
   "display_name": "TypeScript",
   "language": "typescript",
   "name": "tslab"
  },
  "language_info": {
   "codemirror_mode": {
    "mode": "typescript",
    "name": "javascript",
    "typescript": true
   },
   "file_extension": ".ts",
   "mimetype": "text/typescript",
   "name": "typescript",
   "version": "3.7.2"
  }
 },
 "nbformat": 4,
 "nbformat_minor": 5
}
