{
 "cells": [
  {
   "cell_type": "code",
   "execution_count": 1,
   "metadata": {},
   "outputs": [
    {
     "data": {
      "text/html": [
       "<link href='http://fonts.googleapis.com/css?family=Alegreya+Sans:100,300,400,500,700,800,900,100italic,300italic,400italic,500italic,700italic,800italic,900italic' rel='stylesheet' type='text/css'>\n",
       "<link href='http://fonts.googleapis.com/css?family=Arvo:400,700,400italic' rel='stylesheet' type='text/css'>\n",
       "<link href='http://fonts.googleapis.com/css?family=PT+Mono' rel='stylesheet' type='text/css'>\n",
       "<link href='http://fonts.googleapis.com/css?family=Shadows+Into+Light' rel='stylesheet' type='text/css'>\n",
       "<link href='http://fonts.googleapis.com/css?family=Philosopher:400,700,400italic,700italic' rel='stylesheet' type='text/css'>\n",
       "\n",
       "<style>\n",
       "\n",
       "@font-face {\n",
       "    font-family: \"Computer Modern\";\n",
       "    src: url('http://mirrors.ctan.org/fonts/cm-unicode/fonts/otf/cmunss.otf');\n",
       "}\n",
       "\n",
       ".container { width: 100% }\n",
       "\n",
       "/* Formatting for header cells */\n",
       ".text_cell_render h1 {\n",
       "    font-family: 'Philosopher', sans-serif;\n",
       "    font-weight: 400;\n",
       "    font-size: 2.2em;\n",
       "    line-height: 100%;\n",
       "    color: rgb(0, 80, 120);\n",
       "    margin-bottom: 0.1em;\n",
       "    margin-top: 0.1em;\n",
       "    display: block;\n",
       "}\t\n",
       ".text_cell_render h2 {\n",
       "    font-family: 'Philosopher', serif;\n",
       "    font-weight: 400;\n",
       "    font-size: 1.9em;\n",
       "    line-height: 100%;\n",
       "    color: rgb(200,100,0);\n",
       "    margin-bottom: 0.1em;\n",
       "    margin-top: 0.1em;\n",
       "    display: block;\n",
       "}\t\n",
       "\n",
       ".text_cell_render h3 {\n",
       "    font-family: 'Philosopher', serif;\n",
       "    margin-top:12px;\n",
       "    margin-bottom: 3px;\n",
       "    font-style: italic;\n",
       "    color: rgb(94,127,192);\n",
       "}\n",
       "\n",
       ".text_cell_render h4 {\n",
       "    font-family: 'Philosopher', serif;\n",
       "}\n",
       "\n",
       ".text_cell_render h5 {\n",
       "    font-family: 'Alegreya Sans', sans-serif;\n",
       "    font-weight: 300;\n",
       "    font-size: 16pt;\n",
       "    color: grey;\n",
       "    font-style: italic;\n",
       "    margin-bottom: .1em;\n",
       "    margin-top: 0.1em;\n",
       "    display: block;\n",
       "}\n",
       "\n",
       ".text_cell_render h6 {\n",
       "    font-family: 'PT Mono', sans-serif;\n",
       "    font-weight: 300;\n",
       "    font-size: 10pt;\n",
       "    color: grey;\n",
       "    margin-bottom: 1px;\n",
       "    margin-top: 1px;\n",
       "}\n",
       "\n",
       ".text_cell_render em {\n",
       "    font-family: 'Philosopher', sans-serif;\n",
       "    color:        blue;\n",
       "    background-color: rgb(255,220,180);\n",
       "    font-size:    110%;\n",
       "    margin-left:   2px;\n",
       "    margin-right:  2px;\n",
       "    font-weight:   100;\n",
       "}\n",
       "\n",
       ".text_cell_render b {\n",
       "    color:            rgb(255,195,195);\n",
       "    background-color: rgb(0,0,0);\n",
       "    font-size:    110%;\n",
       "    margin-left:   2px;\n",
       "    margin-right:  2px;\n",
       "    font-weight:   650;\n",
       "}\n",
       "\n",
       ".text_cell_render tt {\n",
       "    font-size:    120%;\n",
       "    margin-left:   2px;\n",
       "    margin-right:  2px;\n",
       "    font-weight:   150;\n",
       "}\n",
       "\n",
       ".CodeMirror{\n",
       "        font-family: \"PT Mono\";\n",
       "        font-size: 100%;\n",
       "}\n",
       "\n",
       "</style>\n",
       "\n"
      ],
      "text/plain": [
       "<IPython.core.display.HTML object>"
      ]
     },
     "execution_count": 1,
     "metadata": {},
     "output_type": "execute_result"
    }
   ],
   "source": [
    "from IPython.core.display import HTML\n",
    "with open (\"../style.css\", \"r\") as file:\n",
    "    css = file.read()\n",
    "HTML(css)"
   ]
  },
  {
   "cell_type": "code",
   "execution_count": 2,
   "metadata": {},
   "outputs": [
    {
     "name": "stderr",
     "output_type": "stream",
     "text": [
      "Version 1.0.5\n"
     ]
    }
   ],
   "source": [
    "%load_ext nb_mypy"
   ]
  },
  {
   "cell_type": "code",
   "execution_count": 3,
   "metadata": {},
   "outputs": [],
   "source": [
    "from typing import TypeVar"
   ]
  },
  {
   "cell_type": "markdown",
   "metadata": {},
   "source": [
    "# Term Simplification via  Rewriting"
   ]
  },
  {
   "cell_type": "code",
   "execution_count": 4,
   "metadata": {},
   "outputs": [],
   "source": [
    "import string"
   ]
  },
  {
   "cell_type": "markdown",
   "metadata": {},
   "source": [
    "The type `RegExp` describes regular expressions.  These are either integers, strings, or nested tuples of integers and strings."
   ]
  },
  {
   "cell_type": "code",
   "execution_count": 5,
   "metadata": {},
   "outputs": [],
   "source": [
    "RegExp = TypeVar('RegExp')\n",
    "RegExp = int | str | tuple[RegExp, ...]"
   ]
  },
  {
   "cell_type": "code",
   "execution_count": 6,
   "metadata": {},
   "outputs": [],
   "source": [
    "def is_variable(s: RegExp) -> bool:\n",
    "    return isinstance(s, str) and s != '𝜀' and s[0] in string.ascii_uppercase"
   ]
  },
  {
   "cell_type": "markdown",
   "metadata": {},
   "source": [
    "A substitution is a dictionary mapping variable names to regular expressions."
   ]
  },
  {
   "cell_type": "code",
   "execution_count": 7,
   "metadata": {},
   "outputs": [],
   "source": [
    "Subst = dict[str, RegExp]"
   ]
  },
  {
   "cell_type": "code",
   "execution_count": 8,
   "metadata": {},
   "outputs": [],
   "source": [
    "def match(pattern: RegExp, term: RegExp, Substitution: Subst = {}) -> bool:\n",
    "    if is_variable(pattern):\n",
    "        V = pattern\n",
    "        if V in Substitution:\n",
    "            return match(Substitution[V], term, Substitution) # type: ignore\n",
    "        else:\n",
    "            Substitution[V] = term                            # type: ignore\n",
    "            return True\n",
    "    if isinstance(pattern, str) or isinstance(pattern, int):\n",
    "        return pattern == term\n",
    "    if isinstance(term, str) or isinstance(term, int):\n",
    "        return False\n",
    "    if len(pattern) != len(term):\n",
    "        return False\n",
    "    if pattern[1] != term[1]:\n",
    "        return False\n",
    "    n = len(pattern)\n",
    "    for i in range(n):\n",
    "        if not match(pattern[i], term[i], Substitution):\n",
    "            return False\n",
    "    return True"
   ]
  },
  {
   "cell_type": "code",
   "execution_count": 9,
   "metadata": {},
   "outputs": [],
   "source": [
    "def apply(term: RegExp, Substitution: Subst) -> RegExp:\n",
    "    if is_variable(term):\n",
    "        V = term\n",
    "        if V in Substitution:\n",
    "            return Substitution[V] # type: ignore\n",
    "        else:\n",
    "            return V\n",
    "    if isinstance(term, str) or isinstance(term, int):\n",
    "        return term\n",
    "    return tuple(apply(arg, Substitution) for arg in term)"
   ]
  },
  {
   "cell_type": "code",
   "execution_count": 10,
   "metadata": {},
   "outputs": [],
   "source": [
    "def rewrite(term: RegExp, rule: tuple[RegExp, RegExp]) -> tuple[bool, RegExp]:\n",
    "    lhs, rhs = rule\n",
    "    Substitution: Subst = {}\n",
    "    if match(lhs, term, Substitution):\n",
    "        return True, apply(rhs, Substitution)\n",
    "    else:\n",
    "        return False, term"
   ]
  },
  {
   "cell_type": "code",
   "execution_count": 11,
   "metadata": {},
   "outputs": [],
   "source": [
    "def simplify_once(term: RegExp, Rules: set[tuple[RegExp, RegExp]]) -> RegExp:\n",
    "    if isinstance(term, str) or isinstance(term, int):\n",
    "        return term\n",
    "    for rule in Rules:\n",
    "        flag, simple = rewrite(term, rule)\n",
    "        if flag:\n",
    "            return simple\n",
    "    return tuple(simplify_once(arg, Rules) for arg in term)"
   ]
  },
  {
   "cell_type": "code",
   "execution_count": 12,
   "metadata": {},
   "outputs": [],
   "source": [
    "def get_rules() -> set[tuple[RegExp, RegExp]]: \n",
    "    return { (('R', '+', 0), 'R'),\n",
    "             ((0, '+', 'R'), 'R'),\n",
    "             (('R', '+', 'R'), 'R'),\n",
    "             (('𝜀', '+', ('R', '*')), ('R', '*')),\n",
    "             ((('R', '*'), '+', '𝜀'), ('R', '*')),\n",
    "             (('𝜀', '+', ('R', '⋅', ('R', '*'))), ('R', '*')),\n",
    "             (('𝜀', '+', (('R', '*'), '⋅', 'R')), ('R', '*')),\n",
    "             ((('R', '⋅', ('R', '*')), '+', '𝜀'), ('R', '*')),\n",
    "             (((('R', '*'), '⋅', 'R'), '+', '𝜀'), ('R', '*')),\n",
    "             (('S', '+', ('S', '⋅', 'T')), ('S', '⋅', ('𝜀', '+', 'T'))),\n",
    "             (('S', '+', ('T', '⋅', 'S')), (('𝜀', '+', 'T'), '⋅', 'S')),\n",
    "             ((0, '⋅', 'R'), 0),\n",
    "             (('R', '⋅', 0), 0),\n",
    "             (('𝜀', '⋅', 'R'), 'R'),\n",
    "             (('R', '⋅', '𝜀'), 'R'),\n",
    "             ((('𝜀', '+', 'R'), '⋅', ('R', '*')), ('R', '*')),\n",
    "             ((('R', '+', '𝜀'), '⋅', ('R', '*')), ('R', '*')),\n",
    "             ((('R', '*'), '⋅', ('R', '+', '𝜀')), ('R', '*')),\n",
    "             ((('R', '*'), '⋅', ('𝜀', '+', 'R')), ('R', '*')),\n",
    "             ((0, '*'), '𝜀'),\n",
    "             (('𝜀', '*'), '𝜀'),\n",
    "             ((('𝜀', '+', 'R'), '*'), ('R', '*')),\n",
    "             ((('R', '+', '𝜀'), '*'), ('R', '*')),\n",
    "             (('R', '+', ('S', '+', 'T')), (('R', '+', 'S'), '+', 'T')),\n",
    "             (('R', '⋅', ('S', '⋅', 'T')), (('R', '⋅', 'S'), '⋅', 'T')),\n",
    "             ((('R', '⋅', ('S', '*')), '⋅', ('𝜀', '+', 'S')), ('R', '⋅', ('S', '*')))\n",
    "           }"
   ]
  },
  {
   "cell_type": "code",
   "execution_count": 13,
   "metadata": {},
   "outputs": [],
   "source": [
    "def simplify(t: RegExp) -> RegExp:\n",
    "    while True:\n",
    "        old_t = t\n",
    "        t     = simplify_once(t, get_rules())\n",
    "        if t == old_t:\n",
    "            return t"
   ]
  },
  {
   "cell_type": "code",
   "execution_count": null,
   "metadata": {},
   "outputs": [],
   "source": []
  }
 ],
 "metadata": {
  "kernelspec": {
   "display_name": "Python 3 (ipykernel)",
   "language": "python",
   "name": "python3"
  },
  "language_info": {
   "codemirror_mode": {
    "name": "ipython",
    "version": 3
   },
   "file_extension": ".py",
   "mimetype": "text/x-python",
   "name": "python",
   "nbconvert_exporter": "python",
   "pygments_lexer": "ipython3",
   "version": "3.11.5"
  },
  "varInspector": {
   "cols": {
    "lenName": 16,
    "lenType": 16,
    "lenVar": 40
   },
   "kernels_config": {
    "python": {
     "delete_cmd_postfix": "",
     "delete_cmd_prefix": "del ",
     "library": "var_list.py",
     "varRefreshCmd": "print(var_dic_list())"
    },
    "r": {
     "delete_cmd_postfix": ") ",
     "delete_cmd_prefix": "rm(",
     "library": "var_list.r",
     "varRefreshCmd": "cat(var_dic_list()) "
    }
   },
   "types_to_exclude": [
    "module",
    "function",
    "builtin_function_or_method",
    "instance",
    "_Feature"
   ],
   "window_display": false
  }
 },
 "nbformat": 4,
 "nbformat_minor": 4
}
