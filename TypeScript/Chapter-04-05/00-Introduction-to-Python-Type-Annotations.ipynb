{
 "cells": [
  {
   "cell_type": "markdown",
   "id": "c1800490",
   "metadata": {},
   "source": [
    "# An introduction to Gradual Typing in Python\n",
    "\n",
    "Gradual typing is a programming language feature that allows developers to gradually add type annotations to their code. In Python, this means you can mix statically typed and dynamically typed code within the same program, taking advantage of both worlds. Type annotations can be added to variables, function parameters, and function return values, offering better documentation and enabling more robust static analysis through tools like [mypy](https://mypy-lang.org/). The type system is designed to be flexible and can accommodate a wide range of patterns, including \n",
    "+ *generic types*, \n",
    "+ *union types*, and \n",
    "+ *user defined types*. \n",
    "\n",
    "By incrementally adding type annotations, developers can make their Python code more self-explanatory, easier to debug, and more maintainable, while also catching potential type errors before runtime. \n",
    "\n",
    "## Installing `mypy`for Jupyter Notebooks\n",
    "In its full generality, gradual typing is only available as of Python version `3.11`.  Therefore, to use gradual typing in a *conda environment*, you have to create this environment using the following command:\n",
    "```\n",
    "conda create -n fl python=3.11 jupyter notebook\n",
    "```\n",
    "After activation this environment via the command\n",
    "```\n",
    "conda activate fl\n",
    "```\n",
    "we can install `mypy` with the command\n",
    "```\n",
    "pip install mypy\n",
    "```\n",
    "To use `mypy`in a jupyter notebook we have to install the jupyter notebook extension \n",
    "[nb mypy](https://pypi.org/project/nb-mypy/) via the command\n",
    "```\n",
    "pip install nb_mypy\n",
    "```\n",
    "The next cell activates this extension."
   ]
  },
  {
   "cell_type": "markdown",
   "id": "2c67d6e2-2ae1-4c2a-b8ca-b53de34fa6ce",
   "metadata": {},
   "source": [
    "!pip install mypy"
   ]
  },
  {
   "cell_type": "markdown",
   "id": "2df3a0c7-1581-42fd-bc16-b48d768f404b",
   "metadata": {},
   "source": [
    "!pip install nb_mypy"
   ]
  },
  {
   "cell_type": "code",
   "execution_count": 1,
   "id": "7dabec28",
   "metadata": {},
   "outputs": [
    {
     "name": "stderr",
     "output_type": "stream",
     "text": [
      "Version 1.0.5\n"
     ]
    }
   ],
   "source": [
    "%load_ext nb_mypy"
   ]
  },
  {
   "cell_type": "markdown",
   "id": "2b24b7be",
   "metadata": {},
   "source": [
    "## Finding Errors by Type Checking\n",
    "\n",
    "The following two lines contain an error that `mypy` is able to find."
   ]
  },
  {
   "cell_type": "code",
   "execution_count": 3,
   "id": "94e5667c",
   "metadata": {},
   "outputs": [
    {
     "name": "stderr",
     "output_type": "stream",
     "text": [
      "<cell>2: \u001b[1m\u001b[31merror:\u001b[m Unsupported operand types for + (\u001b[m\u001b[1m\"str\"\u001b[m and \u001b[m\u001b[1m\"int\"\u001b[m)  \u001b[m\u001b[33m[operator]\u001b[m\n"
     ]
    },
    {
     "name": "stdin",
     "output_type": "stream",
     "text": [
      "What is your favourite number?  42\n"
     ]
    },
    {
     "ename": "TypeError",
     "evalue": "can only concatenate str (not \"int\") to str",
     "output_type": "error",
     "traceback": [
      "\u001b[0;31m---------------------------------------------------------------------------\u001b[0m",
      "\u001b[0;31mTypeError\u001b[0m                                 Traceback (most recent call last)",
      "Cell \u001b[0;32mIn[3], line 2\u001b[0m\n\u001b[1;32m      1\u001b[0m number \u001b[38;5;241m=\u001b[39m \u001b[38;5;28minput\u001b[39m(\u001b[38;5;124m\"\u001b[39m\u001b[38;5;124mWhat is your favourite number? \u001b[39m\u001b[38;5;124m\"\u001b[39m)\n\u001b[0;32m----> 2\u001b[0m \u001b[38;5;28mprint\u001b[39m(\u001b[38;5;124m\"\u001b[39m\u001b[38;5;124mIt is\u001b[39m\u001b[38;5;124m\"\u001b[39m, \u001b[43mnumber\u001b[49m\u001b[43m \u001b[49m\u001b[38;5;241;43m+\u001b[39;49m\u001b[43m \u001b[49m\u001b[38;5;241;43m1\u001b[39;49m)  \n",
      "\u001b[0;31mTypeError\u001b[0m: can only concatenate str (not \"int\") to str"
     ]
    }
   ],
   "source": [
    "number = input(\"What is your favourite number? \")\n",
    "print(\"It is\", number + 1)  "
   ]
  },
  {
   "cell_type": "markdown",
   "id": "8c247f37",
   "metadata": {},
   "source": [
    "The correct version of the two lines above would have been as follows:"
   ]
  },
  {
   "cell_type": "code",
   "execution_count": 5,
   "id": "7ace274e",
   "metadata": {},
   "outputs": [
    {
     "name": "stdin",
     "output_type": "stream",
     "text": [
      "What is your favourite number?  42\n"
     ]
    },
    {
     "name": "stdout",
     "output_type": "stream",
     "text": [
      "It is 43.\n"
     ]
    }
   ],
   "source": [
    "number = int(input(\"What is your favourite number? \"))\n",
    "print(f'It is {number + 1}.') "
   ]
  },
  {
   "cell_type": "markdown",
   "id": "ae67818e",
   "metadata": {},
   "source": [
    "## Type Annotations\n",
    "\n",
    "The most basic form of type checking in Python is specifying the types of variables and function return values.\n",
    "To type check a function, you annotate the type of a parameter by putting a colon after the name of the variable. \n",
    "The return type of the function is specified using the `->` syntax as shown below."
   ]
  },
  {
   "cell_type": "code",
   "execution_count": 6,
   "id": "919e84e9",
   "metadata": {},
   "outputs": [],
   "source": [
    "def add(a: int, b: int) -> int:\n",
    "    return a + b"
   ]
  },
  {
   "cell_type": "markdown",
   "id": "de33d9d5",
   "metadata": {},
   "source": [
    "In the next cell the **type checker** tells us, that we have called the function `add` with strings instead of integers.  \n",
    "The **Python interpreter** executes this cell without encountering an error, since the interpreter does not care about the type annotations. "
   ]
  },
  {
   "cell_type": "code",
   "execution_count": 7,
   "id": "62c1f082",
   "metadata": {},
   "outputs": [
    {
     "name": "stderr",
     "output_type": "stream",
     "text": [
      "<cell>2: \u001b[1m\u001b[31merror:\u001b[m Argument 1 to \u001b[m\u001b[1m\"add\"\u001b[m has incompatible type \u001b[m\u001b[1m\"str\"\u001b[m; expected \u001b[m\u001b[1m\"int\"\u001b[m  \u001b[m\u001b[33m[arg-type]\u001b[m\n",
      "<cell>2: \u001b[1m\u001b[31merror:\u001b[m Argument 2 to \u001b[m\u001b[1m\"add\"\u001b[m has incompatible type \u001b[m\u001b[1m\"str\"\u001b[m; expected \u001b[m\u001b[1m\"int\"\u001b[m  \u001b[m\u001b[33m[arg-type]\u001b[m\n"
     ]
    },
    {
     "data": {
      "text/plain": [
       "'Hello Karl'"
      ]
     },
     "execution_count": 7,
     "metadata": {},
     "output_type": "execute_result"
    }
   ],
   "source": [
    "name = 'Karl'\n",
    "add('Hello ', name)    "
   ]
  },
  {
   "cell_type": "markdown",
   "id": "d8ef7bc7",
   "metadata": {},
   "source": [
    "If necessary, we can inspect the type annotations of a function at runtime via the attribute `__annotations__` as shown below."
   ]
  },
  {
   "cell_type": "code",
   "execution_count": 8,
   "id": "4e7768fc",
   "metadata": {},
   "outputs": [
    {
     "data": {
      "text/plain": [
       "{'a': int, 'b': int, 'return': int}"
      ]
     },
     "execution_count": 8,
     "metadata": {},
     "output_type": "execute_result"
    }
   ],
   "source": [
    "add.__annotations__"
   ]
  },
  {
   "cell_type": "code",
   "execution_count": 9,
   "id": "771c3c44-3322-4068-bfc6-3bad3f8acd7a",
   "metadata": {},
   "outputs": [],
   "source": [
    "def sub(a, b):\n",
    "    return a - b"
   ]
  },
  {
   "cell_type": "code",
   "execution_count": 10,
   "id": "34c5a8fb-e877-4755-a717-412a90f0e460",
   "metadata": {},
   "outputs": [
    {
     "data": {
      "text/plain": [
       "{}"
      ]
     },
     "execution_count": 10,
     "metadata": {},
     "output_type": "execute_result"
    }
   ],
   "source": [
    "sub.__annotations__"
   ]
  },
  {
   "cell_type": "markdown",
   "id": "947096a5",
   "metadata": {},
   "source": [
    "## Built-in Types\n",
    "\n",
    "`mypy` supports all built-in Python types like `int`, `float`, `str`, and `bool`.\n",
    "Complex types like `list`, `tuple`, and `dict` are also supported.  "
   ]
  },
  {
   "cell_type": "markdown",
   "id": "28ab0b18",
   "metadata": {},
   "source": [
    "The function `average(L)` computes the arithmetic mean of the numbers in the list `L`. "
   ]
  },
  {
   "cell_type": "code",
   "execution_count": 11,
   "id": "66708073",
   "metadata": {},
   "outputs": [],
   "source": [
    "def average(numbers: list[int]) -> float:\n",
    "    return sum(numbers) / len(numbers)"
   ]
  },
  {
   "cell_type": "code",
   "execution_count": 12,
   "id": "f2c56bed",
   "metadata": {},
   "outputs": [
    {
     "data": {
      "text/plain": [
       "2.5"
      ]
     },
     "execution_count": 12,
     "metadata": {},
     "output_type": "execute_result"
    }
   ],
   "source": [
    "average([1, 2, 3, 4])"
   ]
  },
  {
   "cell_type": "markdown",
   "id": "11fe4731",
   "metadata": {},
   "source": [
    "The following cell has a type error, although it executes without a problem."
   ]
  },
  {
   "cell_type": "code",
   "execution_count": 13,
   "id": "83aedb40",
   "metadata": {},
   "outputs": [
    {
     "name": "stderr",
     "output_type": "stream",
     "text": [
      "<cell>1: \u001b[1m\u001b[31merror:\u001b[m List item 0 has incompatible type \u001b[m\u001b[1m\"float\"\u001b[m; expected \u001b[m\u001b[1m\"int\"\u001b[m  \u001b[m\u001b[33m[list-item]\u001b[m\n",
      "<cell>1: \u001b[1m\u001b[31merror:\u001b[m List item 1 has incompatible type \u001b[m\u001b[1m\"float\"\u001b[m; expected \u001b[m\u001b[1m\"int\"\u001b[m  \u001b[m\u001b[33m[list-item]\u001b[m\n",
      "<cell>1: \u001b[1m\u001b[31merror:\u001b[m List item 2 has incompatible type \u001b[m\u001b[1m\"float\"\u001b[m; expected \u001b[m\u001b[1m\"int\"\u001b[m  \u001b[m\u001b[33m[list-item]\u001b[m\n",
      "<cell>1: \u001b[1m\u001b[31merror:\u001b[m List item 3 has incompatible type \u001b[m\u001b[1m\"float\"\u001b[m; expected \u001b[m\u001b[1m\"int\"\u001b[m  \u001b[m\u001b[33m[list-item]\u001b[m\n"
     ]
    },
    {
     "data": {
      "text/plain": [
       "2.5"
      ]
     },
     "execution_count": 13,
     "metadata": {},
     "output_type": "execute_result"
    }
   ],
   "source": [
    "average([1.0, 2.0, 3.0, 4.0])"
   ]
  },
  {
   "cell_type": "markdown",
   "id": "bf0f2fc5",
   "metadata": {},
   "source": [
    "## Custom Types\n",
    "You can define your own types using the `class` keyword. Note that `self` does not have a type annotation."
   ]
  },
  {
   "cell_type": "code",
   "execution_count": 14,
   "id": "1ca89bd6",
   "metadata": {},
   "outputs": [],
   "source": [
    "class Person:\n",
    "    def __init__(self, name: str):\n",
    "        self.name = name\n",
    "\n",
    "    def greet(self) -> str:\n",
    "        return f\"Hello, {self.name}!\""
   ]
  },
  {
   "cell_type": "markdown",
   "id": "0178bc81",
   "metadata": {},
   "source": [
    "When a function does not return a value, the return type is `None`."
   ]
  },
  {
   "cell_type": "code",
   "execution_count": 15,
   "id": "b14d5144",
   "metadata": {},
   "outputs": [],
   "source": [
    "def salve(p: Person) -> None:\n",
    "    print(p.greet())"
   ]
  },
  {
   "cell_type": "code",
   "execution_count": 16,
   "id": "5b7899de",
   "metadata": {},
   "outputs": [
    {
     "name": "stdout",
     "output_type": "stream",
     "text": [
      "Hello, Julius Caesar!\n"
     ]
    }
   ],
   "source": [
    "jc = Person('Julius Caesar')\n",
    "salve(jc)"
   ]
  },
  {
   "cell_type": "markdown",
   "id": "d163ec5a",
   "metadata": {},
   "source": [
    "The function `greet_name` either accepts a string representing a name as its argument, \n",
    "or it accepts a dictionary as its argument.  The dictionary is supposed to store both \n",
    "the first name under the key `given` and the last name under the key `family`.  \n",
    "\n",
    "The *union* operator `|` can be used to express the fact that `name`can either be a\n",
    "`str` or a `dict[str, str]`."
   ]
  },
  {
   "cell_type": "code",
   "execution_count": 17,
   "id": "e3c495d6",
   "metadata": {},
   "outputs": [],
   "source": [
    "def greet_name(name: str | dict[str, str]) -> str:\n",
    "    if isinstance(name, str):\n",
    "        return 'Hi ' + name + '!'\n",
    "    if isinstance(name, dict):\n",
    "        return f\"Bienvenido, Señor {name['given']} {name['family']}.\""
   ]
  },
  {
   "cell_type": "code",
   "execution_count": 18,
   "id": "c386d97c",
   "metadata": {},
   "outputs": [
    {
     "data": {
      "text/plain": [
       "'Hi Alice!'"
      ]
     },
     "execution_count": 18,
     "metadata": {},
     "output_type": "execute_result"
    }
   ],
   "source": [
    "greet_name(\"Alice\")"
   ]
  },
  {
   "cell_type": "code",
   "execution_count": 19,
   "id": "9a2a9320",
   "metadata": {},
   "outputs": [
    {
     "data": {
      "text/plain": [
       "'Bienvenido, Señor Esteban Ramirez.'"
      ]
     },
     "execution_count": 19,
     "metadata": {},
     "output_type": "execute_result"
    }
   ],
   "source": [
    "greet_name({'given': 'Esteban', 'family': 'Ramirez'})"
   ]
  },
  {
   "cell_type": "markdown",
   "id": "6f4265d5",
   "metadata": {},
   "source": [
    "## Using `TypeVar` for Generic Functions"
   ]
  },
  {
   "cell_type": "code",
   "execution_count": 20,
   "id": "5ecb39dc",
   "metadata": {},
   "outputs": [],
   "source": [
    "from typing import TypeVar"
   ]
  },
  {
   "cell_type": "markdown",
   "id": "73df5ace",
   "metadata": {},
   "source": [
    "The next example shows how to type *generic*  functions.  This is done using the function `TypeVar`, \n",
    "which creates a new type variable."
   ]
  },
  {
   "cell_type": "code",
   "execution_count": 21,
   "id": "103087ab",
   "metadata": {},
   "outputs": [],
   "source": [
    "S = TypeVar('S')\n",
    "T = TypeVar('T')"
   ]
  },
  {
   "cell_type": "markdown",
   "id": "8221c024",
   "metadata": {},
   "source": [
    "The function `swap` takes a pair of elements that should be of the same type.  \n",
    "It swaps the order of these elements. swaps the elements of a pair (a 2-tuple). The function   \n",
    "`swap` is *generic*, meaning it is able to handle pairs of integers, strings, or any other type."
   ]
  },
  {
   "cell_type": "code",
   "execution_count": 25,
   "id": "fe02e505",
   "metadata": {},
   "outputs": [],
   "source": [
    "def swap(pair: tuple[S, T]) -> tuple[T, S]:\n",
    "    x, y = pair\n",
    "    return y, x"
   ]
  },
  {
   "cell_type": "markdown",
   "id": "3cd21c5d",
   "metadata": {},
   "source": [
    "In the next cell, the type variable `T` is instantiated as `int`."
   ]
  },
  {
   "cell_type": "code",
   "execution_count": 23,
   "id": "81995fee",
   "metadata": {},
   "outputs": [
    {
     "data": {
      "text/plain": [
       "(2, 1)"
      ]
     },
     "execution_count": 23,
     "metadata": {},
     "output_type": "execute_result"
    }
   ],
   "source": [
    "swap((1, 2))"
   ]
  },
  {
   "cell_type": "markdown",
   "id": "759f47ed",
   "metadata": {},
   "source": [
    "In the following cell, the type variable `T` is instantiated as `str`."
   ]
  },
  {
   "cell_type": "code",
   "execution_count": 26,
   "id": "7cef6e2d",
   "metadata": {},
   "outputs": [
    {
     "data": {
      "text/plain": [
       "('b', 'a')"
      ]
     },
     "execution_count": 26,
     "metadata": {},
     "output_type": "execute_result"
    }
   ],
   "source": [
    "swap(('a', 'b'))"
   ]
  },
  {
   "cell_type": "markdown",
   "id": "6338c4a1",
   "metadata": {},
   "source": [
    "Below, the type variable the type variable `T` is instantiated as `object`."
   ]
  },
  {
   "cell_type": "code",
   "execution_count": 27,
   "id": "1085d68c",
   "metadata": {},
   "outputs": [
    {
     "data": {
      "text/plain": [
       "('a', 1)"
      ]
     },
     "execution_count": 27,
     "metadata": {},
     "output_type": "execute_result"
    }
   ],
   "source": [
    "swap((1, 'a'))"
   ]
  },
  {
   "cell_type": "markdown",
   "id": "a99ed2d5",
   "metadata": {},
   "source": [
    "## Recursive Types"
   ]
  },
  {
   "cell_type": "code",
   "execution_count": 28,
   "id": "03379dc7",
   "metadata": {},
   "outputs": [],
   "source": [
    "RecursiveTuple = TypeVar(\"RecursiveTuple\")\n",
    "RecursiveTuple = int | str | tuple[RecursiveTuple, ...]"
   ]
  },
  {
   "cell_type": "code",
   "execution_count": 29,
   "id": "bfd1c805",
   "metadata": {},
   "outputs": [],
   "source": [
    "def flatten_recursive_tuple(t: RecursiveTuple) -> list[int | str]:\n",
    "    result = []\n",
    "    if isinstance(t, (int, str)):\n",
    "        result.append(t)\n",
    "    elif isinstance(t, tuple):\n",
    "        for elem in t:\n",
    "            result.extend(flatten_recursive_tuple(elem))\n",
    "    return result"
   ]
  },
  {
   "cell_type": "code",
   "execution_count": 30,
   "id": "6f68ec2c",
   "metadata": {},
   "outputs": [
    {
     "name": "stdout",
     "output_type": "stream",
     "text": [
      "[1, 'a', 2, 'b', 3, 'c']\n"
     ]
    }
   ],
   "source": [
    "nested_tuple: RecursiveTuple = (1, \"a\", (2, \"b\", (3, \"c\")))\n",
    "flattened = flatten_recursive_tuple(nested_tuple)\n",
    "print(flattened) "
   ]
  },
  {
   "cell_type": "code",
   "execution_count": null,
   "id": "cfc00aef",
   "metadata": {},
   "outputs": [],
   "source": []
  }
 ],
"metadata": {
  "kernelspec": {
   "display_name": "TypeScript",
   "language": "typescript",
   "name": "tslab"
  },
  "language_info": {
   "codemirror_mode": {
    "mode": "typescript",
    "name": "javascript",
    "typescript": true
   },
   "file_extension": ".ts",
   "mimetype": "text/typescript",
   "name": "typescript",
   "version": "3.7.2"
  }
 },
 "nbformat": 4,
 "nbformat_minor": 5
}
