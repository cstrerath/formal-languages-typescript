{
 "cells": [
  {
   "cell_type": "code",
   "execution_count": null,
   "id": "bd4d40f3",
   "metadata": {},
   "outputs": [],
   "source": [
    "import { display } from \"tslab\";\n",
    "import { readFileSync } from \"fs\";\n",
    "\n",
    "const css = readFileSync(\"../style.css\", \"utf8\");\n",
    "display.html(`<style>${css}</style>`);"
   ]
  },
  {
   "cell_type": "markdown",
   "id": "cb020e2e",
   "metadata": {},
   "source": [
    "# Regular Expressions in TypeScript (A Short Tutorial)\n",
    "\n",
    "This tutorial provides an in-depth exploration of how regular expressions are implemented in TypeScript. \n",
    "It is assumed that the reader is already familiar with the fundamental concepts of [regular expressions](https://en.wikipedia.org/wiki/Regular_expression), typically covered in formal language courses such as [Formal Languages and Their Application](https://github.com/karlstroetmann/Formal-Languages/blob/master/Lecture-Notes/formal-languages.pdf). The focus here is to bridge the gap between the theoretical understanding of regular expressions and their practical application within the TypeScript programming environment.\n",
    "\n",
    "In TypeScript, regular expressions are integrated into the core language."
   ]
  },
  {
   "cell_type": "markdown",
   "id": "acff5f14",
   "metadata": {},
   "source": [
    "Regular expressions serve as textual patterns that define <em style=\"color:blue\">languages</em>. In this context, a <em style=\"color:blue\">language</em> is understood as a specific <em style=\"color:blue\">set of strings</em>. For the ensuing discussion, let's consider $\\Sigma$ to be the universal set of all Unicode characters, and $\\Sigma^*$ as the set comprising strings formed from these Unicode characters. We will inductively define the set $\\textrm{RegExp}$ of regular expressions.\n",
    "\n",
    "To elucidate the semantics of a given regular expression $r$, we introduce a function \n",
    "$$ \n",
    "\\mathcal{L}: \\textrm{RegExp} \\rightarrow 2^{\\Sigma^*} \n",
    "$$\n",
    "where $\\mathcal{L}(r)$ denotes the <em style=\"color:blue\">language</em> represented by the regular expression $r$."
   ]
  },
  {
   "cell_type": "markdown",
   "id": "59fa80c8",
   "metadata": {},
   "source": [
    "To illustrate the functionality of regular expressions, we will employ the `match` method from TypeScript’s `String` class.\n",
    "\n",
    "$$\\texttt{\"Input_Text\"}.match(\\textrm{/pattern/flags})$$\n",
    "\n",
    "In this expression, the parameters are interpreted in the following manner:\n",
    "- /pattern/ is a regular expression literal that defines the search pattern.\n",
    "- \"Input_Text\" is the target string in which we want to locate substrings matching the given pattern.\n",
    "- flags are optional modifiers that influence how the regular expression behaves.\n",
    "\n",
    "These flags can be combined to change the matching behavior. For example:\n",
    "\n",
    "$g$ — global search (find all matches instead of just the first)\n",
    "\n",
    "$i$ — ignore case (case-insensitive search)\n",
    "\n",
    "$m$ — multiline mode (anchors ^ and $ match line boundaries)\n",
    "\n",
    "When used with the g flag, the match function returns an array of non-overlapping substrings from the input that match the given regular expression.\n",
    "\n",
    "As an example, consider a regular expression /a/g that looks for the lowercase letter 'a'.\n",
    "If the input string contains two instances of 'a', the call:"
   ]
  },
  {
   "cell_type": "code",
   "execution_count": null,
   "id": "8c7da32f",
   "metadata": {},
   "outputs": [],
   "source": [
    "\"abcabcABC\".match(/a/g);"
   ]
  },
  {
   "cell_type": "markdown",
   "id": "80c79192",
   "metadata": {},
   "source": [
    "In the next example, the flag `gi` is set and hence the function call returns a list of length 3."
   ]
  },
  {
   "cell_type": "code",
   "execution_count": null,
   "id": "92628c87",
   "metadata": {},
   "outputs": [],
   "source": [
    "\"abcabcABC\".match(/a/gi);"
   ]
  },
  {
   "cell_type": "markdown",
   "id": "7bf06007",
   "metadata": {},
   "source": [
    "To commence our investigation into the set $\\textrm{RegExp}$, which contains all TypeScript regular expressions,\n",
    "it is essential to first define the set $\\texttt{MetaChars}$ — the collection of all meta-characters used in regular expressions:\n",
    "```\n",
    "MetaChars := { '.', '^', '$', '*', '+', '?', '{', '}', '[', ']', '\\\\', '|', '(', ')' }\n",
    "```\n",
    "These characters act as operator symbols or as components of operator expressions within the context of regular expressions in TypeScript (and JavaScript).\n",
    "Each of these symbols has a special syntactic meaning — for example:"
   ]
  },
  {
   "cell_type": "markdown",
   "id": "bb990027",
   "metadata": {},
   "source": [
    "Now we can start our inductive definition of regular expressions:\n",
    "- Any Unicode character $c$ such that $c \\not\\in \\textrm{MetaChars}$ is a regular expression.\n",
    "  The regular expressions $c$ matches the character $c$, i.e. we have\n",
    "  $$ \\mathcal{L}(c) = \\{ c \\}. $$\n",
    "- If $c$ is a meta character, i.e. we have $c \\in \\textrm{MetaChars}$, then the string $\\backslash c$\n",
    "  is a regular expression matching the meta-character $c$, i.e. we have\n",
    "  $$ \\mathcal{L}(\\backslash c) = \\{ c \\}. $$"
   ]
  },
  {
   "cell_type": "markdown",
   "id": "6dc3f86f",
   "metadata": {},
   "source": [
    "Each of these symbols has a special syntactic meaning — for example:\n",
    "- `.`matches any character except newlines\n",
    "\n",
    "- `^` and mark `$` the start and end of a string (or line, when using the `m` flag)\n",
    "\n",
    "- `*`, `+`, and `?` define quantifiers\n",
    "\n",
    "- `{}` specify repetition ranges\n",
    "\n",
    "- `[]` define character classes\n",
    "\n",
    "- `|` is the alternation operator\n",
    "\n",
    "- `()` create groupings for subpatterns or capture group"
   ]
  },
  {
   "cell_type": "markdown",
   "id": "67555633",
   "metadata": {},
   "source": [
    "Only if you use one of this symbols as pattern, you need to escape it."
   ]
  },
  {
   "cell_type": "code",
   "execution_count": null,
   "id": "2cff1b93",
   "metadata": {},
   "outputs": [],
   "source": [
    "\"1+1=2\".match(/\\+/g);"
   ]
  },
  {
   "cell_type": "markdown",
   "id": "6c658415",
   "metadata": {},
   "source": [
    "## Concatenation"
   ]
  },
  {
   "cell_type": "markdown",
   "id": "2eb7d4d8",
   "metadata": {},
   "source": [
    "The next rule shows how regular expressions can be <em style=\"color:blue\">concatenated</em>:\n",
    "- If $r_1$ and $r_2$ are regular expressions, then $r_1r_2$ is a regular expression.  This\n",
    "  regular expression matches any string $s$ that can be split into two substrings $s_1$ and $s_2$ \n",
    "  such that $r_1$ matches $s_1$ and $r_2$ matches $s_2$.  Formally, we have\n",
    "  $$\\mathcal{L}(r_1r_2) := \n",
    "    \\bigl\\{ s_1 \\cdot s_2 \\mid s_1 \\in \\mathcal{L}(r_1) \\wedge s_2 \\in \\mathcal{L}(r_2) \\bigr\\}.\n",
    "  $$\n",
    "  \n",
    "In the lecture notes we have used the notation $r_1 \\cdot r_2$ instead of the *TypeScript* notation $r_1r_2$.  \n",
    "\n",
    "Using concatenation of regular expressions, we can now find words."
   ]
  },
  {
   "cell_type": "code",
   "execution_count": null,
   "id": "07238cff",
   "metadata": {},
   "outputs": [],
   "source": [
    "\"The horse, the dog, and the cat.\".match(/the/gi);"
   ]
  },
  {
   "cell_type": "markdown",
   "id": "4e2c93fd",
   "metadata": {},
   "source": [
    "## Choice"
   ]
  },
  {
   "cell_type": "markdown",
   "id": "0f8c80d7",
   "metadata": {},
   "source": [
    "Regular expressions provide the operator `|` that can be used to choose between \n",
    "<em style=\"color:blue\">alternatives:</em>\n",
    "- If $r_1$ and $r_2$ are regular expressions, then $r_1|r_2$ is a regular expression.  This\n",
    "  regular expression matches any string $s$ that can is matched by either $r_1$ or $r_2$.\n",
    "  Formally, we have\n",
    "  $$\\mathcal{L}(r_1|r_2) := \\mathcal{L}(r_1) \\cup \\mathcal{L}(r_2).  $$\n",
    "  \n",
    "In the lecture notes we have used the notation $r_1 + r_2$ instead of the *TypeScript* notation $r_1|r_2$."
   ]
  },
  {
   "cell_type": "code",
   "execution_count": null,
   "id": "be2bcbd2",
   "metadata": {},
   "outputs": [],
   "source": [
    "\"The horse, the dog, and a cat.\".match(/the|a/gi);"
   ]
  },
  {
   "cell_type": "markdown",
   "id": "7e06bfab",
   "metadata": {},
   "source": [
    "## Quantifiers"
   ]
  },
  {
   "cell_type": "markdown",
   "id": "9a98bff3",
   "metadata": {},
   "source": [
    "The most interesting regular expression operators are the <em style=\"color:blue\">quantifiers</em>.\n",
    "The official documentation calls them <em style=\"color:blue\">repetition qualifiers</em> but in this notebook \n",
    "they are called *quantifiers*, since this is shorter.  Syntactically, *quantifiers* are \n",
    "<em style=\"color:blue\">postfix operators</em>.\n",
    "- If $r$ is a regular expressions, then $r+$ is a regular expression.  This\n",
    "  regular expression matches any string $s$ that can be split into a list on $n$ substrings $s_1$, \n",
    "  $s_2$, $\\cdots$, $s_n$ such that $r$ matches $s_i$ for all $i \\in \\{1,\\cdots,n\\}$.  \n",
    "  Formally, we have\n",
    "  $$\\mathcal{L}(r+) := \n",
    "    \\Bigl\\{ s \\Bigm| \\exists n \\in \\mathbb{N}: \\bigl(n \\geq 1 \\wedge \n",
    "            \\exists s_1,\\cdots,s_n : (s_1 \\cdots s_n = s \\wedge \n",
    "             \\forall i \\in \\{1,\\cdots, n\\}:  s_i \\in \\mathcal{L}(r)\\bigr)  \n",
    "    \\Bigr\\}.\n",
    "  $$\n",
    "  Informally, $r+$ matches $r$ any positive number of times."
   ]
  },
  {
   "cell_type": "code",
   "execution_count": null,
   "id": "b5e0b6ef",
   "metadata": {},
   "outputs": [],
   "source": [
    "\"abaabaAaba\".match(/a+/gi);"
   ]
  },
  {
   "cell_type": "markdown",
   "id": "84e71134",
   "metadata": {},
   "source": [
    "- If $r$ is a regular expressions, then $r*$ is a regular expression.  This\n",
    "  regular expression matches either the empty string or any string $s$ that can be split into a list on $n$ substrings $s_1$, \n",
    "  $s_2$, $\\cdots$, $s_n$ such that $r$ matches $s_i$ for all $i \\in \\{1,\\cdots,n\\}$.  \n",
    "  Formally, we have\n",
    "  $$\\mathcal{L}(r*) := \\bigl\\{ \\texttt{''} \\bigr\\} \\cup\n",
    "    \\Bigl\\{ s \\Bigm| \\exists n \\in \\mathbb{N}: \\bigl(n \\geq 1 \\wedge \n",
    "            \\exists s_1,\\cdots,s_n : (s_1 \\cdots s_n = s \\wedge \n",
    "             \\forall i \\in \\{1,\\cdots, n\\}:  s_i \\in \\mathcal{L}(r)\\bigr)  \n",
    "    \\Bigr\\}.\n",
    "  $$\n",
    "  \n",
    "  Informally, $r*$ matches $r$ any number of times, including zero times.  Therefore, in the following example the result also contains various empty strings.  For example, in the string `'abaabaaaba'` the regular expression `a*` will find an empty string at the beginning of each occurrence of the character `'b'`.  The final occurrence of the empty string is found at the end of the string:"
   ]
  },
  {
   "cell_type": "code",
   "execution_count": null,
   "id": "ef966778",
   "metadata": {},
   "outputs": [],
   "source": [
    "\"abaabbaaaba\".match(/a*/g);"
   ]
  },
  {
   "cell_type": "markdown",
   "id": "e5843196",
   "metadata": {},
   "source": [
    "- If $r$ is a regular expressions, then $r?$ is a regular expression.  This\n",
    "  regular expression matches either the empty string or any string $s$ that is matched by $r$.  Formally we have\n",
    "  $$\\mathcal{L}(r?) := \\bigl\\{ \\texttt{''} \\bigr\\} \\cup \\mathcal{L}(r). $$\n",
    "  Informally, $r?$ matches $r$ at most one times but also zero times.  Therefore, in the following example the result also contains two empty strings.  One of these is found at the beginning of the character `'b'`, the second is found at the end of the string."
   ]
  },
  {
   "cell_type": "code",
   "execution_count": null,
   "id": "56d187a8",
   "metadata": {},
   "outputs": [],
   "source": [
    "\"abaa\".match(/a?/g);"
   ]
  },
  {
   "cell_type": "markdown",
   "id": "04cf2373",
   "metadata": {},
   "source": [
    "- If $r$ is a regular expressions and $m,n\\in\\mathbb{N}$ such that $m \\leq n$, then $r\\{m,n\\}$ is a \n",
    "  regular expression.  This regular expression matches any number $k$ of repetitions of $r$ such that   $m \\leq k \\leq n$.\n",
    "  Formally, we have\n",
    "  $$\\mathcal{L}(r\\{m,n\\}) =\n",
    "    \\Bigl\\{ s \\mid \\exists k \\in \\mathbb{N}: \\bigl(m \\leq k \\leq n \\wedge \n",
    "            \\exists s_1,\\cdots,s_k : (s_1 \\cdots s_k = s \\wedge \n",
    "             \\forall i \\in \\{1,\\cdots, k\\}:  s_i \\in \\mathcal{L}(r)\\bigr)  \n",
    "    \\Bigr\\}.\n",
    "  $$\n",
    "  Informally, $r\\{m,n\\}$ matches $r$ at least $m$ times and at most $n$ times."
   ]
  },
  {
   "cell_type": "code",
   "execution_count": null,
   "id": "a6f640e5",
   "metadata": {},
   "outputs": [],
   "source": [
    "\"aaaa\".match(/a{2,3}/g);"
   ]
  },
  {
   "cell_type": "markdown",
   "id": "5bd79f2a",
   "metadata": {},
   "source": [
    "Above, the regular expression `r'a{2,3}'` matches the string `'aaaa'` only once since the first match consumes three occurrences of `a` and then there is only a single `a` left."
   ]
  },
  {
   "cell_type": "markdown",
   "id": "4d29f39e",
   "metadata": {},
   "source": [
    "If $r$ is a regular expressions and $n\\in\\mathbb{N}$, then $r\\{n\\}$ is a regular expression.  This regular expression matches exactly $n$ repetitions of $r$.  Formally, we have\n",
    "  $$\\mathcal{L}(r\\{n\\}) = \\mathcal{L}(r\\{n,n\\}).$$"
   ]
  },
  {
   "cell_type": "code",
   "execution_count": null,
   "id": "b9c48e9e",
   "metadata": {},
   "outputs": [],
   "source": [
    "\"aabaaaba\".match(/a{2}/g);"
   ]
  },
  {
   "cell_type": "markdown",
   "id": "d3f1f0a8",
   "metadata": {},
   "source": [
    "If $r$ is a regular expressions and $n\\in\\mathbb{N}$, then $r\\{,n\\}$ is a regular expression.  This regular expression matches up to $n$ repetitions of $r$.  Formally, we have\n",
    "  $$\\mathcal{L}(r\\{,n\\}) = \\mathcal{L}(r\\{0,n\\}).$$"
   ]
  },
  {
   "cell_type": "code",
   "execution_count": null,
   "id": "dab0e1dc",
   "metadata": {},
   "outputs": [],
   "source": [
    "\"aabaaabba\".match(/a{0,2}/g);"
   ]
  },
  {
   "cell_type": "markdown",
   "id": "a95d1b77",
   "metadata": {},
   "source": [
    "If $r$ is a regular expressions and $n\\in\\mathbb{N}$, then $r\\{n,\\}$ is a regular expression.  This regular expression matches $n$ or more repetitions of $r$.  Formally, we have\n",
    "  $$\\mathcal{L}(r\\{n,\\}) = \\mathcal{L}(r\\{n\\}r*).$$"
   ]
  },
  {
   "cell_type": "code",
   "execution_count": null,
   "id": "d0028341",
   "metadata": {},
   "outputs": [],
   "source": [
    "\"aabaaaba\".match(/a{2,}/g);"
   ]
  },
  {
   "cell_type": "markdown",
   "id": "632396b3",
   "metadata": {},
   "source": [
    "## Non-Greedy Quantifiers\n",
    "\n",
    "The quantifiers `?`, `+`, `*`, `{m,n}`, `{n}`, `{0,n}`, and `{n,}` are <em style=\"color:blue\">greedy</em>, i.e. they \n",
    "match the longest possible substrings.  Suffixing these operators with the character `?` makes them \n",
    "<em style=\"color:blue\">non-greedy</em>.  For example, the regular expression `a{2,3}?` matches either \n",
    "two occurrences or three occurrences of the character `a` but will prefer to match only two characters.  Hence, the regular expression `a{2,3}?` will find two matches in the string `'aaaa'`, while the regular expression `a{2,3}` only finds a single match. "
   ]
  },
  {
   "cell_type": "code",
   "execution_count": null,
   "id": "bb884db9",
   "metadata": {},
   "outputs": [],
   "source": [
    "\"aaaa\".match(/a{2,3}?/g);"
   ]
  },
  {
   "cell_type": "code",
   "execution_count": null,
   "id": "4f63d38c",
   "metadata": {},
   "outputs": [],
   "source": [
    "\"aaaa\".match(/a{2,3}/g);"
   ]
  },
  {
   "cell_type": "markdown",
   "id": "32db71ea",
   "metadata": {},
   "source": [
    "## Character Classes\n",
    "\n",
    "In order to match a set of characters we can use a <em style=\"color:blue\">character class</em>.\n",
    "If $c_1$, $\\cdots$, $c_n$ are Unicode characters, then $[c_1\\cdots c_n]$ is a regular expression that \n",
    "matches any of the characters from the set $\\{c_1,\\cdots,c_n\\}$:\n",
    "$$ \\mathcal{L}\\bigl([c_1\\cdots c_n]\\bigr) := \\{ c_1, \\cdots, c_n \\} $$"
   ]
  },
  {
   "cell_type": "code",
   "execution_count": null,
   "id": "3aea137f",
   "metadata": {},
   "outputs": [],
   "source": [
    "\"abcdcba\".match(/[abc]+/g);"
   ]
  },
  {
   "cell_type": "markdown",
   "id": "05113bbc",
   "metadata": {},
   "source": [
    "Character classes can also contain <em style=\"color:blue\">ranges</em>.  Syntactically, a range has the form\n",
    "$c_1\\texttt{-}c_2$, where $c_1$ and $c_2$ are Unicode characters.\n",
    "For example, the regular expression `[0-9]` contains the range `0-9` and matches any decimal digit.  To find all natural numbers embedded in a string we could use the regular expression `[1-9][0-9]*|[0-9]`.  This regular expression matches either a single digit or a string that starts with a non-zero digit and is followed by any number of digits."
   ]
  },
  {
   "cell_type": "code",
   "execution_count": null,
   "id": "48566556",
   "metadata": {},
   "outputs": [],
   "source": [
    "\"11 abc 12 2345 007 42 0\".match(/[1-9][0-9]*|0/g)"
   ]
  },
  {
   "cell_type": "markdown",
   "id": "56aaa9b9",
   "metadata": {},
   "source": [
    "Note that the next example looks quite similar but gives a different result:"
   ]
  },
  {
   "cell_type": "code",
   "execution_count": null,
   "id": "19db4826",
   "metadata": {},
   "outputs": [],
   "source": [
    "\"11 abc 12 2345 007 42 0\".match(/[0-9]|[1-9][0-9]*/g)"
   ]
  },
  {
   "cell_type": "markdown",
   "id": "d4801b19",
   "metadata": {},
   "source": [
    "Here, the regular expression starts with the alternative `[0-9]`, which matches any single digit.\n",
    "As soon as one digit is found, the match is returned and the search continues from the end of that match.\n",
    "Therefore, when this regular expression is used with the `match()` method (and the global flag `g`),\n",
    "it will only return a list of individual digits, rather than multi-digit numbers."
   ]
  },
  {
   "cell_type": "markdown",
   "id": "2a32410b",
   "metadata": {},
   "source": [
    "There are some predefined *character classes*:\n",
    "- `\\d` matches any digit.\n",
    "- `\\D` matches any non-digit character.\n",
    "- `\\s` matches any whitespace character.\n",
    "- `\\S` matches any non-whitespace character.\n",
    "- `\\w` matches any alphanumeric character.\n",
    "  If we would use only <font style=\"font-variant: small-caps\">Ascii</font> characters this would \n",
    "  be equivalent to the character class `[0-9a-zA-Z_]`.\n",
    "- `\\W` matches any non-alphanumeric character.\n",
    "- `\\b` matches at a word boundary.  \n",
    "  The string that is matched is the empty string.\n",
    "- `\\B` matches at any place that is **not** a word boundary.  \n",
    "  Again, the string that is matched is the empty string.\n",
    "\n",
    "These escape sequences can also be used inside of square brackets."
   ]
  },
  {
   "cell_type": "code",
   "execution_count": null,
   "id": "3a8ac4bf",
   "metadata": {},
   "outputs": [],
   "source": [
    "\"11 abc12 1a2 2b3c4d5\".match(/[\\dabcde]+/g)"
   ]
  },
  {
   "cell_type": "markdown",
   "id": "1b36b015",
   "metadata": {},
   "source": [
    "Character classes can be negated if the first character after the opening `[` is the character `^`.\n",
    "For example, `[^abc]` matches any character that is different from `a`, `b`, or `c`."
   ]
  },
  {
   "cell_type": "code",
   "execution_count": null,
   "id": "fe781f4d",
   "metadata": {},
   "outputs": [],
   "source": [
    "\"axyzbuvwchij\".match(/[^abc]+/g)"
   ]
  },
  {
   "cell_type": "code",
   "execution_count": null,
   "id": "36017aa6",
   "metadata": {},
   "outputs": [],
   "source": [
    "\"This is some text where we want to extract the words.\".match(/\\b\\w+\\b/g)"
   ]
  },
  {
   "cell_type": "markdown",
   "id": "eaf367f3",
   "metadata": {},
   "source": [
    "The following regular expression uses the character class `\\b` to isolate numbers.  Note that we had to use parentheses since concatenation of regular expressions binds stronger than the choice operator `|`."
   ]
  },
  {
   "cell_type": "code",
   "execution_count": null,
   "id": "fea6c21c",
   "metadata": {},
   "outputs": [],
   "source": [
    "\"11 abc 12 2345 007 42 0\".match(/\\b([1-9][0-9]*|0)\\b/g)"
   ]
  },
  {
   "cell_type": "code",
   "execution_count": null,
   "id": "12146022",
   "metadata": {},
   "outputs": [],
   "source": [
    "\"11 abc 12 2345 007 42 0\".match(/\\b([0-9]|[1-9][0-9]*)\\b/g)"
   ]
  },
  {
   "cell_type": "markdown",
   "id": "6c9edc80",
   "metadata": {},
   "source": [
    "## Grouping\n",
    "\n",
    "If $r$ is a regular expression, then $(r)$ is a regular expression describing the same language as \n",
    "$r$.  There are two reasons for using parentheses:\n",
    "- Parentheses can be used to override the precedence of an operator.\n",
    "  This concept is the same as in programming languages.  For example, the regular expression `ab+`\n",
    "  matches the character `a` followed by any positive number of occurrences of the character `b` because\n",
    "  the precedence of a quantifiers is higher than the precedence of concatenation of regular expressions. \n",
    "  However, `(ab)+` matches the strings `ab`, `abab`, `ababab`, and so on.\n",
    "- Parentheses can be used for <em style=\"color:blue\">back-references</em> because inside \n",
    "  a regular expression we can refer to the substring matched by a regular expression enclosed in a pair of\n",
    "  parentheses using the syntax $\\backslash n$ where $n \\in \\{1,\\cdots,9\\}$.\n",
    "  Here, $\\backslash n$ refers to the $n^{\\mathrm{th}}$ parenthesized <em style=\"color:blue\">group</em> in the regular \n",
    "  expression, where a group is defined as any part of the regular expression enclosed in parentheses.\n",
    "  Counting starts with the left parentheses,  For example, the regular expression\n",
    "  ```\n",
    "  (a(b|c)*d)?ef(gh)+\n",
    "  ```\n",
    "  has three groups:\n",
    "  1. `(a(b|c)*d)` is the first group,\n",
    "  2. `(b|c)` is the second group, and\n",
    "  3. `(gh)` is the third group.\n",
    "  \n",
    "  For example, if we want to recognize a string that starts with a number followed by some white space and then\n",
    "  followed by the <b>same</b> number we can use the regular expression `(\\d+)\\w+\\1`."
   ]
  },
  {
   "cell_type": "code",
   "execution_count": null,
   "id": "17519f2c",
   "metadata": {},
   "outputs": [],
   "source": [
    "[...\"12 12 23 23 17 18\".matchAll(/(\\d+)\\s+\\1/g)].map(m => m[1]);"
   ]
  },
  {
   "cell_type": "markdown",
   "id": "847e5b94",
   "metadata": {},
   "source": [
    "In general, given a digit $n$, the expression $\\backslash n$ refers to the string matched in the $n$-th group of the regular expression."
   ]
  },
  {
   "cell_type": "markdown",
   "id": "e9e25950",
   "metadata": {},
   "source": [
    "## The Dot\n",
    "\n",
    "The regular expression `.` matches any character except the newline.  For example, `c.*?t` matches any string that starts with the character `c` and ends with the character `t` and does not contain any newline.  If we are using the non-greedy version of the quantifier `*`, we can find all such words in the string below."
   ]
  },
  {
   "cell_type": "code",
   "execution_count": null,
   "id": "0decc776",
   "metadata": {
    "scrolled": true
   },
   "outputs": [],
   "source": [
    "\"ct cat caat could we look at that!\".match(/c.*t/g)"
   ]
  },
  {
   "cell_type": "markdown",
   "id": "1d015542",
   "metadata": {},
   "source": [
    "The dot `.` does not have any special meaning when used inside a character range.  Hence, the regular expression\n",
    "`[.]` matches only the character `.`."
   ]
  },
  {
   "cell_type": "markdown",
   "id": "d80a4800",
   "metadata": {},
   "source": [
    "## Named Groups\n",
    "\n",
    "Referencing a group via the syntax `\\n` where `n` is a natural number is both cumbersome and error-prone.  Instead, we can use *named groups*. \n",
    "The syntax to define a named group is \n",
    "```\n",
    "(?P<name>r)\n",
    "```\n",
    "where `name` is the name of the group and `r` is the regular expression.  To refer to the string matched by this group we use the following syntax:\n",
    "```\n",
    "(?P=name)\n",
    "```\n",
    "For example, below we try to find a string of alphanumeric characters that is either contained in single quotes or in double quotes.  The regular\n",
    "expression `[\\'\"]` matches either a single or a double quote.  By referring to the regular expression that has been named\n",
    "`quote` we ensure that an opening single quote is matched by a closing single quote and an opening double quote is matched by a \n",
    "closing double quote."
   ]
  },
  {
   "cell_type": "code",
   "execution_count": null,
   "id": "62b6e8a2",
   "metadata": {},
   "outputs": [],
   "source": [
    "[...`abc \"uvw\" and 'xyz'`.matchAll(/(?<quote>['\"])\\w*\\k<quote>/g)].map(m => [m[0], m.groups?.quote]);"
   ]
  },
  {
   "cell_type": "markdown",
   "id": "f0d84770",
   "metadata": {},
   "source": [
    "## Start and End of a Line"
   ]
  },
  {
   "cell_type": "markdown",
   "id": "6e9f5bef",
   "metadata": {},
   "source": [
    "The regular expression `^` matches the start of a string.\n",
    "If the `m` flag (multiline mode) is enabled — which we usually do\n",
    "when working with patterns containing `^` — it also matches\n",
    "the beginning of each line, i.e. immediately after every newline character.\n",
    "\n",
    "Similarly, the regular expression `$` matches the end of a string.\n",
    "When the `m` flag is set, `$` also matches at the end of each line,\n",
    "i.e. right before every newline character."
   ]
  },
  {
   "cell_type": "code",
   "execution_count": null,
   "id": "e2ac4e26",
   "metadata": {},
   "outputs": [],
   "source": [
    "`This is a text containing five lines, two of which are empty.\n",
    "This is the second non-empty line,\n",
    "\n",
    "and this is the third non-empty line.\n",
    "`.match(/^.+$/gm)"
   ]
  },
  {
   "cell_type": "markdown",
   "id": "f2c8aaac",
   "metadata": {},
   "source": [
    "## Lookahead Assertions"
   ]
  },
  {
   "cell_type": "markdown",
   "id": "f9eb5c40",
   "metadata": {},
   "source": [
    "Sometimes we need to look ahead in order to know whether we have found what we are looking for.  Consider the case that you want to add up all numbers followed by a dollar symbol but you are not interested in any other numbers.  In this case a \n",
    "*lookahead assertion* comes in handy.  The syntax of a lookahead assertion is:\n",
    "$$ r_1 (\\texttt{?=}r_2) $$\n",
    "Here $r_1$ and $r_2$ are regular expressions and `?=` is the <em style=\"color:blue\">lookahead operator</em>.  $r_1$ is the regular expression you are searching for while $r_2$ is the regular expression describing the lookahead.  Note that this lookahead is **not** matched.  It is only checked whether $r_1$ is followed by $r_2$ but only the text matching $r_1$ is matched.   Syntactically, the\n",
    "lookahead $r_2$ has to be preceded by the lookahead operator and both have to be surrounded by parentheses.\n",
    "\n",
    "In the following example we are looking for all numbers that are followed by dollar symbols and we sum these numbers up."
   ]
  },
  {
   "cell_type": "code",
   "execution_count": null,
   "id": "1f80c24f",
   "metadata": {},
   "outputs": [],
   "source": [
    "const matches = [...\"Here is 1$, here are 21€, and there are 42 $.\".matchAll(/([0-9]+)(?=\\s*\\$)/g)].map(m => m[1]);\n",
    "\n",
    "console.log(`L = ${JSON.stringify(matches)}`);\n",
    "\n",
    "// Convert to numbers and sum\n",
    "const total = matches.map(Number).reduce((a, b) => a + b, 0);\n",
    "console.log(`Sum = ${total}`);"
   ]
  },
  {
   "cell_type": "markdown",
   "id": "cc316174",
   "metadata": {},
   "source": [
    "There are also <em style=\"color:blue\">negative lookahead assertion</em>.  The syntax is:\n",
    "$$ r_1 (\\texttt{?!}r_2)  $$\n",
    "Here $r_1$ and $r_2$ are regular expressions and `?!` is the <em style=\"color:blue\">negative lookahead operator</em>. \n",
    "The expression above checks for all occurrences of $r_1$ that are <b>not</b> followed by $r_2$.  \n",
    "\n",
    "In the following examples we sum up all numbers that are <u>not</u> followed by a dollar symbol.\n",
    "Note that the lookahead expression has to ensure that there are no additional digits.  In general, negative lookahead is very tricky and I recommend against using it."
   ]
  },
  {
   "cell_type": "code",
   "execution_count": null,
   "id": "987f7a9e",
   "metadata": {},
   "outputs": [],
   "source": [
    "const matches = \"Here is 1$, here are 21 €, and there are 42 $.\".match(/[0-9]+(?![0-9]*\\s*\\$)/g) ?? [];\n",
    "console.log(`L = ${JSON.stringify(matches)}`);\n",
    "\n",
    "// Convert to numbers and sum\n",
    "const total = matches.map(Number).reduce((a, b) => a + b, 0);\n",
    "console.log(`Sum = ${total}`);"
   ]
  },
  {
   "cell_type": "markdown",
   "id": "f5efd00f",
   "metadata": {},
   "source": [
    "## Examples"
   ]
  },
  {
   "cell_type": "markdown",
   "id": "b577d70b",
   "metadata": {},
   "source": [
    "In order to have some strings to play with, let us read the file `alice.txt`, which contains the book\n",
    "[Alice's Adventures in Wonderland](https://en.wikipedia.org/wiki/Alice%27s_Adventures_in_Wonderland) written by \n",
    "[Lewis Carroll](https://en.wikipedia.org/wiki/Lewis_Carroll)."
   ]
  },
  {
   "cell_type": "code",
   "execution_count": null,
   "id": "6710996f",
   "metadata": {
    "scrolled": true
   },
   "outputs": [],
   "source": [
    "const text = readFileSync(\"alice.txt\", \"utf8\");"
   ]
  },
  {
   "cell_type": "code",
   "execution_count": null,
   "id": "b4744aca",
   "metadata": {},
   "outputs": [],
   "source": [
    "console.log(text.slice(0, 1020));"
   ]
  },
  {
   "cell_type": "markdown",
   "id": "02979cea",
   "metadata": {},
   "source": [
    "How many non-empty lines does this story have?"
   ]
  },
  {
   "cell_type": "code",
   "execution_count": null,
   "id": "90ecec23",
   "metadata": {},
   "outputs": [],
   "source": [
    "(text.match(/^.*\\S.*$/gm) ?? []).length"
   ]
  },
  {
   "cell_type": "markdown",
   "id": "20683d58",
   "metadata": {},
   "source": [
    "Next, let us check, whether this text is suitable for minors.  In order to do so we search for all *four\n",
    "letter words* that start with either `d`, `f` or `s` and end with `k` or `t`."
   ]
  },
  {
   "cell_type": "code",
   "execution_count": null,
   "id": "862c51b4",
   "metadata": {},
   "outputs": [],
   "source": [
    "[...new Set(text.match(/\\b[dfs]\\w{2}[kt]\\b/gi) ?? [])]"
   ]
  },
  {
   "cell_type": "markdown",
   "id": "579f70c0",
   "metadata": {},
   "source": [
    "How many words are in this text and how many different words are used?"
   ]
  },
  {
   "cell_type": "code",
   "execution_count": null,
   "id": "41605faf",
   "metadata": {},
   "outputs": [],
   "source": [
    "const words = text.toLowerCase().match(/\\b\\w+\\b/g) ?? [];\n",
    "const uniqueWords = new Set(words);\n",
    "console.log(\n",
    "  `There are ${words.length} words in this book and ${uniqueWords.size} different words.`\n",
    ");"
   ]
  }
 ],
 "metadata": {
  "kernelspec": {
   "display_name": "TypeScript",
   "language": "typescript",
   "name": "tslab"
  },
  "language_info": {
   "codemirror_mode": {
    "mode": "typescript",
    "name": "javascript",
    "typescript": true
   },
   "file_extension": ".ts",
   "mimetype": "text/typescript",
   "name": "typescript",
   "version": "3.7.2"
  }
 },
 "nbformat": 4,
 "nbformat_minor": 5
}
