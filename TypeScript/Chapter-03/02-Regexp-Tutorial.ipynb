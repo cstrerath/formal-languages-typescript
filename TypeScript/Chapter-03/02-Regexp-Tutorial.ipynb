{
 "cells": [
  {
   "cell_type": "code",
   "execution_count": 1,
   "id": "bd4d40f3",
   "metadata": {},
   "outputs": [
    {
     "data": {
      "text/html": [
       "<style><link href='http://fonts.googleapis.com/css?family=Alegreya+Sans:100,300,400,500,700,800,900,100italic,300italic,400italic,500italic,700italic,800italic,900italic' rel='stylesheet' type='text/css'>\r\n",
       "<link href='http://fonts.googleapis.com/css?family=Arvo:400,700,400italic' rel='stylesheet' type='text/css'>\r\n",
       "<link href='http://fonts.googleapis.com/css?family=PT+Mono' rel='stylesheet' type='text/css'>\r\n",
       "<link href='http://fonts.googleapis.com/css?family=Shadows+Into+Light' rel='stylesheet' type='text/css'>\r\n",
       "<link href='http://fonts.googleapis.com/css?family=Philosopher:400,700,400italic,700italic' rel='stylesheet' type='text/css'>\r\n",
       "<link href=\"http://fonts.googleapis.com/css?family=Sacramento\" rel=\"stylesheet\" type=\"text/css\">\r\n",
       "\r\n",
       "<style>\r\n",
       "\r\n",
       "@font-face {\r\n",
       "    font-family: \"Computer Modern\";\r\n",
       "    src: url('http://mirrors.ctan.org/fonts/cm-unicode/fonts/otf/cmunss.otf');\r\n",
       "}\r\n",
       "\r\n",
       ".container { width: 100% }\r\n",
       "\r\n",
       "/* Formatting for header cells */\r\n",
       ".text_cell_render h1 {\r\n",
       "    font-family: 'Philosopher', sans-serif;\r\n",
       "    font-weight: 400;\r\n",
       "    font-size: 2.2em;\r\n",
       "    line-height: 100%;\r\n",
       "    color: rgb(0, 80, 120);\r\n",
       "    margin-bottom: 0.1em;\r\n",
       "    margin-top: 0.1em;\r\n",
       "    display: block;\r\n",
       "}\t\r\n",
       ".text_cell_render h2 {\r\n",
       "    font-family: 'Philosopher', serif;\r\n",
       "    font-weight: 400;\r\n",
       "    font-size: 1.9em;\r\n",
       "    line-height: 100%;\r\n",
       "    color: rgb(200,100,0);\r\n",
       "    margin-bottom: 0.1em;\r\n",
       "    margin-top: 0.1em;\r\n",
       "    display: block;\r\n",
       "}\t\r\n",
       "\r\n",
       ".text_cell_render h3 {\r\n",
       "    font-family: 'Philosopher', serif;\r\n",
       "    margin-top:12px;\r\n",
       "    margin-bottom: 3px;\r\n",
       "    font-style: italic;\r\n",
       "    color: rgb(94,127,192);\r\n",
       "}\r\n",
       "\r\n",
       ".text_cell_render h4 {\r\n",
       "    font-family: 'Philosopher', serif;\r\n",
       "}\r\n",
       "\r\n",
       ".text_cell_render h5 {\r\n",
       "    font-family: 'Alegreya Sans', sans-serif;\r\n",
       "    font-weight: 300;\r\n",
       "    font-size: 16pt;\r\n",
       "    color: grey;\r\n",
       "    font-style: italic;\r\n",
       "    margin-bottom: .1em;\r\n",
       "    margin-top: 0.1em;\r\n",
       "    display: block;\r\n",
       "}\r\n",
       "\r\n",
       ".text_cell_render h6 {\r\n",
       "    font-family: 'PT Mono', sans-serif;\r\n",
       "    font-weight: 300;\r\n",
       "    font-size: 10pt;\r\n",
       "    color: grey;\r\n",
       "    margin-bottom: 1px;\r\n",
       "    margin-top: 1px;\r\n",
       "}\r\n",
       "\r\n",
       ".text_cell_render em {\r\n",
       "    font-family: 'Philosopher', sans-serif;\r\n",
       "    color:        blue;\r\n",
       "    background-color: rgb(255,220,180);\r\n",
       "    font-size:    110%;\r\n",
       "    margin-left:   2px;\r\n",
       "    margin-right:  2px;\r\n",
       "    font-weight:   100;\r\n",
       "}\r\n",
       "\r\n",
       ".text_cell_render b {\r\n",
       "    color:            rgb(255,195,195);\r\n",
       "    background-color: rgb(0,0,0);\r\n",
       "    font-size:    110%;\r\n",
       "    margin-left:   2px;\r\n",
       "    margin-right:  2px;\r\n",
       "    font-weight:   650;\r\n",
       "}\r\n",
       "\r\n",
       ".text_cell_render u {\r\n",
       "    color:            blue;\r\n",
       "    font-size:    110%;\r\n",
       "    margin-left:   2px;\r\n",
       "    margin-right:  2px;\r\n",
       "    font-weight:   650;\r\n",
       "}\r\n",
       "\r\n",
       ".text_cell_render tt {\r\n",
       "    font-size:    120%;\r\n",
       "    margin-left:   2px;\r\n",
       "    margin-right:  2px;\r\n",
       "    font-weight:   150;\r\n",
       "}\r\n",
       "\r\n",
       ".Codemirror {\r\n",
       "    font-family: \"PT Mono\";\r\n",
       "    font-size: 100%;\r\n",
       "}\r\n",
       "\r\n",
       "#fancy {\r\n",
       "    font-family:      Georgia;\r\n",
       "    position:         relative;\r\n",
       "    float:            left;\r\n",
       "    border:           2px solid red;\r\n",
       "    width:            600px;\r\n",
       "    padding-left:     20px;\r\n",
       "    padding-right:    20px;\r\n",
       "    padding-top:      10px;\r\n",
       "    font-family:      'Sacramento', cursive;\r\n",
       "    font-size:        26px;\r\n",
       "    background-color: #F4EBF3;\r\n",
       "    border-radius:    15px;\r\n",
       "}\r\n",
       "\r\n",
       "</Style>\r\n",
       "\r\n",
       "</style>"
      ]
     },
     "metadata": {},
     "output_type": "display_data"
    }
   ],
   "source": [
    "import { display } from \"tslab\";\n",
    "import { readFileSync } from \"fs\";\n",
    "\n",
    "const css = readFileSync(\"../style.css\", \"utf8\");\n",
    "display.html(`<style>${css}</style>`);"
   ]
  },
  {
   "cell_type": "markdown",
   "id": "cb020e2e",
   "metadata": {},
   "source": [
    "# Regular Expressions in TypeScript (A Short Tutorial)\n",
    "\n",
    "This tutorial provides an in-depth exploration of how regular expressions are implemented in TypeScript. \n",
    "It is assumed that the reader is already familiar with the fundamental concepts of [regular expressions](https://en.wikipedia.org/wiki/Regular_expression), typically covered in formal language courses such as [Formal Languages and Their Application](https://github.com/karlstroetmann/Formal-Languages/blob/master/Lecture-Notes/formal-languages.pdf). The focus here is to bridge the gap between the theoretical understanding of regular expressions and their practical application within the TypeScript programming environment.\n",
    "\n",
    "In TypeScript, regular expressions are integrated into the core language as first-class citizens, accessible through regex literals and the `RegExp` object."
   ]
  },
  {
   "cell_type": "markdown",
   "id": "acff5f14",
   "metadata": {},
   "source": [
    "## Regular Expressions as Formal Languages\n",
    "\n",
    "Regular expressions serve as textual patterns that define <em style=\"color:blue\">languages</em>. In this context, a <em style=\"color:blue\">language</em> is understood as a specific <em style=\"color:blue\">set of strings</em>. For the ensuing discussion, let $\\Sigma$ be the universal set of all Unicode characters, and $\\Sigma^*$ the set comprising all strings formed from these Unicode characters. We will inductively define the set $\\textrm{RegExp}$ of regular expressions.\n",
    "\n",
    "To elucidate the semantics of a given regular expression \\(r\\), we introduce a function\n",
    "\n",
    "$$\\mathcal{L}: \\textrm{RegExp} \\rightarrow 2^{\\Sigma^*}$$\n",
    "\n",
    "where $\\mathcal{L}(r)$ denotes the <em style=\"color:blue\">language</em> represented by the regular expression $r$."
   ]
  },
  {
   "cell_type": "markdown",
   "id": "59fa80c8",
   "metadata": {},
   "source": [
    "## The `match()` Method\n",
    "\n",
    "To illustrate the functionality of regular expressions, we will employ the `match()` method from TypeScript's `String` class. The basic syntax is:\n",
    "\n",
    "```\"inputText\".match(/pattern/flags)```\n",
    "\n",
    "In this expression, the parameters are interpreted in the following manner:\n",
    "- /pattern/ is a regular expression literal that defines the search pattern.\n",
    "- \"Input_Text\" is the target string in which we want to locate substrings matching the given pattern.\n",
    "- flags are optional modifiers that influence how the regular expression behaves.\n",
    "\n",
    "The components are:\n",
    "- `/pattern/` - A regular expression literal defining the search pattern\n",
    "- `\"inputText\"` - The target string in which we search for matches\n",
    "- `flags` - Optional modifiers that influence matching behavior\n",
    "\n",
    "Common flags include:\n",
    "- `g` - **global search**: find all matches instead of just the first\n",
    "- `i` - **ignore case**: perform case-insensitive matching  \n",
    "- `m` - **multiline mode**: anchors `^` and `$` match line boundaries\n",
    "\n",
    "When used with the `g` flag, `match()` returns an array of all non-overlapping substrings that match the regular expression.\n",
    "\n",
    "**Example:** The regular expression `/a/g` searches for all lowercase `a` characters:"
   ]
  },
  {
   "cell_type": "code",
   "execution_count": 2,
   "id": "8c7da32f",
   "metadata": {},
   "outputs": [
    {
     "name": "stdout",
     "output_type": "stream",
     "text": [
      "[ \u001b[32m'a'\u001b[39m, \u001b[32m'a'\u001b[39m ]\n"
     ]
    }
   ],
   "source": [
    "\"abcabcABC\".match(/a/g);"
   ]
  },
  {
   "cell_type": "markdown",
   "id": "80c79192",
   "metadata": {},
   "source": [
    "This returns `['a', 'a']`, matching only the two lowercase letters.\n",
    "\n",
    "In the next example, the flags `gi` are combined for global, case-insensitive matching:"
   ]
  },
  {
   "cell_type": "code",
   "execution_count": 3,
   "id": "92628c87",
   "metadata": {
    "scrolled": true
   },
   "outputs": [
    {
     "name": "stdout",
     "output_type": "stream",
     "text": [
      "[ \u001b[32m'a'\u001b[39m, \u001b[32m'a'\u001b[39m, \u001b[32m'A'\u001b[39m ]\n"
     ]
    }
   ],
   "source": [
    "\"abcabcABC\".match(/a/gi);"
   ]
  },
  {
   "cell_type": "markdown",
   "id": "b9d3219c",
   "metadata": {},
   "source": [
    "This returns `['a', 'a', 'A']`, matching all three occurrences regardless of case."
   ]
  },
  {
   "cell_type": "markdown",
   "id": "7bf06007",
   "metadata": {},
   "source": [
    "## Meta-Characters\n",
    "\n",
    "To commence our investigation into the set $\\textrm{RegExp}$, we first define the set $\\texttt{MetaChars}$ - the collection of all meta-characters used in regular expressions:\n",
    "```\n",
    "MetaChars := { '.', '^', '$', '*', '+', '?', '{', '}', '[', ']', '\\', '|', '(', ')' }\n",
    "```\n",
    "These characters have special syntactic meanings in regular expressions:\n",
    "- `.` matches any character except newlines\n",
    "- `^` and `$` mark the start and end of a string (or line with the `m` flag)\n",
    "- `*`, `+`, and `?` define quantifiers\n",
    "- `{}` specify repetition ranges\n",
    "- `[]` define character classes\n",
    "- `|` is the alternation (OR) operator\n",
    "- `()` create groupings for subpatterns or capture groups\n",
    "- `\\` escapes special characters"
   ]
  },
  {
   "cell_type": "markdown",
   "id": "bb990027",
   "metadata": {},
   "source": [
    "## Basic Regular Expressions\n",
    "\n",
    "Now we can start our inductive definition of regular expressions:\n",
    "\n",
    "**1. Literal Characters:**\n",
    "- Any Unicode character $c$ such that $c \\not\\in \\textrm{MetaChars}$ is a regular expression matching that character:\n",
    "$$\\mathcal{L}(c) = \\{ c \\}$$\n",
    "\n",
    "**2. Escaped Meta-Characters:**\n",
    "- If $c$ is a meta-character (i.e., $c \\in \\textrm{MetaChars}$), then $\\backslash c$ is a regular expression matching the literal character $c$:\n",
    "$$\\mathcal{L}(\\backslash c) = \\{ c \\}$$\n",
    "\n",
    "**Example:** To match a literal `+` symbol in the string `\"1+1=2\"`:"
   ]
  },
  {
   "cell_type": "code",
   "execution_count": 4,
   "id": "2cff1b93",
   "metadata": {},
   "outputs": [
    {
     "name": "stdout",
     "output_type": "stream",
     "text": [
      "[ \u001b[32m'+'\u001b[39m ]\n"
     ]
    }
   ],
   "source": [
    "\"1+1=2\".match(/\\+/g);"
   ]
  },
  {
   "cell_type": "markdown",
   "id": "ec613bb7",
   "metadata": {},
   "source": [
    "This returns `['+']`, matching the plus sign which would otherwise be interpreted as a quantifier."
   ]
  },
  {
   "cell_type": "markdown",
   "id": "6c658415",
   "metadata": {},
   "source": [
    "## Concatenation"
   ]
  },
  {
   "cell_type": "markdown",
   "id": "2eb7d4d8",
   "metadata": {},
   "source": [
    "The next rule shows how regular expressions can be <em style=\"color:blue\">concatenated</em>:\n",
    "- If $r_1$ and $r_2$ are regular expressions, then $r_1r_2$ is a regular expression. This\n",
    "  regular expression matches any string $s$ that can be split into two substrings $s_1$ and $s_2$ \n",
    "  such that $r_1$ matches $s_1$ and $r_2$ matches $s_2$. Formally, we have\n",
    "  $$\\mathcal{L}(r_1r_2) := \n",
    "    \\bigl\\{ s_1 \\cdot s_2 \\mid s_1 \\in \\mathcal{L}(r_1) \\wedge s_2 \\in \\mathcal{L}(r_2) \\bigr\\}.\n",
    "  $$\n",
    "  \n",
    "In formal language theory, the notation $r_1 \\cdot r_2$ is often used, but in TypeScript we simply write $r_1r_2$ by placing the expressions side-by-side.\n",
    "\n",
    "Using concatenation of regular expressions, we can now find words:"
   ]
  },
  {
   "cell_type": "code",
   "execution_count": 5,
   "id": "07238cff",
   "metadata": {
    "scrolled": true
   },
   "outputs": [
    {
     "name": "stdout",
     "output_type": "stream",
     "text": [
      "[ \u001b[32m'The'\u001b[39m, \u001b[32m'the'\u001b[39m, \u001b[32m'the'\u001b[39m ]\n"
     ]
    }
   ],
   "source": [
    "\"The horse, the dog, and the cat.\".match(/the/gi);"
   ]
  },
  {
   "cell_type": "markdown",
   "id": "2a10678e",
   "metadata": {},
   "source": [
    "This returns `['he' 'the', 'the']`, matching all occurrences of \"the\" regardless of case."
   ]
  },
  {
   "cell_type": "markdown",
   "id": "4e2c93fd",
   "metadata": {},
   "source": [
    "## Choice"
   ]
  },
  {
   "cell_type": "markdown",
   "id": "0f8c80d7",
   "metadata": {},
   "source": [
    "Regular expressions provide the operator `|` that can be used to choose between \n",
    "<em style=\"color:blue\">alternatives</em>:\n",
    "- If $r_1$ and $r_2$ are regular expressions, then $r_1|r_2$ is a regular expression. This\n",
    "  regular expression matches any string $s$ that is matched by either $r_1$ or $r_2$.\n",
    "  Formally, we have\n",
    "  $$\\mathcal{L}(r_1|r_2) := \\mathcal{L}(r_1) \\cup \\mathcal{L}(r_2). $$\n",
    "  \n",
    "In formal language theory, the notation $r_1 + r_2$ is often used to denote choice, but TypeScript uses the pipe symbol `|` (alternation operator)."
   ]
  },
  {
   "cell_type": "code",
   "execution_count": 6,
   "id": "be2bcbd2",
   "metadata": {},
   "outputs": [
    {
     "name": "stdout",
     "output_type": "stream",
     "text": [
      "[ \u001b[32m'The'\u001b[39m, \u001b[32m'the'\u001b[39m, \u001b[32m'a'\u001b[39m, \u001b[32m'a'\u001b[39m, \u001b[32m'a'\u001b[39m ]\n"
     ]
    }
   ],
   "source": [
    "\"The horse, the dog, and a cat.\".match(/the|a/gi);"
   ]
  },
  {
   "cell_type": "markdown",
   "id": "e1f885a2",
   "metadata": {},
   "source": [
    "This returns `['The', 'the', 'a', 'a', 'a']`, matching either \"the\" or any single `a` character (case-insensitive). The five matches are: \"The\", \"the\", the `a` in \"and\", the standalone \"a\", and the `a` in \"cat\"."
   ]
  },
  {
   "cell_type": "markdown",
   "id": "7e06bfab",
   "metadata": {},
   "source": [
    "## Quantifiers"
   ]
  },
  {
   "cell_type": "markdown",
   "id": "9a98bff3",
   "metadata": {},
   "source": [
    "The most interesting regular expression operators are the <em style=\"color:blue\">quantifiers</em>.\n",
    "The official documentation calls them <em style=\"color:blue\">repetition qualifiers</em>, but in this notebook \n",
    "they are called **quantifiers** for brevity. Syntactically, quantifiers are \n",
    "<em style=\"color:blue\">postfix operators</em>.\n",
    "\n",
    "### The Plus Quantifier (`+`)\n",
    "\n",
    "- If $r$ is a regular expression, then $r+$ is a regular expression. This\n",
    "  regular expression matches any string $s$ that can be split into a list of $n$ substrings $s_1$, \n",
    "  $s_2$, $\\cdots$, $s_n$ such that $r$ matches $s_i$ for all $i \\in \\{1,\\cdots,n\\}$. \n",
    "  Formally, we have\n",
    "  $$\\mathcal{L}(r+) := \n",
    "    \\Bigl\\{ s \\Bigm| \\exists n \\in \\mathbb{N}: \\bigl(n \\geq 1 \\wedge \n",
    "            \\exists s_1,\\cdots,s_n : (s_1 \\cdots s_n = s \\wedge \n",
    "             \\forall i \\in \\{1,\\cdots, n\\}: s_i \\in \\mathcal{L}(r)\\bigr)  \n",
    "    \\Bigr\\}.\n",
    "  $$\n",
    "\n",
    "Informally, $r+$ matches $r$ **one or more times** (any positive number of times)."
   ]
  },
  {
   "cell_type": "code",
   "execution_count": 7,
   "id": "b5e0b6ef",
   "metadata": {
    "scrolled": true
   },
   "outputs": [
    {
     "name": "stdout",
     "output_type": "stream",
     "text": [
      "[ \u001b[32m'a'\u001b[39m, \u001b[32m'aa'\u001b[39m, \u001b[32m'aAa'\u001b[39m, \u001b[32m'a'\u001b[39m ]\n"
     ]
    }
   ],
   "source": [
    "\"abaabaAaba\".match(/a+/gi);"
   ]
  },
  {
   "cell_type": "markdown",
   "id": "563a6164",
   "metadata": {},
   "source": [
    "This returns `['a', 'aa', 'aAa', 'a']`. Because the `+` quantifier is **greedy**, it matches as many consecutive `a` characters as possible (case-insensitive due to the `i` flag). For example, the sequence \"aAa\" is matched as a single group rather than three separate matches."
   ]
  },
  {
   "cell_type": "markdown",
   "id": "84e71134",
   "metadata": {},
   "source": [
    "### The Star Quantifier (`*`)\n",
    "\n",
    "- If $r$ is a regular expression, then $r*$ is a regular expression. This\n",
    "  regular expression matches either the empty string or any string $s$ that can be split into a list of $n$ substrings $s_1$, \n",
    "  $s_2$, $\\cdots$, $s_n$ such that $r$ matches $s_i$ for all $i \\in \\{1,\\cdots,n\\}$. \n",
    "  Formally, we have\n",
    "  $$\\mathcal{L}(r*) := \\bigl\\{ \\texttt{''} \\bigr\\} \\cup\n",
    "    \\Bigl\\{ s \\Bigm| \\exists n \\in \\mathbb{N}: \\bigl(n \\geq 1 \\wedge \n",
    "            \\exists s_1,\\cdots,s_n : (s_1 \\cdots s_n = s \\wedge \n",
    "             \\forall i \\in \\{1,\\cdots, n\\}: s_i \\in \\mathcal{L}(r)\\bigr)  \n",
    "    \\Bigr\\}.\n",
    "  $$\n",
    "  \n",
    "Informally, $r*$ matches $r$ **zero or more times**. Therefore, in the following example the result also contains empty strings. For instance, in the string `\"abaabbaaaba\"`, the regular expression `/a*/g` will find an empty string at the beginning of each occurrence of the character `b`. The final empty string is found at the end of the input string:"
   ]
  },
  {
   "cell_type": "code",
   "execution_count": 8,
   "id": "ef966778",
   "metadata": {},
   "outputs": [
    {
     "name": "stdout",
     "output_type": "stream",
     "text": [
      "[\n",
      "  \u001b[32m'a'\u001b[39m, \u001b[32m''\u001b[39m,  \u001b[32m'aa'\u001b[39m,\n",
      "  \u001b[32m''\u001b[39m,  \u001b[32m''\u001b[39m,  \u001b[32m'aaa'\u001b[39m,\n",
      "  \u001b[32m''\u001b[39m,  \u001b[32m'a'\u001b[39m, \u001b[32m''\u001b[39m\n",
      "]\n"
     ]
    }
   ],
   "source": [
    "\"abaabbaaaba\".match(/a*/g);"
   ]
  },
  {
   "cell_type": "markdown",
   "id": "41c74d50",
   "metadata": {},
   "source": [
    "This returns `['a', '', 'aa', '', '', 'aaa', '', 'a', '']`, including empty strings where zero `a` characters are matched."
   ]
  },
  {
   "cell_type": "markdown",
   "id": "e5843196",
   "metadata": {},
   "source": [
    "### The Question Mark Quantifier (`?`)\n",
    "\n",
    "- If $r$ is a regular expression, then $r?$ is a regular expression. This\n",
    "  regular expression matches either the empty string or any string $s$ that is matched by $r$. Formally we have\n",
    "  $$\\mathcal{L}(r?) := \\bigl\\{ \\texttt{''} \\bigr\\} \\cup \\mathcal{L}(r). $$\n",
    "  \n",
    "Informally, $r?$ matches $r$ **zero or one time** (i.e., at most once). Therefore, in the following example the result contains two empty strings: one before the character `b`, and one at the end of the string."
   ]
  },
  {
   "cell_type": "code",
   "execution_count": 9,
   "id": "56d187a8",
   "metadata": {},
   "outputs": [
    {
     "name": "stdout",
     "output_type": "stream",
     "text": [
      "[ \u001b[32m'a'\u001b[39m, \u001b[32m''\u001b[39m, \u001b[32m'a'\u001b[39m, \u001b[32m'a'\u001b[39m, \u001b[32m''\u001b[39m ]\n"
     ]
    }
   ],
   "source": [
    "\"abaa\".match(/a?/g);"
   ]
  },
  {
   "cell_type": "markdown",
   "id": "1efad0e2",
   "metadata": {},
   "source": [
    "This returns `['a', '', 'a', 'a', '']`."
   ]
  },
  {
   "cell_type": "markdown",
   "id": "04cf2373",
   "metadata": {},
   "source": [
    "### Range Quantifiers (`{m,n}`)\n",
    "\n",
    "- If $r$ is a regular expression and $m,n\\in\\mathbb{N}$ such that $m \\leq n$, then $r\\{m,n\\}$ is a \n",
    "  regular expression. This regular expression matches any number $k$ of repetitions of $r$ such that $m \\leq k \\leq n$.\n",
    "  Formally, we have\n",
    "  $$\\mathcal{L}(r\\{m,n\\}) =\n",
    "    \\Bigl\\{ s \\mid \\exists k \\in \\mathbb{N}: \\bigl(m \\leq k \\leq n \\wedge \n",
    "            \\exists s_1,\\cdots,s_k : (s_1 \\cdots s_k = s \\wedge \n",
    "             \\forall i \\in \\{1,\\cdots, k\\}: s_i \\in \\mathcal{L}(r)\\bigr)  \n",
    "    \\Bigr\\}.\n",
    "  $$\n",
    "  \n",
    "Informally, $r\\{m,n\\}$ matches $r$ **at least $m$ times and at most $n$ times**."
   ]
  },
  {
   "cell_type": "code",
   "execution_count": 10,
   "id": "a6f640e5",
   "metadata": {
    "scrolled": true
   },
   "outputs": [
    {
     "name": "stdout",
     "output_type": "stream",
     "text": [
      "[ \u001b[32m'aaa'\u001b[39m ]\n"
     ]
    }
   ],
   "source": [
    "\"aaaa\".match(/a{2,3}/g);"
   ]
  },
  {
   "cell_type": "markdown",
   "id": "b72cbb1c",
   "metadata": {},
   "source": [
    "This returns `['aaa']`. The regular expression `/a{2,3}/g` greedily matches the string `\"aaaa\"` by consuming the first three consecutive `a` characters (the maximum allowed). The remaining single `a` does **not** match because it falls short of the minimum requirement of 2 characters."
   ]
  },
  {
   "cell_type": "markdown",
   "id": "4d29f39e",
   "metadata": {},
   "source": [
    "### Exact Count Quantifier (`{n}`)\n",
    "\n",
    "If $r$ is a regular expression and $n\\in\\mathbb{N}$, then $r\\{n\\}$ is a regular expression. This regular expression matches **exactly $n$ repetitions** of $r$. Formally, we have\n",
    "$$\\mathcal{L}(r\\{n\\}) = \\mathcal{L}(r\\{n,n\\}).$$"
   ]
  },
  {
   "cell_type": "code",
   "execution_count": 11,
   "id": "b9c48e9e",
   "metadata": {},
   "outputs": [
    {
     "name": "stdout",
     "output_type": "stream",
     "text": [
      "[ \u001b[32m'aa'\u001b[39m, \u001b[32m'aa'\u001b[39m ]\n"
     ]
    }
   ],
   "source": [
    "\"aabaaaba\".match(/a{2}/g);"
   ]
  },
  {
   "cell_type": "markdown",
   "id": "927a0f00",
   "metadata": {},
   "source": [
    "This returns `['aa', 'aa']`, matching exactly two consecutive `a` characters each time."
   ]
  },
  {
   "cell_type": "markdown",
   "id": "d3f1f0a8",
   "metadata": {},
   "source": [
    "### Up-To Quantifier (`{,n}`)\n",
    "\n",
    "If $r$ is a regular expression and $n\\in\\mathbb{N}$, then $r\\{,n\\}$ is a regular expression. This regular expression matches **up to $n$ repetitions** of $r$ (i.e., between 0 and $n$ times). Formally, we have\n",
    "$$\\mathcal{L}(r\\{,n\\}) = \\mathcal{L}(r\\{0,n\\}).$$"
   ]
  },
  {
   "cell_type": "code",
   "execution_count": 12,
   "id": "dab0e1dc",
   "metadata": {},
   "outputs": [
    {
     "name": "stdout",
     "output_type": "stream",
     "text": [
      "[\n",
      "  \u001b[32m'aa'\u001b[39m, \u001b[32m''\u001b[39m, \u001b[32m'aa'\u001b[39m,\n",
      "  \u001b[32m'a'\u001b[39m,  \u001b[32m''\u001b[39m, \u001b[32m''\u001b[39m,\n",
      "  \u001b[32m'a'\u001b[39m,  \u001b[32m''\u001b[39m\n",
      "]\n"
     ]
    }
   ],
   "source": [
    "\"aabaaabba\".match(/a{0,2}/g);"
   ]
  },
  {
   "cell_type": "markdown",
   "id": "7e6e603a",
   "metadata": {},
   "source": [
    "This returns `['aa', '', 'aa', 'a', '', '', 'a', '']`, matching zero, one, or two consecutive `a` characters. Empty strings appear where zero `a` characters are matched."
   ]
  },
  {
   "cell_type": "markdown",
   "id": "a95d1b77",
   "metadata": {},
   "source": [
    "### At-Least Quantifier (`{n,}`)\n",
    "\n",
    "If $r$ is a regular expression and $n\\in\\mathbb{N}$, then $r\\{n,\\}$ is a regular expression. This regular expression matches **$n$ or more repetitions** of $r$. Formally, we have\n",
    "$$\\mathcal{L}(r\\{n,\\}) = \\mathcal{L}(r\\{n\\}r*).$$"
   ]
  },
  {
   "cell_type": "code",
   "execution_count": 13,
   "id": "d0028341",
   "metadata": {},
   "outputs": [
    {
     "name": "stdout",
     "output_type": "stream",
     "text": [
      "[ \u001b[32m'aa'\u001b[39m, \u001b[32m'aaa'\u001b[39m ]\n"
     ]
    }
   ],
   "source": [
    "\"aabaaaba\".match(/a{2,}/g);"
   ]
  },
  {
   "cell_type": "markdown",
   "id": "a0179007",
   "metadata": {},
   "source": [
    "This returns `['aa', 'aaa']`, matching sequences of two or more consecutive `a` characters.\n",
    "\n",
    "---\n",
    "\n",
    "**💡 Syntax Note**\n",
    "\n",
    "TypeScript/JavaScript regex supports:\n",
    "- `{n,}` — matches *n* or more times ✓\n",
    "- `{0,n}` — matches up to *n* times ✓\n",
    "\n",
    "**Not supported:**\n",
    "- `{,n}` — this syntax is **invalid** in TypeScript ✗\n",
    "\n",
    "Always write `{0,n}` explicitly when you need \"up to *n* times\" matching.\n",
    "\n",
    "---"
   ]
  },
  {
   "cell_type": "markdown",
   "id": "632396b3",
   "metadata": {},
   "source": [
    "## Non-Greedy Quantifiers\n",
    "\n",
    "The quantifiers `?`, `+`, `*`, `{m,n}`, `{n}`, `{0,n}`, and `{n,}` are <em style=\"color:blue\">greedy</em> by default—they \n",
    "match the **longest possible substring**. Suffixing any of these quantifiers with the character `?` makes them \n",
    "<em style=\"color:blue\">non-greedy</em> (also called **lazy** or **reluctant**), causing them to match the **shortest possible substring**.\n",
    "\n",
    "For example, the regular expression `/a{2,3}?/` can match either two or three occurrences of the character `a`, but will **prefer to match only two**. Hence, the regular expression `/a{2,3}?/g` will find two matches in the string `\"aaaa\"`, while the greedy version `/a{2,3}/g` only finds a single match.\n",
    "\n",
    "**Non-greedy example:**"
   ]
  },
  {
   "cell_type": "code",
   "execution_count": 14,
   "id": "bb884db9",
   "metadata": {},
   "outputs": [
    {
     "name": "stdout",
     "output_type": "stream",
     "text": [
      "[ \u001b[32m'aa'\u001b[39m, \u001b[32m'aa'\u001b[39m ]\n"
     ]
    }
   ],
   "source": [
    "\"aaaa\".match(/a{2,3}?/g);"
   ]
  },
  {
   "cell_type": "markdown",
   "id": "f041e7cb",
   "metadata": {},
   "source": [
    "This returns `['aa', 'aa']` because the non-greedy quantifier stops at the minimum (2 characters) each time.\n",
    "\n",
    "**Greedy example (for comparison):**"
   ]
  },
  {
   "cell_type": "code",
   "execution_count": 15,
   "id": "4f63d38c",
   "metadata": {},
   "outputs": [
    {
     "name": "stdout",
     "output_type": "stream",
     "text": [
      "[ \u001b[32m'aaa'\u001b[39m ]\n"
     ]
    }
   ],
   "source": [
    "\"aaaa\".match(/a{2,3}/g);"
   ]
  },
  {
   "cell_type": "markdown",
   "id": "22b489aa",
   "metadata": {},
   "source": [
    "This returns `['aaa']` because the greedy quantifier consumes the maximum possible (3 characters) in the first match, leaving only one `a` which **does not meet the minimum of 2** and therefore is not matched."
   ]
  },
  {
   "cell_type": "markdown",
   "id": "32db71ea",
   "metadata": {},
   "source": [
    "## Character Classes\n",
    "\n",
    "In order to match a set of characters, we can use a <em style=\"color:blue\">character class</em>.\n",
    "If $c_1$, $\\cdots$, $c_n$ are Unicode characters, then $[c_1\\cdots c_n]$ is a regular expression that \n",
    "matches any of the characters from the set $\\{c_1,\\cdots,c_n\\}$:\n",
    "$$ \\mathcal{L}\\bigl([c_1\\cdots c_n]\\bigr) := \\{ c_1, \\cdots, c_n \\} $$"
   ]
  },
  {
   "cell_type": "code",
   "execution_count": 16,
   "id": "3aea137f",
   "metadata": {},
   "outputs": [
    {
     "name": "stdout",
     "output_type": "stream",
     "text": [
      "[ \u001b[32m'abc'\u001b[39m, \u001b[32m'cba'\u001b[39m ]\n"
     ]
    }
   ],
   "source": [
    "\"abcdcba\".match(/[abc]+/g);"
   ]
  },
  {
   "cell_type": "markdown",
   "id": "b7b3c212",
   "metadata": {},
   "source": [
    "This returns `['abc', 'cba']`, matching sequences of the characters `a`, `b`, or `c`."
   ]
  },
  {
   "cell_type": "markdown",
   "id": "05113bbc",
   "metadata": {},
   "source": [
    "### Character Ranges\n",
    "\n",
    "Character classes can also contain <em style=\"color:blue\">ranges</em>. Syntactically, a range has the form $c_1\\texttt{-}c_2$, where $c_1$ and $c_2$ are Unicode characters.\n",
    "\n",
    "For example, the regular expression `/[0-9]/` contains the range `0-9` and matches any decimal digit. To find all natural numbers embedded in a string, we could use the regular expression `/[1-9][0-9]*|0/g`. This regular expression matches either:\n",
    "- A single digit `0`, **or**\n",
    "- A string that starts with a non-zero digit (`[1-9]`) followed by any number of additional digits (`[0-9]*`)"
   ]
  },
  {
   "cell_type": "code",
   "execution_count": 17,
   "id": "48566556",
   "metadata": {},
   "outputs": [
    {
     "name": "stdout",
     "output_type": "stream",
     "text": [
      "[\n",
      "  \u001b[32m'11'\u001b[39m,   \u001b[32m'12'\u001b[39m,\n",
      "  \u001b[32m'2345'\u001b[39m, \u001b[32m'0'\u001b[39m,\n",
      "  \u001b[32m'0'\u001b[39m,    \u001b[32m'7'\u001b[39m,\n",
      "  \u001b[32m'42'\u001b[39m,   \u001b[32m'0'\u001b[39m\n",
      "]\n"
     ]
    }
   ],
   "source": [
    "\"11 abc 12 2345 007 42 0\".match(/[1-9][0-9]*|0/g)"
   ]
  },
  {
   "cell_type": "markdown",
   "id": "56aaa9b9",
   "metadata": {},
   "source": [
    "This returns `['11', '12', '2345', '0', '0', '7', '42', '0']`. Note that `\"007\"` is split into `'0'`, `'0'`, `'7'` and matched separately because each leading zero is matched individually before the non-zero digits.\n",
    "\n",
    "**Important: Order matters in alternation!**\n",
    "\n",
    "The next example looks similar but gives a very different result:"
   ]
  },
  {
   "cell_type": "code",
   "execution_count": 18,
   "id": "19db4826",
   "metadata": {},
   "outputs": [
    {
     "name": "stdout",
     "output_type": "stream",
     "text": [
      "[\n",
      "  \u001b[32m'1'\u001b[39m, \u001b[32m'1'\u001b[39m, \u001b[32m'1'\u001b[39m, \u001b[32m'2'\u001b[39m,\n",
      "  \u001b[32m'2'\u001b[39m, \u001b[32m'3'\u001b[39m, \u001b[32m'4'\u001b[39m, \u001b[32m'5'\u001b[39m,\n",
      "  \u001b[32m'0'\u001b[39m, \u001b[32m'0'\u001b[39m, \u001b[32m'7'\u001b[39m, \u001b[32m'4'\u001b[39m,\n",
      "  \u001b[32m'2'\u001b[39m, \u001b[32m'0'\u001b[39m\n",
      "]\n"
     ]
    }
   ],
   "source": [
    "\"11 abc 12 2345 007 42 0\".match(/[0-9]|[1-9][0-9]*/g)"
   ]
  },
  {
   "cell_type": "markdown",
   "id": "d4801b19",
   "metadata": {},
   "source": [
    "This returns `'1', '1', '1', '2', '2', '3', '4', '5', '0', '0', '7', '4', '2', '0'` - a list of individual digits!\n",
    "\n",
    "Here's why: The regular expression starts with the alternative `[0-9]`, which matches any single digit. As soon as one digit is found, the match is returned and the search continues from the end of that match. The second alternative (`[1-9][0-9]*`) never gets a chance to match because the first alternative always succeeds first.\n",
    "\n",
    "**Key lesson:** When using alternation (`|`), place more specific patterns before more general ones."
   ]
  },
  {
   "cell_type": "markdown",
   "id": "2a32410b",
   "metadata": {},
   "source": [
    "### Predefined Character Classes\n",
    "\n",
    "TypeScript provides several predefined character classes as escape sequences:\n",
    "\n",
    "- `\\d` — matches any digit (equivalent to `[0-9]`)\n",
    "- `\\D` — matches any non-digit character\n",
    "- `\\s` — matches any whitespace character (spaces, tabs, newlines, etc.)\n",
    "- `\\S` — matches any non-whitespace character\n",
    "- `\\w` — matches any alphanumeric character or underscore (for ASCII: equivalent to `[0-9a-zA-Z_]`)\n",
    "- `\\W` — matches any non-alphanumeric character\n",
    "- `\\b` — matches at a **word boundary** (the position between a word character and a non-word character). The matched string is empty—it's a zero-width assertion.\n",
    "- `\\B` — matches at any position that is **not** a word boundary. Again, the matched string is empty.\n",
    "\n",
    "These escape sequences can also be used inside square brackets:"
   ]
  },
  {
   "cell_type": "code",
   "execution_count": 19,
   "id": "3a8ac4bf",
   "metadata": {},
   "outputs": [
    {
     "name": "stdout",
     "output_type": "stream",
     "text": [
      "[ \u001b[32m'11'\u001b[39m, \u001b[32m'abc12'\u001b[39m, \u001b[32m'1a2'\u001b[39m, \u001b[32m'2b3c4d5'\u001b[39m ]\n"
     ]
    }
   ],
   "source": [
    "\"11 abc12 1a2 2b3c4d5\".match(/[\\dabcde]+/g)"
   ]
  },
  {
   "cell_type": "markdown",
   "id": "718977b3",
   "metadata": {},
   "source": [
    "This returns `['11', 'abc12', '1a2', '2b3c4d5']`, matching sequences containing digits or the letters `a`, `b`, `c`, `d`, `e`."
   ]
  },
  {
   "cell_type": "markdown",
   "id": "1b36b015",
   "metadata": {},
   "source": [
    "### Negated Character Classes\n",
    "\n",
    "Character classes can be **negated** by placing the caret symbol `^` immediately after the opening bracket `[`. For example, `[^abc]` matches any character that is **not** `a`, `b`, or `c`."
   ]
  },
  {
   "cell_type": "code",
   "execution_count": 20,
   "id": "fe781f4d",
   "metadata": {},
   "outputs": [
    {
     "name": "stdout",
     "output_type": "stream",
     "text": [
      "[ \u001b[32m'xyz'\u001b[39m, \u001b[32m'uvw'\u001b[39m, \u001b[32m'hij'\u001b[39m ]\n"
     ]
    }
   ],
   "source": [
    "\"axyzbuvwchij\".match(/[^abc]+/g);"
   ]
  },
  {
   "cell_type": "markdown",
   "id": "2428b0bc",
   "metadata": {},
   "source": [
    "This returns `['xyz', 'uvw', 'hij']`, matching sequences that don't contain `a`, `b`, or `c`."
   ]
  },
  {
   "cell_type": "markdown",
   "id": "cd947d47",
   "metadata": {},
   "source": [
    "### Word Boundaries in Practice\n",
    "\n",
    "The `\\b` character class is particularly useful for extracting complete words:"
   ]
  },
  {
   "cell_type": "code",
   "execution_count": 21,
   "id": "36017aa6",
   "metadata": {},
   "outputs": [
    {
     "name": "stdout",
     "output_type": "stream",
     "text": [
      "[\n",
      "  \u001b[32m'This'\u001b[39m,    \u001b[32m'is'\u001b[39m,\n",
      "  \u001b[32m'some'\u001b[39m,    \u001b[32m'text'\u001b[39m,\n",
      "  \u001b[32m'where'\u001b[39m,   \u001b[32m'we'\u001b[39m,\n",
      "  \u001b[32m'want'\u001b[39m,    \u001b[32m'to'\u001b[39m,\n",
      "  \u001b[32m'extract'\u001b[39m, \u001b[32m'the'\u001b[39m,\n",
      "  \u001b[32m'words'\u001b[39m\n",
      "]\n"
     ]
    }
   ],
   "source": [
    "\"This is some text where we want to extract the words.\".match(/\\b\\w+\\b/g)"
   ]
  },
  {
   "cell_type": "markdown",
   "id": "a7cec6a9",
   "metadata": {},
   "source": [
    "This returns `['This', 'is', 'some', 'text', 'where', 'we', 'want', 'to', 'extract', 'the', 'words']`, capturing all complete words."
   ]
  },
  {
   "cell_type": "markdown",
   "id": "eaf367f3",
   "metadata": {},
   "source": [
    "### Using Word Boundaries to Match Numbers\n",
    "\n",
    "The following regular expression uses `\\b` to isolate complete numbers. Note that we must use parentheses because **concatenation binds more tightly than alternation** (`|`):"
   ]
  },
  {
   "cell_type": "code",
   "execution_count": 22,
   "id": "fea6c21c",
   "metadata": {},
   "outputs": [
    {
     "name": "stdout",
     "output_type": "stream",
     "text": [
      "[ \u001b[32m'11'\u001b[39m, \u001b[32m'12'\u001b[39m, \u001b[32m'2345'\u001b[39m, \u001b[32m'42'\u001b[39m, \u001b[32m'0'\u001b[39m ]\n"
     ]
    }
   ],
   "source": [
    "\"11 abc 12 2345 007 42 0\".match(/\\b([1-9][0-9]*|0)\\b/g)"
   ]
  },
  {
   "cell_type": "markdown",
   "id": "7b33071e",
   "metadata": {},
   "source": [
    "This returns `['11', '12', '2345', '42', '0']`.\n",
    "\n",
    "**Important observation:** The number `\"007\"` is **not matched** because the pattern `([1-9][0-9]*|0)` only accepts:\n",
    "- Numbers starting with a non-zero digit (`[1-9][0-9]*`), **or**\n",
    "- A single zero (`0`)\n",
    "\n",
    "The sequence `\"007\"` doesn't fit either category—it starts with zero but contains more than one digit. The word boundary `\\b` recognizes `\"007\"` as a complete numeric token, but the inner pattern rejects it as invalid.\n",
    "\n",
    "Contrast this with the alternative where order matters:"
   ]
  },
  {
   "cell_type": "code",
   "execution_count": 23,
   "id": "12146022",
   "metadata": {},
   "outputs": [
    {
     "name": "stdout",
     "output_type": "stream",
     "text": [
      "[ \u001b[32m'11'\u001b[39m, \u001b[32m'12'\u001b[39m, \u001b[32m'2345'\u001b[39m, \u001b[32m'42'\u001b[39m, \u001b[32m'0'\u001b[39m ]\n"
     ]
    }
   ],
   "source": [
    "\"11 abc 12 2345 007 42 0\".match(/\\b([0-9]|[1-9][0-9]*)\\b/g)"
   ]
  },
  {
   "cell_type": "markdown",
   "id": "82220b1c",
   "metadata": {},
   "source": [
    "This also returns `['11', '12', '2345', '42', '0']` - the same result!\n",
    "\n",
    "Why? Because the word boundaries `\\b` force the regex to match **complete numeric tokens**. Even though the first alternative `[0-9]` matches a single digit, the word boundary on the right side (`\\b`) prevents it from matching just one digit when more digits follow. So after matching the first digit, the regex engine backtracks and tries the second alternative `[1-9][0-9]*`, which successfully matches the entire number.\n",
    "\n",
    "**Key takeaway:** Word boundaries change the matching behavior significantly. In this case, both patterns produce the same result because `\\b` enforces complete token matching, causing the regex engine to backtrack and find the longest match. However, without word boundaries (as shown in earlier examples), the order of alternatives would matter greatly."
   ]
  },
  {
   "cell_type": "markdown",
   "id": "6c9edc80",
   "metadata": {},
   "source": [
    "## Grouping\n",
    "\n",
    "If $r$ is a regular expression, then $(r)$ is a regular expression describing the same language as $r$. There are two main reasons for using parentheses for grouping:\n",
    "\n",
    "**1. To Override Operator Precedence:**\n",
    "- Parentheses can be used to override the default precedence of operators. This concept is the same as in programming languages. For example, the regular expression `/ab+/` matches the character `a` followed by one or more `b`'s because the quantifier `+` has higher precedence than concatenation. \n",
    "- However, `/(ab)+/` matches sequences like `ab`, `abab`, `ababab`, and so on, because the `+` now applies to the entire group `(ab)`.\n",
    "\n",
    "**2. To Create Capturing Groups and Backreferences:**\n",
    "- Parentheses create <em style=\"color:blue\">capturing groups</em>, which \"remember\" the substring they matched.\n",
    "- Inside the same regular expression, you can refer to the text captured by a group using a <em style=\"color:blue\">backreference</em>: `\\n`, where $n$ is the group's number ($n \\in \\{1,\\cdots,9\\}$).\n",
    "- Groups are numbered starting from 1 based on the position of their opening parenthesis, from left to right.\n",
    "\n",
    "For example, the regular expression `/(a(b|c)*d)?ef(gh)+/` has three groups:\n",
    "1. `(a(b|c)*d)` is the first group (the outermost one).\n",
    "2. `(b|c)` is the second group (nested within the first).\n",
    "3. `(gh)` is the third group.\n",
    "\n",
    "A common use for backreferences is to find repeated patterns. For instance, to recognize a string that starts with a number, followed by whitespace, followed by the **same** number, we can use the regular expression `/(\\d+)\\s+\\1/g`. Here, `\\1` is a backreference to whatever was captured by the first group `(\\d+)`."
   ]
  },
  {
   "cell_type": "code",
   "execution_count": 24,
   "id": "17519f2c",
   "metadata": {},
   "outputs": [
    {
     "name": "stdout",
     "output_type": "stream",
     "text": [
      "[ \u001b[32m'12 12'\u001b[39m, \u001b[32m'23 23'\u001b[39m ]\n"
     ]
    }
   ],
   "source": [
    "\"12 12 23 23 17 18\".match(/(\\d+)\\s+\\1/g);"
   ]
  },
  {
   "cell_type": "markdown",
   "id": "847e5b94",
   "metadata": {},
   "source": [
    "This returns `['12 12', '23 23']`, matching each instance where a number is repeated after some whitespace.\n",
    "\n",
    "In general, given a digit $n$, the expression `\\n` inside the regex pattern refers to the string matched by the $n$-th capturing group of the regular expression."
   ]
  },
  {
   "cell_type": "markdown",
   "id": "e9e25950",
   "metadata": {},
   "source": [
    "## The Dot\n",
    "\n",
    "The regular expression `.` matches any character **except the newline**. For example, `/c.*t/` matches any string that starts with the character `c` and ends with the character `t`, with any characters (except newlines) in between. \n",
    "\n",
    "Using the **greedy** quantifier `*`, the regex will match the longest possible substring:"
   ]
  },
  {
   "cell_type": "code",
   "execution_count": 25,
   "id": "0decc776",
   "metadata": {
    "scrolled": true
   },
   "outputs": [
    {
     "name": "stdout",
     "output_type": "stream",
     "text": [
      "[ \u001b[32m'ct cat caat could we look at that'\u001b[39m ]\n"
     ]
    }
   ],
   "source": [
    "\"ct cat caat could we look at that!\".match(/c.*t/g)"
   ]
  },
  {
   "cell_type": "markdown",
   "id": "adbf6e0a",
   "metadata": {},
   "source": [
    "This returns `['ct cat caat could we look at that']`, matching from the first `c` to the last `t` in a single greedy match.\n",
    "\n",
    "If we use the **non-greedy** version `*?`, we can find multiple, shorter matches:"
   ]
  },
  {
   "cell_type": "code",
   "execution_count": 26,
   "id": "ae72dd4f",
   "metadata": {},
   "outputs": [
    {
     "name": "stdout",
     "output_type": "stream",
     "text": [
      "[ \u001b[32m'ct'\u001b[39m, \u001b[32m'cat'\u001b[39m, \u001b[32m'caat'\u001b[39m, \u001b[32m'could we look at'\u001b[39m ]\n"
     ]
    }
   ],
   "source": [
    "\"ct cat caat could we look at that!\".match(/c.*?t/g);"
   ]
  },
  {
   "cell_type": "markdown",
   "id": "1d015542",
   "metadata": {},
   "source": [
    "This returns `['ct', 'cat', 'caat', 'could we look at']`, matching from each `c` to the nearest `t`.\n",
    "\n",
    "**Note:** The dot `.` does not have any special meaning when used inside a character class. Hence, the regular expression `/[.]/` matches only the literal period character `.`."
   ]
  },
  {
   "cell_type": "markdown",
   "id": "d80a4800",
   "metadata": {},
   "source": [
    "## Named Groups\n",
    "\n",
    "Referencing a group via the syntax `\\n` where $n$ is a natural number is both cumbersome and error-prone, especially in complex patterns. Instead, we can use <em style=\"color:blue\">named groups</em> for better readability and maintainability.\n",
    "\n",
    "### Syntax for Named Groups in TypeScript\n",
    "\n",
    "The syntax to define a named group is: \n",
    "```\n",
    "(?<name>r)\n",
    "```\n",
    "where `name` is the name of the group and `r` is the regular expression.\n",
    "\n",
    "To refer to the string matched by this group **within the same pattern**, we use:\n",
    "```\n",
    "\\k<name>\n",
    "```\n",
    "### Example: Matching Quoted Strings\n",
    "\n",
    "Below we find strings of alphanumeric characters that are enclosed in either single quotes or double quotes. The character class `['\"]` matches either a single or a double quote. By using a named group `quote` and a backreference `\\k<quote>`, we ensure that an opening single quote is matched by a closing single quote, and an opening double quote is matched by a closing double quote."
   ]
  },
  {
   "cell_type": "code",
   "execution_count": 27,
   "id": "62b6e8a2",
   "metadata": {},
   "outputs": [
    {
     "name": "stdout",
     "output_type": "stream",
     "text": [
      "[ \u001b[32m'\"uvw\"'\u001b[39m, \u001b[32m\"'xyz'\"\u001b[39m ]\n"
     ]
    }
   ],
   "source": [
    "`abc \"uvw\" and 'xyz'`.match(/(?<quote>['\"])\\w*\\k<quote>/g);"
   ]
  },
  {
   "cell_type": "markdown",
   "id": "3e754807",
   "metadata": {},
   "source": [
    "This returns `['\"uvw\"', \"'xyz'\"]`, correctly matching quoted strings with matching quote types."
   ]
  },
  {
   "cell_type": "markdown",
   "id": "f0d84770",
   "metadata": {},
   "source": [
    "## Start and End of a Line"
   ]
  },
  {
   "cell_type": "markdown",
   "id": "6e9f5bef",
   "metadata": {},
   "source": [
    "The regular expression `^` matches the **start of a string**. Without any flags, it only matches at the very beginning of the entire input.\n",
    "\n",
    "The regular expression `$` matches the **end of a string**. Without any flags, it only matches at the very end of the entire input.\n",
    "\n",
    "When the `m` flag (**multiline mode**) is enabled, the behavior changes:\n",
    "- `^` also matches immediately after every newline character (i.e., at the start of each line)\n",
    "- `$` also matches right before every newline character (i.e., at the end of each line)\n",
    "\n",
    "This is useful for processing multi-line text line-by-line:"
   ]
  },
  {
   "cell_type": "code",
   "execution_count": 28,
   "id": "e2ac4e26",
   "metadata": {},
   "outputs": [
    {
     "name": "stdout",
     "output_type": "stream",
     "text": [
      "[\n",
      "  \u001b[32m'This is a text containing five lines, two of which are empty.'\u001b[39m,\n",
      "  \u001b[32m'This is the second non-empty line,'\u001b[39m,\n",
      "  \u001b[32m'and this is the third non-empty line.'\u001b[39m\n",
      "]\n"
     ]
    }
   ],
   "source": [
    "`This is a text containing five lines, two of which are empty.\n",
    "This is the second non-empty line,\n",
    "\n",
    "and this is the third non-empty line.\n",
    "`.match(/^.+$/gm)"
   ]
  },
  {
   "cell_type": "markdown",
   "id": "996c1acc",
   "metadata": {},
   "source": [
    "This returns `['This is a text containing five lines, two of which are empty.', 'This is the second non-empty line,', 'and this is the third non-empty line.']`, matching all non-empty lines. The pattern `/^.+$/` matches lines that start (`^`), contain one or more characters (`.+`), and end (`$`). Empty lines don't match because `.+` requires at least one character."
   ]
  },
  {
   "cell_type": "markdown",
   "id": "f2c8aaac",
   "metadata": {},
   "source": [
    "## Lookahead Assertions"
   ]
  },
  {
   "cell_type": "markdown",
   "id": "f9eb5c40",
   "metadata": {},
   "source": [
    "Sometimes we need to check what comes **after** a pattern without including it in the match. This is called a <em style=\"color:blue\">lookahead assertion</em>.\n",
    "\n",
    "### Positive Lookahead (`(?=...)`)\n",
    "\n",
    "The syntax for a positive lookahead is:\n",
    "$$ r_1 (\\texttt{?=}r_2) $$\n",
    "\n",
    "Here, $r_1$ and $r_2$ are regular expressions, and `?=` is the <em style=\"color:blue\">lookahead operator</em>. This matches $r_1$ **only if** it is followed by $r_2$, but $r_2$ itself is not included in the match.\n",
    "\n",
    "**Example:** Find all numbers that are followed by a dollar sign (`$`):"
   ]
  },
  {
   "cell_type": "code",
   "execution_count": 29,
   "id": "1f80c24f",
   "metadata": {},
   "outputs": [
    {
     "name": "stdout",
     "output_type": "stream",
     "text": [
      "[ \u001b[32m'1'\u001b[39m, \u001b[32m'42'\u001b[39m ]\n"
     ]
    }
   ],
   "source": [
    "const text = \"Here is 1$, here are 21€, and there are 42 $.\";\n",
    "const numbers = text.match(/[0-9]+(?=\\s*\\$)/g);\n",
    "console.log(numbers);"
   ]
  },
  {
   "cell_type": "markdown",
   "id": "f5287d3a",
   "metadata": {},
   "source": [
    "This outputs `['1', '42']`, matching only the numbers followed by a dollar sign (with optional whitespace in between). The number `21` is not matched because it's followed by `€`, not `$`.\n",
    "\n",
    "If you wanted to sum these numbers, you could do:"
   ]
  },
  {
   "cell_type": "code",
   "execution_count": 30,
   "id": "11b8d242",
   "metadata": {},
   "outputs": [
    {
     "name": "stdout",
     "output_type": "stream",
     "text": [
      "Sum: \u001b[33m43\u001b[39m\n"
     ]
    }
   ],
   "source": [
    "const sum = numbers.map(Number).reduce((a, b) => a + b, 0);\n",
    "console.log(\"Sum:\", sum); // Sum: 43"
   ]
  },
  {
   "cell_type": "markdown",
   "id": "cc316174",
   "metadata": {},
   "source": [
    "### Negative Lookahead (`(?!...)`)\n",
    "\n",
    "The syntax for a negative lookahead is:\n",
    "$$ r_1 (\\texttt{?!}r_2) $$\n",
    "\n",
    "Here, `?!` is the <em style=\"color:blue\">negative lookahead operator</em>. This matches $r_1$ **only if** it is **not** followed by $r_2$.\n",
    "\n",
    "**Example:** Find all numbers that are **not** followed by a dollar sign:"
   ]
  },
  {
   "cell_type": "code",
   "execution_count": 31,
   "id": "987f7a9e",
   "metadata": {},
   "outputs": [
    {
     "name": "stdout",
     "output_type": "stream",
     "text": [
      "[ \u001b[32m'21'\u001b[39m ]\n"
     ]
    }
   ],
   "source": [
    "const text = \"Here is 1$, here are 21 €, and there are 42 $.\";\n",
    "const numbers = text.match(/[0-9]+(?![0-9]*\\s*\\$)/g) ?? [];\n",
    "console.log(numbers);"
   ]
  },
  {
   "cell_type": "markdown",
   "id": "d6be5dd2",
   "metadata": {},
   "source": [
    "This outputs `[\"21\"]`, matching only the number `21` because it is followed by `€`, not `$`.\n",
    "\n",
    "**Why does this work?** The pattern `/[0-9]+(?![0-9]*\\s*\\$)/` matches one or more digits, but only if they are **not** followed by optional additional digits (`[0-9]*`), optional whitespace (`\\s*`), and then a dollar sign (`\\$`). This ensures that numbers like `1` in `1$` and `42` in `42 $` are excluded, leaving only `21`, which is followed by `€`.\n",
    "\n",
    "**Important note:** Negative lookahead can be tricky and error-prone, especially when dealing with complex patterns. In many cases, it's clearer to simply filter results after matching rather than building complex negative lookahead expressions."
   ]
  },
  {
   "cell_type": "markdown",
   "id": "f5efd00f",
   "metadata": {},
   "source": [
    "## Examples"
   ]
  },
  {
   "cell_type": "markdown",
   "id": "b577d70b",
   "metadata": {},
   "source": [
    "In order to have some strings to play with, let us read the file `alice.txt`, which contains the book\n",
    "[Alice's Adventures in Wonderland](https://en.wikipedia.org/wiki/Alice%27s_Adventures_in_Wonderland) written by \n",
    "[Lewis Carroll](https://en.wikipedia.org/wiki/Lewis_Carroll)."
   ]
  },
  {
   "cell_type": "code",
   "execution_count": 32,
   "id": "6710996f",
   "metadata": {
    "scrolled": true
   },
   "outputs": [],
   "source": [
    "const text = readFileSync(\"alice.txt\", \"utf8\");"
   ]
  },
  {
   "cell_type": "markdown",
   "id": "dbee1f45",
   "metadata": {},
   "source": [
    "Let's take a look at the beginning of the book:"
   ]
  },
  {
   "cell_type": "code",
   "execution_count": 33,
   "id": "b4744aca",
   "metadata": {},
   "outputs": [
    {
     "name": "stdout",
     "output_type": "stream",
     "text": [
      "\r\n",
      "                ALICE'S ADVENTURES IN WONDERLAND\r\n",
      "\r\n",
      "                          Lewis Carroll\r\n",
      "\r\n",
      "               THE MILLENNIUM FULCRUM EDITION 3.0\r\n",
      "\r\n",
      "\r\n",
      "\r\n",
      "\r\n",
      "                            CHAPTER I\r\n",
      "\r\n",
      "                      Down the Rabbit-Hole\r\n",
      "\r\n",
      "\r\n",
      "  Alice was beginning to get very tired of sitting by her sister\r\n",
      "on the bank, and of having nothing to do:  once or twice she had\r\n",
      "peeped into the book her sister was reading, but it had no\r\n",
      "pictures or conversations in it, `and what is the use of a book,'\r\n",
      "thought Alice `without pictures or conversation?'\r\n",
      "\r\n",
      "  So she was considering in her own mind (as well as she could,\r\n",
      "for the hot day made her feel very sleepy and stupid), whether\r\n",
      "the pleasure of making a daisy-chain would be worth the trouble\r\n",
      "of getting up and picking the daisies, when suddenly a White\r\n",
      "Rabbit with pink eyes ran close by her.\r\n",
      "\r\n",
      "  There was nothing so VERY remarkable in that; nor did Alice\r\n",
      "think it so VERY much out of the way to hear the Rabbit say to\r\n",
      "itself, `Oh dear!  Oh dear!  I shall \n"
     ]
    }
   ],
   "source": [
    "console.log(text.slice(0, 1020));"
   ]
  },
  {
   "cell_type": "markdown",
   "id": "02979cea",
   "metadata": {},
   "source": [
    "### How many non-empty lines does this story have?\n",
    "\n",
    "To count non-empty lines, we use the multiline flag (`m`) and look for lines that contain at least one non-whitespace character (`\\S`):"
   ]
  },
  {
   "cell_type": "code",
   "execution_count": 34,
   "id": "90ecec23",
   "metadata": {},
   "outputs": [
    {
     "name": "stdout",
     "output_type": "stream",
     "text": [
      "\u001b[33m2725\u001b[39m\n"
     ]
    }
   ],
   "source": [
    "(text.match(/^.*\\S.*$/gm) ?? []).length"
   ]
  },
  {
   "cell_type": "markdown",
   "id": "20683d58",
   "metadata": {},
   "source": [
    "This returns the total number of lines containing text (ignoring blank lines).\n",
    "\n",
    "### Checking for \"inappropriate\" four-letter words\n",
    "\n",
    "Next, let us check whether this text is suitable for minors. In order to do so, we search for all **four-letter words** that start with either `d`, `f`, or `s` and end with `k` or `t`:"
   ]
  },
  {
   "cell_type": "code",
   "execution_count": 35,
   "id": "862c51b4",
   "metadata": {},
   "outputs": [
    {
     "name": "stdout",
     "output_type": "stream",
     "text": [
      "[\n",
      "  \u001b[32m'feet'\u001b[39m, \u001b[32m'dark'\u001b[39m, \u001b[32m'sort'\u001b[39m,\n",
      "  \u001b[32m'felt'\u001b[39m, \u001b[32m'shut'\u001b[39m, \u001b[32m'fact'\u001b[39m,\n",
      "  \u001b[32m'FOOT'\u001b[39m, \u001b[32m'foot'\u001b[39m, \u001b[32m'salt'\u001b[39m,\n",
      "  \u001b[32m'soft'\u001b[39m, \u001b[32m'Duck'\u001b[39m, \u001b[32m'suit'\u001b[39m,\n",
      "  \u001b[32m'suet'\u001b[39m, \u001b[32m'fast'\u001b[39m, \u001b[32m'desk'\u001b[39m,\n",
      "  \u001b[32m'flat'\u001b[39m, \u001b[32m'sink'\u001b[39m, \u001b[32m'duck'\u001b[39m,\n",
      "  \u001b[32m'fork'\u001b[39m, \u001b[32m'sent'\u001b[39m, \u001b[32m'spot'\u001b[39m\n",
      "]\n"
     ]
    }
   ],
   "source": [
    "const matches = text.match(/\\b[dfs]\\w{2}[kt]\\b/gi) ?? [];\n",
    "const uniqueMatches = new Set(matches);\n",
    "console.log([...uniqueMatches]);"
   ]
  },
  {
   "cell_type": "markdown",
   "id": "579f70c0",
   "metadata": {},
   "source": [
    "The pattern `/\\b[dfs]\\w{2}[kt]\\b/gi` breaks down as:\n",
    "- `\\b` — word boundary\n",
    "- `[dfs]` — starts with d, f, or s\n",
    "- `\\w{2}` — exactly two word characters\n",
    "- `[kt]` — ends with k or t\n",
    "- `\\b` — word boundary\n",
    "- `gi` flags — global, case-insensitive\n",
    "\n",
    "We use a `Set` to automatically remove duplicate words. The spread operator `[...uniqueMatches]` converts the Set back to an array for display.\n",
    "\n",
    "### Word count statistics\n",
    "\n",
    "How many words are in this text and how many different words are used?"
   ]
  },
  {
   "cell_type": "code",
   "execution_count": 36,
   "id": "41605faf",
   "metadata": {},
   "outputs": [
    {
     "name": "stdout",
     "output_type": "stream",
     "text": [
      "There are 27344 words in this book and 2579 different words.\n"
     ]
    }
   ],
   "source": [
    "const words = text.toLowerCase().match(/\\b\\w+\\b/g) ?? [];\n",
    "const uniqueWords = new Set(words);\n",
    "console.log(\n",
    "  `There are ${words.length} words in this book and ${uniqueWords.size} different words.`\n",
    ");"
   ]
  },
  {
   "cell_type": "markdown",
   "id": "5987671b",
   "metadata": {},
   "source": [
    "This first extracts all words (converted to lowercase for consistency), then uses a `Set` to count the number of unique words. The output shows both the total word count and the vocabulary size of the book."
   ]
  },
  {
   "cell_type": "code",
   "execution_count": null,
   "id": "15a7d4dd",
   "metadata": {},
   "outputs": [],
   "source": []
  }
 ],
 "metadata": {
  "kernelspec": {
   "display_name": "TypeScript",
   "language": "typescript",
   "name": "tslab"
  },
  "language_info": {
   "codemirror_mode": {
    "mode": "typescript",
    "name": "javascript",
    "typescript": true
   },
   "file_extension": ".ts",
   "mimetype": "text/typescript",
   "name": "typescript",
   "version": "3.7.2"
  }
 },
 "nbformat": 4,
 "nbformat_minor": 5
}
