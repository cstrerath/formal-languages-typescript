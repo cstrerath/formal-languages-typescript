{
 "cells": [
  {
   "cell_type": "code",
   "execution_count": 1,
   "id": "d954af94",
   "metadata": {},
   "outputs": [
    {
     "data": {
      "text/html": [
       "<style><link href='http://fonts.googleapis.com/css?family=Alegreya+Sans:100,300,400,500,700,800,900,100italic,300italic,400italic,500italic,700italic,800italic,900italic' rel='stylesheet' type='text/css'>\r\n",
       "<link href='http://fonts.googleapis.com/css?family=Arvo:400,700,400italic' rel='stylesheet' type='text/css'>\r\n",
       "<link href='http://fonts.googleapis.com/css?family=PT+Mono' rel='stylesheet' type='text/css'>\r\n",
       "<link href='http://fonts.googleapis.com/css?family=Shadows+Into+Light' rel='stylesheet' type='text/css'>\r\n",
       "<link href='http://fonts.googleapis.com/css?family=Philosopher:400,700,400italic,700italic' rel='stylesheet' type='text/css'>\r\n",
       "<link href=\"http://fonts.googleapis.com/css?family=Sacramento\" rel=\"stylesheet\" type=\"text/css\">\r\n",
       "\r\n",
       "<style>\r\n",
       "\r\n",
       "@font-face {\r\n",
       "    font-family: \"Computer Modern\";\r\n",
       "    src: url('http://mirrors.ctan.org/fonts/cm-unicode/fonts/otf/cmunss.otf');\r\n",
       "}\r\n",
       "\r\n",
       ".container { width: 100% }\r\n",
       "\r\n",
       "/* Formatting for header cells */\r\n",
       ".text_cell_render h1 {\r\n",
       "    font-family: 'Philosopher', sans-serif;\r\n",
       "    font-weight: 400;\r\n",
       "    font-size: 2.2em;\r\n",
       "    line-height: 100%;\r\n",
       "    color: rgb(0, 80, 120);\r\n",
       "    margin-bottom: 0.1em;\r\n",
       "    margin-top: 0.1em;\r\n",
       "    display: block;\r\n",
       "}\t\r\n",
       ".text_cell_render h2 {\r\n",
       "    font-family: 'Philosopher', serif;\r\n",
       "    font-weight: 400;\r\n",
       "    font-size: 1.9em;\r\n",
       "    line-height: 100%;\r\n",
       "    color: rgb(200,100,0);\r\n",
       "    margin-bottom: 0.1em;\r\n",
       "    margin-top: 0.1em;\r\n",
       "    display: block;\r\n",
       "}\t\r\n",
       "\r\n",
       ".text_cell_render h3 {\r\n",
       "    font-family: 'Philosopher', serif;\r\n",
       "    margin-top:12px;\r\n",
       "    margin-bottom: 3px;\r\n",
       "    font-style: italic;\r\n",
       "    color: rgb(94,127,192);\r\n",
       "}\r\n",
       "\r\n",
       ".text_cell_render h4 {\r\n",
       "    font-family: 'Philosopher', serif;\r\n",
       "}\r\n",
       "\r\n",
       ".text_cell_render h5 {\r\n",
       "    font-family: 'Alegreya Sans', sans-serif;\r\n",
       "    font-weight: 300;\r\n",
       "    font-size: 16pt;\r\n",
       "    color: grey;\r\n",
       "    font-style: italic;\r\n",
       "    margin-bottom: .1em;\r\n",
       "    margin-top: 0.1em;\r\n",
       "    display: block;\r\n",
       "}\r\n",
       "\r\n",
       ".text_cell_render h6 {\r\n",
       "    font-family: 'PT Mono', sans-serif;\r\n",
       "    font-weight: 300;\r\n",
       "    font-size: 10pt;\r\n",
       "    color: grey;\r\n",
       "    margin-bottom: 1px;\r\n",
       "    margin-top: 1px;\r\n",
       "}\r\n",
       "\r\n",
       ".text_cell_render em {\r\n",
       "    font-family: 'Philosopher', sans-serif;\r\n",
       "    color:        blue;\r\n",
       "    background-color: rgb(255,220,180);\r\n",
       "    font-size:    110%;\r\n",
       "    margin-left:   2px;\r\n",
       "    margin-right:  2px;\r\n",
       "    font-weight:   100;\r\n",
       "}\r\n",
       "\r\n",
       ".text_cell_render b {\r\n",
       "    color:            rgb(255,195,195);\r\n",
       "    background-color: rgb(0,0,0);\r\n",
       "    font-size:    110%;\r\n",
       "    margin-left:   2px;\r\n",
       "    margin-right:  2px;\r\n",
       "    font-weight:   650;\r\n",
       "}\r\n",
       "\r\n",
       ".text_cell_render u {\r\n",
       "    color:            blue;\r\n",
       "    font-size:    110%;\r\n",
       "    margin-left:   2px;\r\n",
       "    margin-right:  2px;\r\n",
       "    font-weight:   650;\r\n",
       "}\r\n",
       "\r\n",
       ".text_cell_render tt {\r\n",
       "    font-size:    120%;\r\n",
       "    margin-left:   2px;\r\n",
       "    margin-right:  2px;\r\n",
       "    font-weight:   150;\r\n",
       "}\r\n",
       "\r\n",
       ".Codemirror {\r\n",
       "    font-family: \"PT Mono\";\r\n",
       "    font-size: 100%;\r\n",
       "}\r\n",
       "\r\n",
       "#fancy {\r\n",
       "    font-family:      Georgia;\r\n",
       "    position:         relative;\r\n",
       "    float:            left;\r\n",
       "    border:           2px solid red;\r\n",
       "    width:            600px;\r\n",
       "    padding-left:     20px;\r\n",
       "    padding-right:    20px;\r\n",
       "    padding-top:      10px;\r\n",
       "    font-family:      'Sacramento', cursive;\r\n",
       "    font-size:        26px;\r\n",
       "    background-color: #F4EBF3;\r\n",
       "    border-radius:    15px;\r\n",
       "}\r\n",
       "\r\n",
       "</Style>\r\n",
       "\r\n",
       "</style>"
      ]
     },
     "metadata": {},
     "output_type": "display_data"
    }
   ],
   "source": [
    "import { display } from \"tslab\";\n",
    "import { readFileSync } from \"fs\";\n",
    "\n",
    "const css = readFileSync(\"../style.css\", \"utf8\");\n",
    "display.html(`<style>${css}</style>`);"
   ]
  },
  {
   "cell_type": "markdown",
   "id": "0e48bae9",
   "metadata": {},
   "source": [
    "# Converting HTML to Text (TypeScript Version)\n",
    "\n",
    "This notebook demonstrates how to use **TypeScript** and the [`chevrotain`](https://chevrotain.io/) library  \n",
    "to extract plain text from an HTML document.  \n",
    "\n",
    "The goal is to build a simple **lexer (tokenizer)** that recognizes HTML tags  \n",
    "and outputs only the text content.  \n",
    "For simplicity, we only support a small but representative subset of HTML.\n",
    "\n",
    "The original web page was created by [Prof. Dr. Karl Stroetmann](http://wwwlehre.dhbw-stuttgart.de/~stroetma/).  \n",
    "In this exercise, we aim to extract readable text from the HTML source of that page.  \n",
    "\n",
    "To achieve this, we implement a small **state machine** in TypeScript that distinguishes  \n",
    "between different HTML sections such as `<head>`, `<script>`, and normal text."
   ]
  },
  {
   "cell_type": "code",
   "execution_count": 2,
   "id": "4e774804",
   "metadata": {},
   "outputs": [],
   "source": [
    "const data = `\n",
    "<html>\n",
    "  <head>\n",
    "    <meta charset=\"utf-8\">\n",
    "    <title>Homepage of Prof. Dr. Karl Stroetmann</title>\n",
    "    <link type=\"text/css\" rel=\"stylesheet\" href=\"style.css\" />\n",
    "    <link href=\"http://fonts.googleapis.com/css?family=Rochester&subset=latin,latin-ext\"\n",
    "          rel=\"stylesheet\" type=\"text/css\">\n",
    "    <link href=\"http://fonts.googleapis.com/css?family=Pacifico&subset=latin,latin-ext\"\n",
    "          rel=\"stylesheet\" type=\"text/css\">\n",
    "    <link href=\"http://fonts.googleapis.com/css?family=Cabin+Sketch&subset=latin,latin-ext\" rel=\"stylesheet\" type=\"text/css\">\n",
    "    <link href=\"http://fonts.googleapis.com/css?family=Sacramento\" rel=\"stylesheet\" type=\"text/css\">\n",
    "  </head>\n",
    "  <body>\n",
    "    <hr/>\n",
    "\n",
    "    <div id=\"table\">\n",
    "      <header>\n",
    "        <h1 id=\"name\">Prof. Dr. Karl Stroetmann</h1>\n",
    "      </header>\n",
    "\n",
    "      <div id=\"row1\">\n",
    "        <div class=\"right\">\n",
    "          <a id=\"dhbw\" href=\"http://www.ba-stuttgart.de\">Duale Hochschule Baden-W&uuml;rttemberg</a>\n",
    "          <br/>Coblitzallee 1-9\n",
    "          <br/>68163 Mannheim\n",
    "          <br/>Germany\n",
    "\t  <br>\n",
    "          <br/>Office: &nbsp;&nbsp;&nbsp; Raum 344B\n",
    "          <br/>Phone:&nbsp;&nbsp;&nbsp; +49 621 4105-1376\n",
    "          <br/>Fax:&nbsp;&nbsp;&nbsp;&nbsp;&nbsp;&nbsp;&nbsp; +49 621 4105-1194\n",
    "          <br/>Skype: &nbsp;&nbsp;&nbsp; karlstroetmann\n",
    "        </div>  \n",
    "\n",
    "\n",
    "        <div id=\"links\">\n",
    "          <strong class=\"some\">Some links:</strong>\n",
    "          <ul class=\"inlink\">\n",
    "            <li class=\"inlink\">\n",
    "\t      My <a class=\"inlink\" href=\"https://github.com/karlstroetmann?tab=repositories\">lecture notes</a>,\n",
    "              as well as the programs presented in class, can be found\n",
    "              at <br>\n",
    "              <a class=\"inlink\" href=\"https://github.com/karlstroetmann?tab=repositories\">https://github.com/karlstroetmann</a>.\n",
    "              \n",
    "            </li>\n",
    "            <li class=\"inlink\">Most of my papers can be found at <a class=\"inlink\" href=\"https://www.researchgate.net/\">researchgate.net</a>.</li>\n",
    "            <li class=\"inlink\">The programming language SetlX can be downloaded at <br>\n",
    "              <a href=\"http://randoom.org/Software/SetlX\"><tt class=\"inlink\">http://randoom.org/Software/SetlX</tt></a>.\n",
    "            </li>\n",
    "          </ul>\n",
    "        </div>\n",
    "      </div>\n",
    "    </div>\n",
    "    \n",
    "    <div id=\"intro\">\n",
    "      As I am getting old and wise, I have to accept the limits of\n",
    "      my own capabilities.  I have condensed these deep philosophical\n",
    "      insights into a most beautiful pearl of poetry.  I would like \n",
    "      to share these humble words of wisdom:\n",
    "      \n",
    "      <div class=\"poetry\">\n",
    "        I am a teacher by profession,    <br>\n",
    "        mostly really by obsession;      <br>\n",
    "        But even though I boldly try,    <br>\n",
    "        I just cannot teach <a href=\"flying-pig.jpg\" id=\"fp\">pigs</a> to fly.</br>\n",
    "        Instead, I slaughter them and fry.\n",
    "      </div>\n",
    "      \n",
    "      <div class=\"citation\">\n",
    "        <div class=\"quote\">\n",
    "          Any sufficiently advanced poetry is indistinguishable from divine wisdom.\n",
    "        </div>\n",
    "        <div id=\"sign\">His holiness Pope Hugo &#8555;.</div>\n",
    "      </div>\n",
    "    </div>\n",
    "</div>\n",
    "\n",
    "</body>\n",
    "</html>\n",
    "`;"
   ]
  },
  {
   "cell_type": "code",
   "execution_count": 3,
   "id": "db07d38e",
   "metadata": {},
   "outputs": [
    {
     "data": {
      "text/html": [
       "\n",
       "<html>\n",
       "  <head>\n",
       "    <meta charset=\"utf-8\">\n",
       "    <title>Homepage of Prof. Dr. Karl Stroetmann</title>\n",
       "    <link type=\"text/css\" rel=\"stylesheet\" href=\"style.css\" />\n",
       "    <link href=\"http://fonts.googleapis.com/css?family=Rochester&subset=latin,latin-ext\"\n",
       "          rel=\"stylesheet\" type=\"text/css\">\n",
       "    <link href=\"http://fonts.googleapis.com/css?family=Pacifico&subset=latin,latin-ext\"\n",
       "          rel=\"stylesheet\" type=\"text/css\">\n",
       "    <link href=\"http://fonts.googleapis.com/css?family=Cabin+Sketch&subset=latin,latin-ext\" rel=\"stylesheet\" type=\"text/css\">\n",
       "    <link href=\"http://fonts.googleapis.com/css?family=Sacramento\" rel=\"stylesheet\" type=\"text/css\">\n",
       "  </head>\n",
       "  <body>\n",
       "    <hr/>\n",
       "\n",
       "    <div id=\"table\">\n",
       "      <header>\n",
       "        <h1 id=\"name\">Prof. Dr. Karl Stroetmann</h1>\n",
       "      </header>\n",
       "\n",
       "      <div id=\"row1\">\n",
       "        <div class=\"right\">\n",
       "          <a id=\"dhbw\" href=\"http://www.ba-stuttgart.de\">Duale Hochschule Baden-W&uuml;rttemberg</a>\n",
       "          <br/>Coblitzallee 1-9\n",
       "          <br/>68163 Mannheim\n",
       "          <br/>Germany\n",
       "\t  <br>\n",
       "          <br/>Office: &nbsp;&nbsp;&nbsp; Raum 344B\n",
       "          <br/>Phone:&nbsp;&nbsp;&nbsp; +49 621 4105-1376\n",
       "          <br/>Fax:&nbsp;&nbsp;&nbsp;&nbsp;&nbsp;&nbsp;&nbsp; +49 621 4105-1194\n",
       "          <br/>Skype: &nbsp;&nbsp;&nbsp; karlstroetmann\n",
       "        </div>  \n",
       "\n",
       "\n",
       "        <div id=\"links\">\n",
       "          <strong class=\"some\">Some links:</strong>\n",
       "          <ul class=\"inlink\">\n",
       "            <li class=\"inlink\">\n",
       "\t      My <a class=\"inlink\" href=\"https://github.com/karlstroetmann?tab=repositories\">lecture notes</a>,\n",
       "              as well as the programs presented in class, can be found\n",
       "              at <br>\n",
       "              <a class=\"inlink\" href=\"https://github.com/karlstroetmann?tab=repositories\">https://github.com/karlstroetmann</a>.\n",
       "              \n",
       "            </li>\n",
       "            <li class=\"inlink\">Most of my papers can be found at <a class=\"inlink\" href=\"https://www.researchgate.net/\">researchgate.net</a>.</li>\n",
       "            <li class=\"inlink\">The programming language SetlX can be downloaded at <br>\n",
       "              <a href=\"http://randoom.org/Software/SetlX\"><tt class=\"inlink\">http://randoom.org/Software/SetlX</tt></a>.\n",
       "            </li>\n",
       "          </ul>\n",
       "        </div>\n",
       "      </div>\n",
       "    </div>\n",
       "    \n",
       "    <div id=\"intro\">\n",
       "      As I am getting old and wise, I have to accept the limits of\n",
       "      my own capabilities.  I have condensed these deep philosophical\n",
       "      insights into a most beautiful pearl of poetry.  I would like \n",
       "      to share these humble words of wisdom:\n",
       "      \n",
       "      <div class=\"poetry\">\n",
       "        I am a teacher by profession,    <br>\n",
       "        mostly really by obsession;      <br>\n",
       "        But even though I boldly try,    <br>\n",
       "        I just cannot teach <a href=\"flying-pig.jpg\" id=\"fp\">pigs</a> to fly.</br>\n",
       "        Instead, I slaughter them and fry.\n",
       "      </div>\n",
       "      \n",
       "      <div class=\"citation\">\n",
       "        <div class=\"quote\">\n",
       "          Any sufficiently advanced poetry is indistinguishable from divine wisdom.\n",
       "        </div>\n",
       "        <div id=\"sign\">His holiness Pope Hugo &#8555;.</div>\n",
       "      </div>\n",
       "    </div>\n",
       "</div>\n",
       "\n",
       "</body>\n",
       "</html>\n"
      ]
     },
     "metadata": {},
     "output_type": "display_data"
    }
   ],
   "source": [
    "display.html(data)"
   ]
  },
  {
   "cell_type": "markdown",
   "id": "fba750b4",
   "metadata": {},
   "source": [
    "The original web page is still available at https://wwwlehre.dhbw-stuttgart.de/~stroetma/."
   ]
  },
  {
   "cell_type": "markdown",
   "id": "45f105f6",
   "metadata": {},
   "source": [
    "## Imports"
   ]
  },
  {
   "cell_type": "markdown",
   "id": "38b61710",
   "metadata": {},
   "source": [
    "We will use the package [Chevrotain](https://chevrotain.io/documentation/0_7_2/index.html) to remove the \n",
    "<span style=\"font-variant:small-caps;\">Html</span> tags and extract the text that\n",
    "is embedded in the <span style=\"font-variant:small-caps;\">Html</span> shown above.\n",
    "In this example, we will only use the scanner that is provided by the module `Lexer`. \n",
    "Hence we import the module `Lexer` that contains the scanner generator from `Chevrotain`."
   ]
  },
  {
   "cell_type": "markdown",
   "id": "c5d3935a",
   "metadata": {},
   "source": [
    "We use the **Chevrotain** library to tokenize the HTML source code.  \n",
    "Chevrotain is a powerful toolkit for building lexers and parsers in TypeScript.\n",
    "\n",
    "In this notebook, we only use the **lexer** functionality  \n",
    "to break the HTML document into tokens."
   ]
  },
  {
   "cell_type": "code",
   "execution_count": 4,
   "id": "b469441c",
   "metadata": {},
   "outputs": [
    {
     "name": "stderr",
     "output_type": "stream",
     "text": [
      "npm notice\n",
      "npm notice New major version of npm available! 10.8.2 -> 11.6.2\n",
      "npm notice Changelog: https://github.com/npm/cli/releases/tag/v11.6.2\n",
      "npm notice To update run: npm install -g npm@11.6.2\n",
      "npm notice\n"
     ]
    },
    {
     "name": "stdout",
     "output_type": "stream",
     "text": [
      "\n",
      "up to date, audited 9 packages in 1s\n",
      "\n",
      "1 package is looking for funding\n",
      "  run `npm fund` for details\n",
      "\n",
      "found 0 vulnerabilities\n",
      "\n"
     ]
    },
    {
     "name": "stderr",
     "output_type": "stream",
     "text": []
    },
    {
     "name": "stdout",
     "output_type": "stream",
     "text": [
      "\n",
      "up to date, audited 9 packages in 976ms\n",
      "\n",
      "1 package is looking for funding\n",
      "  run `npm fund` for details\n",
      "\n",
      "found 0 vulnerabilities\n",
      "\n"
     ]
    }
   ],
   "source": [
    "const { execSync } = await import('child_process');\n",
    "console.log(execSync('npm install chevrotain@10').toString());\n",
    "console.log(execSync('npm install entities').toString());"
   ]
  },
  {
   "cell_type": "code",
   "execution_count": 5,
   "id": "dc1898f3",
   "metadata": {},
   "outputs": [],
   "source": [
    "import { createToken,Lexer,ITokenConfig,TokenType, IToken} from \"chevrotain\";\n",
    "import { decodeHTML } from \"entities\";"
   ]
  },
  {
   "cell_type": "markdown",
   "id": "55dba652",
   "metadata": {},
   "source": [
    "## Definition of the States"
   ]
  },
  {
   "cell_type": "markdown",
   "id": "ec527ec8",
   "metadata": {},
   "source": [
    "The lexer operates in multiple **modes (states)** that determine how HTML tokens are processed.\n",
    "\n",
    "We define three main modes:\n",
    "\n",
    "- `INITIAL` – the default mode for normal text and general HTML content  \n",
    "- `header` – activated when the lexer is inside the `<head>` tag  \n",
    "- `script` – activated when the lexer is inside a `<script>` block  \n",
    "\n",
    "Each mode has its own set of token definitions to correctly distinguish  \n",
    "between text, tags, and entities."
   ]
  },
  {
   "cell_type": "markdown",
   "id": "ef099264",
   "metadata": {},
   "source": [
    "## Token Definitions"
   ]
  },
  {
   "cell_type": "markdown",
   "id": "8a5c220b",
   "metadata": {},
   "source": [
    "We proceed to give the definition of the tokens.  Note that none of the function defined below\n",
    "returns a token.  Rather all of these function print the transformation of the \n",
    "<span style=\"font-variant:small-caps;\">Html</span> that they have matched.\n",
    "\n",
    "In this section, we will define the tokens needed to process our exam data.\n",
    "\n",
    "Each token is created using Chevrotain's createToken function, which takes two main parameters:\n",
    "\n",
    "name - A string identifying the token type\n",
    "pattern - A regular expression that defines what strings this token matches"
   ]
  },
  {
   "cell_type": "markdown",
   "id": "fa605d1d",
   "metadata": {},
   "source": [
    "### The Definition of the Token `HEAD_START`"
   ]
  },
  {
   "cell_type": "markdown",
   "id": "687195d7",
   "metadata": {},
   "source": [
    "Once the scanner reads the opening tag `<head>` it switches into the state `header`.  The function `begin` of the lexer can be used to switch into a different scanner state.  In the state `header`, the scanner continues to read and discard characters until the closing tag `</head>` is encountered.  Note that this token is only recognized in the state `INITIAL`.  The state `INITIAL` is the initial state of the scanner, i.e. the scanner always starts in this state."
   ]
  },
  {
   "cell_type": "code",
   "execution_count": 6,
   "id": "2b2ce835",
   "metadata": {},
   "outputs": [],
   "source": [
    "const HEAD_START = createToken({ \n",
    "    name: \"HEAD_START\",\n",
    "    pattern: /<head>/i \n",
    "})"
   ]
  },
  {
   "cell_type": "markdown",
   "id": "61ecb5c9",
   "metadata": {},
   "source": [
    "### The Definition of the Token `SCRIPT_START`\n",
    "\n",
    "Once the scanner reads the opening tag `<script>` it switches into the state `script`.  In this state it will continue to read and discard characters until it sees the closing tag `</script>`."
   ]
  },
  {
   "cell_type": "code",
   "execution_count": 7,
   "id": "d470e22b",
   "metadata": {},
   "outputs": [],
   "source": [
    "const SCRIPT_START = createToken({ \n",
    "    name: \"SCRIPT_START\", \n",
    "    pattern: /<script\\b[^>]*>/i \n",
    "});"
   ]
  },
  {
   "cell_type": "markdown",
   "id": "20979ff0",
   "metadata": {},
   "source": [
    "### The Definition of the Token `LINEBREAK`\n",
    "\n",
    "Groups of newline characters are condensed into a single newline character.\n",
    "As we are not interested in the variable `t.lexer.lineno` in this example, we don't have to count the newlines.\n",
    "This token is active in the `INITIAL` state."
   ]
  },
  {
   "cell_type": "code",
   "execution_count": 8,
   "id": "c5ff3dde",
   "metadata": {},
   "outputs": [],
   "source": [
    "const LINEBREAK = createToken({\n",
    "  name: \"LINEBREAK\",\n",
    "  pattern: /(\\s*\\n\\s*)+/,\n",
    "  line_breaks: true\n",
    "});"
   ]
  },
  {
   "cell_type": "markdown",
   "id": "cf78b6cd",
   "metadata": {},
   "source": [
    "### The Definition of the Token `TAG`\n",
    "\n",
    "The token `TAG` is defined as any string that starts with the character `<` and ends with the character \n",
    "`>`. Betweens these two characters there has to be a nonzero number of characters that are different from \n",
    "the character `>`.  The text of the token is discarded."
   ]
  },
  {
   "cell_type": "code",
   "execution_count": 9,
   "id": "00ae0bce",
   "metadata": {},
   "outputs": [],
   "source": [
    "const TAG = createToken({\n",
    "  name: \"TAG\",\n",
    "  pattern: /<[^>]+>/\n",
    "});"
   ]
  },
  {
   "cell_type": "markdown",
   "id": "285dfbee",
   "metadata": {},
   "source": [
    "### The Definition of the Token `NAMED_ENTITY`\n",
    "\n",
    "In order to support named <span style=\"font-variant:small-caps;\">Html</span> entities we need to import\n",
    "the dictionary `html5` from the module `html.entities`.  For every named \n",
    "<span style=\"font-variant:small-caps;\">Html</span> entity `e`, `html[e]` is the unicode symbol that is specified by `e`."
   ]
  },
  {
   "cell_type": "code",
   "execution_count": 10,
   "id": "ee6452cc",
   "metadata": {},
   "outputs": [
    {
     "name": "stdout",
     "output_type": "stream",
     "text": [
      "ä\n"
     ]
    }
   ],
   "source": [
    "console.log(decodeHTML(\"&auml;\")); // ä"
   ]
  },
  {
   "cell_type": "markdown",
   "id": "d71afbfc",
   "metadata": {},
   "source": [
    "The regular expression `&[a-zA-Z]+;?` searches for <span style=\"font-variant:small-caps;\">Html</span>\n",
    "entity names.  These are strings that start with the character `&` followed by the name of the entity, optionally followed by the character `;`.  For example, `&auml;` is the entity name that specifies the German umlaut `ä`.  If a Unicode entity name is found, the corresponding character is printed."
   ]
  },
  {
   "cell_type": "code",
   "execution_count": 11,
   "id": "e402793c",
   "metadata": {},
   "outputs": [],
   "source": [
    "const NAMED_ENTITY = createToken({\n",
    "  name: \"NAMED_ENTITY\",\n",
    "  pattern: /&[A-Za-z]+;?/\n",
    "});"
   ]
  },
  {
   "cell_type": "markdown",
   "id": "418fb671",
   "metadata": {},
   "source": [
    "### The Definition of the Token `UNICODE` \n",
    "\n",
    "The regular expression `&\\#[0-9]+;?` searches for <span style=\"font-variant:small-caps;\">Html</span> entities that specify a unicode character numerically.  The corresponding strings start with the character `&`\n",
    "followed by the character `#` followed by digits and are optionally ended by the character `;`.\n",
    "\n",
    "Note that we had to escape the character `#` with a  backslash because otherwise this character would signal the begin of a comment.\n",
    "\n",
    "Note further that the function `fromCodePoint` takes a number and returns the corresponding unicode character.\n",
    "For example, `String.fromCodePoint(128034)` returns the character `'🐢'`. "
   ]
  },
  {
   "cell_type": "code",
   "execution_count": 12,
   "id": "5147f8a0",
   "metadata": {},
   "outputs": [],
   "source": [
    "const UNICODE = createToken({\n",
    "  name: \"UNICODE\",\n",
    "  pattern: /&#[0-9]+;?/\n",
    "});"
   ]
  },
  {
   "cell_type": "code",
   "execution_count": 13,
   "id": "c56ace0c",
   "metadata": {},
   "outputs": [
    {
     "name": "stdout",
     "output_type": "stream",
     "text": [
      "Ⅻ\n"
     ]
    }
   ],
   "source": [
    "String.fromCodePoint(8555)"
   ]
  },
  {
   "cell_type": "code",
   "execution_count": 14,
   "id": "6bb024ab",
   "metadata": {},
   "outputs": [
    {
     "name": "stdout",
     "output_type": "stream",
     "text": [
      "🐢\n"
     ]
    }
   ],
   "source": [
    "String.fromCodePoint(128034)"
   ]
  },
  {
   "cell_type": "markdown",
   "id": "173e17a1",
   "metadata": {},
   "source": [
    "### The Definition of the Token `ANY` \n",
    "\n",
    "The regular expression `.` matches any character that is different from a newline character.  These characters are printed unmodified.  Note that the scanner tries the regular expressions for a given state in the order that they are defined in this notebook.  Therefore, it is crucial that the function `t_ANY` is defined after all other token definitions for the `INITIAL` state are given.  The `INITIAL` state is the default state of the scanner and therefore the state the scanner is in when it starts scanning."
   ]
  },
  {
   "cell_type": "code",
   "execution_count": 15,
   "id": "f0090a3d",
   "metadata": {},
   "outputs": [],
   "source": [
    "const ANY = createToken({\n",
    "  name: \"ANY\",\n",
    "  pattern: /[^<&\\r\\n]+/\n",
    "});"
   ]
  },
  {
   "cell_type": "markdown",
   "id": "72d090ad",
   "metadata": {},
   "source": [
    "### The Definition of the Token `HEAD_END` \n",
    "\n",
    "The regular expression `</head>` matches the closing head tag.  Note that this regular expression is only\n",
    "active in state `header` as the name of this function starts with `t_header`.  Once the closing tag has been found, the function `lexer.begin` switches the lexer back into the state `INITIAL`, which is the \n",
    "<em style=\"color:blue\">start state</em> of the scanner.  In the state `INITIAL`, all token definitions are active, that do not start with either `t_header` or `t_script`."
   ]
  },
  {
   "cell_type": "code",
   "execution_count": 16,
   "id": "08dd6ac8",
   "metadata": {},
   "outputs": [],
   "source": [
    "const HEAD_END = createToken({\n",
    "    name: \"HEAD_END\",\n",
    "    pattern: /<\\/head>/i \n",
    "});"
   ]
  },
  {
   "cell_type": "markdown",
   "id": "1de68e8c",
   "metadata": {},
   "source": [
    "### The Definition of the Token `SCRIPT_END`"
   ]
  },
  {
   "cell_type": "markdown",
   "id": "c077291a",
   "metadata": {},
   "source": [
    "The regular expression `</script>` matches the closing script tag.  Note that this regular expression is only\n",
    "active in state `script`.  Once the closing tag has been found, the function `lexer.begin` switches the lexer back into the state `INITIAL`, which is the start state of the scanner.  "
   ]
  },
  {
   "cell_type": "code",
   "execution_count": 17,
   "id": "3c5f704a",
   "metadata": {},
   "outputs": [],
   "source": [
    "const SCRIPT_END = createToken({ \n",
    "    name: \"SCRIPT_END\",\n",
    "    pattern: /<\\/script>/i\n",
    "});"
   ]
  },
  {
   "cell_type": "markdown",
   "id": "db7144f3",
   "metadata": {},
   "source": [
    "## Error Handling"
   ]
  },
  {
   "cell_type": "markdown",
   "id": "6adea557",
   "metadata": {},
   "source": [
    "The function `t_error` is called when a substring at the beginning of the input can not be matched by any of the regular expressions defined in the various tokens.  In our implementation we print the first character that could not be matched, discard this character and continue.\n",
    "\n",
    "<b>Note:</b>  Because of our definition for the token `ANY`, there can be no scanning **error**."
   ]
  },
  {
   "cell_type": "code",
   "execution_count": 18,
   "id": "f245685a",
   "metadata": {},
   "outputs": [],
   "source": [
    "function t_error(char: string, offset: number) {\n",
    "  console.error(`Illegal character '${char}' at position ${offset}`);\n",
    "}"
   ]
  },
  {
   "cell_type": "markdown",
   "id": "3b1ef256",
   "metadata": {},
   "source": [
    "The function `t_header_error` is called when a substring at the beginning of the input can not be matched by any of the regular expressions defined in the various tokens and the scanner is in state `header`.  Actually, this function can never be called."
   ]
  },
  {
   "cell_type": "code",
   "execution_count": 19,
   "id": "88c858cc",
   "metadata": {},
   "outputs": [],
   "source": [
    "function t_header_error(char: string, offset: number) {\n",
    "  console.error(`Illegal character in state 'header': '${char}' at position ${offset}`);\n",
    "}"
   ]
  },
  {
   "cell_type": "markdown",
   "id": "b51b055a",
   "metadata": {},
   "source": [
    "The function `t_script_error` is called when a substring at the beginning of the input can not be matched by any of the regular expressions defined in the various tokens and the scanner is in state `script`.  Actually, this function can never be called."
   ]
  },
  {
   "cell_type": "code",
   "execution_count": 20,
   "id": "17ff2190",
   "metadata": {},
   "outputs": [],
   "source": [
    "function t_script_error(char: string, offset: number) {\n",
    "  console.error(`Illegal character in state 'script': '${char}' at position ${offset}`);\n",
    "}"
   ]
  },
  {
   "cell_type": "markdown",
   "id": "bb8220d1",
   "metadata": {},
   "source": [
    "## Running the Scanner"
   ]
  },
  {
   "cell_type": "markdown",
   "id": "b40a8f97",
   "metadata": {},
   "source": [
    "Add all Tokens to the lexerDefinition."
   ]
  },
  {
   "cell_type": "code",
   "execution_count": 21,
   "id": "6f1863ab",
   "metadata": {},
   "outputs": [],
   "source": [
    "const lexerDefinition = {\n",
    "  defaultMode: \"INITIAL\",\n",
    "  modes: {\n",
    "    INITIAL: [\n",
    "      HEAD_START,\n",
    "      SCRIPT_START,\n",
    "      LINEBREAK,\n",
    "      TAG,\n",
    "      NAMED_ENTITY,\n",
    "      UNICODE,\n",
    "      ANY\n",
    "    ],\n",
    "    header: [HEAD_END, { ...ANY, name: \"HEADER_ANY\" }],\n",
    "    script: [SCRIPT_END, { ...ANY, name: \"SCRIPT_ANY\" }]\n",
    "  }\n",
    "};"
   ]
  },
  {
   "cell_type": "markdown",
   "id": "16d36257",
   "metadata": {},
   "source": [
    "The line below is necessary to trick `Lexer`. It creates the actual Chevrotain `Lexer` from your token definitions, and the option { ensureOptimizations: false } disables internal optimization checks for complex regular expressions."
   ]
  },
  {
   "cell_type": "code",
   "execution_count": 22,
   "id": "c9a599f3",
   "metadata": {},
   "outputs": [],
   "source": [
    "const HtmlLexer = new Lexer(lexerDefinition, { ensureOptimizations: false });"
   ]
  },
  {
   "cell_type": "markdown",
   "id": "f27a70f7",
   "metadata": {},
   "source": [
    "These functions convert HTML entities into their corresponding characters — decodeNamedEntity handles named entities (like `&nbsp;`), while decodeUnicode converts numeric ones (like `&#160;`)."
   ]
  },
  {
   "cell_type": "code",
   "execution_count": null,
   "id": "39ce0ac8",
   "metadata": {},
   "outputs": [],
   "source": [
    "function decodeNamedEntity(entity: string): string {\n",
    "  return decodeHTML(entity);\n",
    "}\n",
    "\n",
    "function decodeUnicode(entity: string): string {\n",
    "  const num = parseInt(entity.replace(/[&#;]/g, \"\"), 10);\n",
    "  return String.fromCharCode(num);\n",
    "}"
   ]
  },
  {
   "cell_type": "markdown",
   "id": "1702a900",
   "metadata": {},
   "source": [
    "This function tokenizes an HTML string, processes each token based on its context (INITIAL, header, or script), decodes entities, ignores tags, and returns the cleaned plain text content."
   ]
  },
  {
   "cell_type": "code",
   "execution_count": 23,
   "id": "b65f332c",
   "metadata": {},
   "outputs": [
    {
     "name": "stderr",
     "output_type": "stream",
     "text": [
      "43:21 - Cannot find name 'decodeNamedEntity'.\n",
      "45:21 - Cannot find name 'decodeUnicode'.\n"
     ]
    }
   ],
   "source": [
    "function htmlToText(html: string): string {\n",
    "  const lines: string[] = [];\n",
    "  let text = \"\";\n",
    "\n",
    "  try {\n",
    "    const lexResult = HtmlLexer.tokenize(html);\n",
    "\n",
    "    if (lexResult.errors && lexResult.errors.length > 0) {\n",
    "      lexResult.errors.forEach((err: any) => {\n",
    "        t_error(err.message, err.offset || -1);\n",
    "      });\n",
    "    }\n",
    "\n",
    "    const tokens = lexResult.tokens;\n",
    "    let mode = \"INITIAL\";\n",
    "    let subMode: \"title\" | \"style\" | \"script\" | null = null; // NEU\n",
    "\n",
    "    const allowedHeaderTags = [\"meta\", \"title\", \"link\", \"style\", \"base\", \"script\"];\n",
    "\n",
    "    for (let i = 0; i < tokens.length; i++) {\n",
    "      const t = tokens[i];\n",
    "      const value = t.image;\n",
    "\n",
    "      try {\n",
    "        // === INITIAL Modus ===\n",
    "        if (mode === \"INITIAL\") {\n",
    "          if (/<head>/i.test(value)) {\n",
    "            mode = \"header\";\n",
    "            continue;\n",
    "          }\n",
    "          if (/<script\\b/i.test(value)) {\n",
    "            mode = \"script\";\n",
    "            continue;\n",
    "          }\n",
    "\n",
    "          if (/<br\\s*\\/?>/i.test(value)) {\n",
    "            text += \"\\n\";\n",
    "          } else if (/<\\/p>|<p>/i.test(value)) {\n",
    "            text += \"\\n\\n\";\n",
    "          } else if (/<[^>]+>/.test(value)) {\n",
    "            // Ignoriere andere HTML-Tags\n",
    "          } else if (/&[A-Za-z]+;?/.test(value)) {\n",
    "            text += decodeNamedEntity(value);\n",
    "          } else if (/&#[0-9]+;?/.test(value)) {\n",
    "            text += decodeUnicode(value);\n",
    "          } else if (/\\n/.test(value)) {\n",
    "            text += \"\\n\";\n",
    "          } else if (value.trim() === \"\") {\n",
    "            // Ignoriere Whitespace\n",
    "          } else {\n",
    "            text += value;\n",
    "          }\n",
    "\n",
    "        // === HEADER Modus ===\n",
    "        } else if (mode === \"header\") {\n",
    "\n",
    "          // Wenn wir in einem Unter-Tag (z.B. <title>) sind:\n",
    "          if (subMode) {\n",
    "            const endTag = new RegExp(`</${subMode}>`, \"i\");\n",
    "            if (endTag.test(value)) {\n",
    "              subMode = null; // zurück zu Header\n",
    "            } else {\n",
    "              // Inhalt innerhalb <title>, <style>, <script> → gültig\n",
    "              continue;\n",
    "            }\n",
    "\n",
    "          } else if (/<\\/head>/i.test(value)) {\n",
    "            mode = \"INITIAL\";\n",
    "\n",
    "          } else if (/<title>/i.test(value)) {\n",
    "            subMode = \"title\";\n",
    "          } else if (/<style>/i.test(value)) {\n",
    "            subMode = \"style\";\n",
    "          } else if (/<script>/i.test(value)) {\n",
    "            subMode = \"script\";\n",
    "          } else if (\n",
    "            new RegExp(`<\\\\/?(?:${allowedHeaderTags.join(\"|\")})\\\\b[^>]*>`, \"i\").test(value) ||\n",
    "            /^\\s*$/.test(value)\n",
    "          ) {\n",
    "            // gültige Header-Tags oder Whitespace\n",
    "            continue;\n",
    "          } else {\n",
    "            t_header_error(value, t.startOffset);\n",
    "          }\n",
    "\n",
    "        // === SCRIPT Modus ===\n",
    "        } else if (mode === \"script\") {\n",
    "          if (/<\\/script>/i.test(value)) {\n",
    "            mode = \"INITIAL\";\n",
    "          } else if (/^[^<>&]+$/.test(value) || /^\\s*$/.test(value)) {\n",
    "            continue;\n",
    "          } else {\n",
    "            t_script_error(value, t.startOffset);\n",
    "          }\n",
    "        }\n",
    "\n",
    "      } catch (tokenErr) {\n",
    "        t_error(value, t.startOffset);\n",
    "      }\n",
    "    }\n",
    "\n",
    "    text = text\n",
    "      .replace(/\\u00A0/g, \" \")\n",
    "      .replace(/[ \\t]+\\n/g, \"\\n\")\n",
    "      .replace(/\\n{3,}/g, \"\\n\\n\")\n",
    "      .trim();\n",
    "\n",
    "  } catch (err: any) {\n",
    "    console.error(\"Fatal error during HTML parsing:\", err.message);\n",
    "  }\n",
    "\n",
    "  return text;\n",
    "}"
   ]
  },
  {
   "cell_type": "markdown",
   "id": "4ee39fd3",
   "metadata": {},
   "source": [
    "Next, we feed our input string into the generated scanner."
   ]
  },
  {
   "cell_type": "code",
   "execution_count": null,
   "id": "cd51af6b",
   "metadata": {},
   "outputs": [],
   "source": [
    "console.log(htmlToText(data));"
   ]
  },
  {
   "cell_type": "markdown",
   "id": "ceb3023f",
   "metadata": {},
   "source": [
    "In order to scan the data that we provided in the last line, we iterate over all tokens generated by our scanner."
   ]
  },
  {
   "cell_type": "code",
   "execution_count": null,
   "id": "f3e0f32c",
   "metadata": {},
   "outputs": [],
   "source": [
    "const lexResult = HtmlLexer.tokenize(data);\n",
    "\n",
    "// Alle Tokens ausgeben:\n",
    "for (const tok of lexResult.tokens) {\n",
    "  console.log({\n",
    "    name: tok.tokenType.name,\n",
    "    image: tok.image,\n",
    "    startLine: tok.startLine,\n",
    "    startColumn: tok.startColumn\n",
    "  });\n",
    "}\n"
   ]
  },
  {
   "cell_type": "markdown",
   "id": "208fdc0f",
   "metadata": {},
   "source": [
    "This loop prints all lexer modes and their corresponding token names with regex patterns to the console."
   ]
  },
  {
   "cell_type": "code",
   "execution_count": null,
   "id": "ac9acef3",
   "metadata": {
    "scrolled": true
   },
   "outputs": [],
   "source": [
    "for (const [mode, toks] of Object.entries(lexerDefinition.modes)) {\n",
    "  console.log(`\\nTokens im Modus: ${mode}`);\n",
    "  for (const t of toks as any[]) {\n",
    "    console.log(`  ${t.name} → ${t.PATTERN}`);\n",
    "  }\n",
    "}"
   ]
  }
 ],
 "metadata": {
  "kernelspec": {
   "display_name": "TypeScript",
   "language": "typescript",
   "name": "tslab"
  },
  "language_info": {
   "codemirror_mode": {
    "mode": "typescript",
    "name": "javascript",
    "typescript": true
   },
   "file_extension": ".ts",
   "mimetype": "text/typescript",
   "name": "typescript",
   "version": "3.7.2"
  }
 },
 "nbformat": 4,
 "nbformat_minor": 5
}
