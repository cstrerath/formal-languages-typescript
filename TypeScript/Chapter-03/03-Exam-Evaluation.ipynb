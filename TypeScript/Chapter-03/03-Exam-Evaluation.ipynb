{
 "cells": [
  {
   "cell_type": "code",
   "execution_count": 1,
   "id": "d2852993",
   "metadata": {},
   "outputs": [
    {
     "data": {
      "text/html": [
       "<style><link href='http://fonts.googleapis.com/css?family=Alegreya+Sans:100,300,400,500,700,800,900,100italic,300italic,400italic,500italic,700italic,800italic,900italic' rel='stylesheet' type='text/css'>\r\n",
       "<link href='http://fonts.googleapis.com/css?family=Arvo:400,700,400italic' rel='stylesheet' type='text/css'>\r\n",
       "<link href='http://fonts.googleapis.com/css?family=PT+Mono' rel='stylesheet' type='text/css'>\r\n",
       "<link href='http://fonts.googleapis.com/css?family=Shadows+Into+Light' rel='stylesheet' type='text/css'>\r\n",
       "<link href='http://fonts.googleapis.com/css?family=Philosopher:400,700,400italic,700italic' rel='stylesheet' type='text/css'>\r\n",
       "<link href=\"http://fonts.googleapis.com/css?family=Sacramento\" rel=\"stylesheet\" type=\"text/css\">\r\n",
       "\r\n",
       "<style>\r\n",
       "\r\n",
       "@font-face {\r\n",
       "    font-family: \"Computer Modern\";\r\n",
       "    src: url('http://mirrors.ctan.org/fonts/cm-unicode/fonts/otf/cmunss.otf');\r\n",
       "}\r\n",
       "\r\n",
       ".container { width: 100% }\r\n",
       "\r\n",
       "/* Formatting for header cells */\r\n",
       ".text_cell_render h1 {\r\n",
       "    font-family: 'Philosopher', sans-serif;\r\n",
       "    font-weight: 400;\r\n",
       "    font-size: 2.2em;\r\n",
       "    line-height: 100%;\r\n",
       "    color: rgb(0, 80, 120);\r\n",
       "    margin-bottom: 0.1em;\r\n",
       "    margin-top: 0.1em;\r\n",
       "    display: block;\r\n",
       "}\t\r\n",
       ".text_cell_render h2 {\r\n",
       "    font-family: 'Philosopher', serif;\r\n",
       "    font-weight: 400;\r\n",
       "    font-size: 1.9em;\r\n",
       "    line-height: 100%;\r\n",
       "    color: rgb(200,100,0);\r\n",
       "    margin-bottom: 0.1em;\r\n",
       "    margin-top: 0.1em;\r\n",
       "    display: block;\r\n",
       "}\t\r\n",
       "\r\n",
       ".text_cell_render h3 {\r\n",
       "    font-family: 'Philosopher', serif;\r\n",
       "    margin-top:12px;\r\n",
       "    margin-bottom: 3px;\r\n",
       "    font-style: italic;\r\n",
       "    color: rgb(94,127,192);\r\n",
       "}\r\n",
       "\r\n",
       ".text_cell_render h4 {\r\n",
       "    font-family: 'Philosopher', serif;\r\n",
       "}\r\n",
       "\r\n",
       ".text_cell_render h5 {\r\n",
       "    font-family: 'Alegreya Sans', sans-serif;\r\n",
       "    font-weight: 300;\r\n",
       "    font-size: 16pt;\r\n",
       "    color: grey;\r\n",
       "    font-style: italic;\r\n",
       "    margin-bottom: .1em;\r\n",
       "    margin-top: 0.1em;\r\n",
       "    display: block;\r\n",
       "}\r\n",
       "\r\n",
       ".text_cell_render h6 {\r\n",
       "    font-family: 'PT Mono', sans-serif;\r\n",
       "    font-weight: 300;\r\n",
       "    font-size: 10pt;\r\n",
       "    color: grey;\r\n",
       "    margin-bottom: 1px;\r\n",
       "    margin-top: 1px;\r\n",
       "}\r\n",
       "\r\n",
       ".text_cell_render em {\r\n",
       "    font-family: 'Philosopher', sans-serif;\r\n",
       "    color:        blue;\r\n",
       "    background-color: rgb(255,220,180);\r\n",
       "    font-size:    110%;\r\n",
       "    margin-left:   2px;\r\n",
       "    margin-right:  2px;\r\n",
       "    font-weight:   100;\r\n",
       "}\r\n",
       "\r\n",
       ".text_cell_render b {\r\n",
       "    color:            rgb(255,195,195);\r\n",
       "    background-color: rgb(0,0,0);\r\n",
       "    font-size:    110%;\r\n",
       "    margin-left:   2px;\r\n",
       "    margin-right:  2px;\r\n",
       "    font-weight:   650;\r\n",
       "}\r\n",
       "\r\n",
       ".text_cell_render u {\r\n",
       "    color:            blue;\r\n",
       "    font-size:    110%;\r\n",
       "    margin-left:   2px;\r\n",
       "    margin-right:  2px;\r\n",
       "    font-weight:   650;\r\n",
       "}\r\n",
       "\r\n",
       ".text_cell_render tt {\r\n",
       "    font-size:    120%;\r\n",
       "    margin-left:   2px;\r\n",
       "    margin-right:  2px;\r\n",
       "    font-weight:   150;\r\n",
       "}\r\n",
       "\r\n",
       ".Codemirror {\r\n",
       "    font-family: \"PT Mono\";\r\n",
       "    font-size: 100%;\r\n",
       "}\r\n",
       "\r\n",
       "#fancy {\r\n",
       "    font-family:      Georgia;\r\n",
       "    position:         relative;\r\n",
       "    float:            left;\r\n",
       "    border:           2px solid red;\r\n",
       "    width:            600px;\r\n",
       "    padding-left:     20px;\r\n",
       "    padding-right:    20px;\r\n",
       "    padding-top:      10px;\r\n",
       "    font-family:      'Sacramento', cursive;\r\n",
       "    font-size:        26px;\r\n",
       "    background-color: #F4EBF3;\r\n",
       "    border-radius:    15px;\r\n",
       "}\r\n",
       "\r\n",
       "</Style>\r\n",
       "\r\n",
       "</style>"
      ]
     },
     "metadata": {},
     "output_type": "display_data"
    }
   ],
   "source": [
    "import { display } from \"tslab\";\n",
    "import { readFileSync } from \"fs\";\n",
    "\n",
    "const css = readFileSync(\"../style.css\", \"utf8\");\n",
    "display.html(`<style>${css}</style>`);"
   ]
  },
  {
   "cell_type": "markdown",
   "id": "0a3b8a55",
   "metadata": {},
   "source": [
    "# Evaluating an Exam Using Chevrotain\n",
    "\n",
    "This notebook shows how we can use the module [`chevrotain`](https://chevrotain.io/docs/) to implement a scanner.\n",
    "\n",
    "Our goal is to implement a program that can be used to evaluate the results of an exam.\n",
    "\n",
    "Assume the result of an exam is stored in the string `data` that is defined below:"
   ]
  },
  {
   "cell_type": "code",
   "execution_count": 2,
   "id": "40ad18f2",
   "metadata": {},
   "outputs": [],
   "source": [
    "const data = `Class: Algorithms and Complexity\n",
    "          Group: TINF22AI1\n",
    "          MaxPoints = 60\n",
    "   \n",
    "          Exercise:      1. 2. 3. 4. 5. 6.\n",
    "          Jim Smith:     9 12 10  6  6  0\n",
    "          John Slow:     4  4  2  0  -  -\n",
    "          Susi Sorglos:  9 12 12  9  9  6\n",
    "          1609922:       7  4 12  5  5  3\n",
    "       `;"
   ]
  },
  {
   "cell_type": "markdown",
   "id": "efe31985",
   "metadata": {},
   "source": [
    "This data show that there has been a exam with the subject <em style=\"color:blue\">Algorithms and Complexity</em>\n",
    "in the group <em style=\"color:blue\">TIT22AI1</em>.  Furthermore, the equation\n",
    "```\n",
    "   MaxPoints = 60\n",
    "```\n",
    "shows that in order to achieve the best mark, <em style=\"color:blue\">60</em> points would have been necessary.\n",
    "\n",
    "There have been 6 different exercises in this exam and, in this small example,  only four students took part, namely *Jim Smith*, *John Slow*, *Susi Sorglos*, and some student that is only represented by their matriculation number.  Each of the rows decribing the results of the students begins with the name (or matriculation number) of the student followed by the number of points that they have achieved in the different exercises. Our goal is to write a program that is able to compute the marks for all students."
   ]
  },
  {
   "cell_type": "markdown",
   "id": "92bbfe9a",
   "metadata": {},
   "source": [
    "We will use the package [Chevrotain](https://chevrotain.io/).\n",
    "\n",
    "In particular, we will use the lexer generator that is provided by `createToken` and the `Lexer` class.\n",
    "\n",
    "Furthermore, we will use TypeScript's built-in regular expressions to match and extract patterns."
   ]
  },
  {
   "cell_type": "code",
   "execution_count": 3,
   "id": "57828de9",
   "metadata": {},
   "outputs": [],
   "source": [
    "import { createToken, Lexer } from \"chevrotain\";"
   ]
  },
  {
   "cell_type": "markdown",
   "id": "a1bf119d",
   "metadata": {},
   "source": [
    "## Auxiliary Functions"
   ]
  },
  {
   "cell_type": "markdown",
   "id": "40dfa0c0",
   "metadata": {},
   "source": [
    "The function `mark(maxPoints, points)` takes two arguments:\n",
    "\n",
    "- `points` - The number of points achieved by the student\n",
    "- `maxPoints` - The number of points needed to achieve the best mark of 1.0\n",
    "\n",
    "It is assumed that the relation between the mark and the points is mostly linear. A student who achieves 50% of `maxPoints` will get the mark 4.0, while 100% results in mark 1.0.\n",
    "\n",
    "The formula to calculate the grade is:\n",
    "$$ \\textrm{grade} = 7 - 6 \\cdot \\frac{\\texttt{points}}{\\texttt{max_points}} $$\n",
    "However, the worst mark is 5.0. The `Math.min()` function ensures the grade does not exceed 5.0. The result is rounded to one decimal place.\n"
   ]
  },
  {
   "cell_type": "code",
   "execution_count": 4,
   "id": "3a009534",
   "metadata": {},
   "outputs": [],
   "source": [
    "function mark(maxPoints: number, points: number): number {\n",
    "    const grade = 7 - 6 * points / maxPoints;\n",
    "    return Math.round(Math.min(5.0, grade) * 10) / 10;\n",
    "}"
   ]
  },
  {
   "cell_type": "markdown",
   "id": "8e3b9e5b",
   "metadata": {},
   "source": [
    "Let's test this function by visualizing it.\n",
    "\n",
    "Since interactive plotting libraries like Plotly can be unstable in TypeScript Jupyter notebooks, we'll create our visualization using **SVG (Scalable Vector Graphics)**. SVG is a web standard for creating graphics using code, and it works perfectly in Jupyter without any external dependencies.\n",
    "\n",
    "The code below might look complex at first glance, but it follows a clear structure:\n",
    "\n",
    "1. **Setup**: Define dimensions and create data points\n",
    "2. **Scaling**: Convert our data values to pixel coordinates\n",
    "3. **Grid**: Draw background grid lines for better readability\n",
    "4. **Axes**: Draw the main X and Y axes\n",
    "5. **Plot**: Draw the line connecting all points\n",
    "6. **Markers**: Add blue dots to highlight data points\n",
    "7. **Labels**: Add titles and axis descriptions\n",
    "\n",
    "While this approach requires more code than a plotting library, it gives us full control and works reliably in any environment that supports HTML/SVG."
   ]
  },
  {
   "cell_type": "code",
   "execution_count": 5,
   "id": "f1f4a892",
   "metadata": {},
   "outputs": [
    {
     "data": {
      "text/html": [
       "<svg width=\"800\" height=\"500\" xmlns=\"http://www.w3.org/2000/svg\" style=\"background: white;\"><line x1=\"60\" y1=\"440\" x2=\"740\" y2=\"440\" stroke=\"#e0e0e0\" stroke-width=\"1\"/><text x=\"50\" y=\"445\" text-anchor=\"end\" font-size=\"12\" fill=\"#666\">1.0</text><line x1=\"60\" y1=\"392.5\" x2=\"740\" y2=\"392.5\" stroke=\"#e0e0e0\" stroke-width=\"1\"/><text x=\"50\" y=\"397.5\" text-anchor=\"end\" font-size=\"12\" fill=\"#666\">1.5</text><line x1=\"60\" y1=\"345\" x2=\"740\" y2=\"345\" stroke=\"#e0e0e0\" stroke-width=\"1\"/><text x=\"50\" y=\"350\" text-anchor=\"end\" font-size=\"12\" fill=\"#666\">2.0</text><line x1=\"60\" y1=\"297.5\" x2=\"740\" y2=\"297.5\" stroke=\"#e0e0e0\" stroke-width=\"1\"/><text x=\"50\" y=\"302.5\" text-anchor=\"end\" font-size=\"12\" fill=\"#666\">2.5</text><line x1=\"60\" y1=\"250\" x2=\"740\" y2=\"250\" stroke=\"#e0e0e0\" stroke-width=\"1\"/><text x=\"50\" y=\"255\" text-anchor=\"end\" font-size=\"12\" fill=\"#666\">3.0</text><line x1=\"60\" y1=\"202.5\" x2=\"740\" y2=\"202.5\" stroke=\"#e0e0e0\" stroke-width=\"1\"/><text x=\"50\" y=\"207.5\" text-anchor=\"end\" font-size=\"12\" fill=\"#666\">3.5</text><line x1=\"60\" y1=\"155\" x2=\"740\" y2=\"155\" stroke=\"#e0e0e0\" stroke-width=\"1\"/><text x=\"50\" y=\"160\" text-anchor=\"end\" font-size=\"12\" fill=\"#666\">4.0</text><line x1=\"60\" y1=\"107.5\" x2=\"740\" y2=\"107.5\" stroke=\"#e0e0e0\" stroke-width=\"1\"/><text x=\"50\" y=\"112.5\" text-anchor=\"end\" font-size=\"12\" fill=\"#666\">4.5</text><line x1=\"60\" y1=\"60\" x2=\"740\" y2=\"60\" stroke=\"#e0e0e0\" stroke-width=\"1\"/><text x=\"50\" y=\"65\" text-anchor=\"end\" font-size=\"12\" fill=\"#666\">5.0</text><line x1=\"60\" y1=\"60\" x2=\"60\" y2=\"440\" stroke=\"#e0e0e0\" stroke-width=\"1\"/><text x=\"60\" y=\"460\" text-anchor=\"middle\" font-size=\"12\" fill=\"#666\">0</text><line x1=\"173.33333333333331\" y1=\"60\" x2=\"173.33333333333331\" y2=\"440\" stroke=\"#e0e0e0\" stroke-width=\"1\"/><text x=\"173.33333333333331\" y=\"460\" text-anchor=\"middle\" font-size=\"12\" fill=\"#666\">10</text><line x1=\"286.66666666666663\" y1=\"60\" x2=\"286.66666666666663\" y2=\"440\" stroke=\"#e0e0e0\" stroke-width=\"1\"/><text x=\"286.66666666666663\" y=\"460\" text-anchor=\"middle\" font-size=\"12\" fill=\"#666\">20</text><line x1=\"400\" y1=\"60\" x2=\"400\" y2=\"440\" stroke=\"#e0e0e0\" stroke-width=\"1\"/><text x=\"400\" y=\"460\" text-anchor=\"middle\" font-size=\"12\" fill=\"#666\">30</text><line x1=\"513.3333333333333\" y1=\"60\" x2=\"513.3333333333333\" y2=\"440\" stroke=\"#e0e0e0\" stroke-width=\"1\"/><text x=\"513.3333333333333\" y=\"460\" text-anchor=\"middle\" font-size=\"12\" fill=\"#666\">40</text><line x1=\"626.6666666666667\" y1=\"60\" x2=\"626.6666666666667\" y2=\"440\" stroke=\"#e0e0e0\" stroke-width=\"1\"/><text x=\"626.6666666666667\" y=\"460\" text-anchor=\"middle\" font-size=\"12\" fill=\"#666\">50</text><line x1=\"740\" y1=\"60\" x2=\"740\" y2=\"440\" stroke=\"#e0e0e0\" stroke-width=\"1\"/><text x=\"740\" y=\"460\" text-anchor=\"middle\" font-size=\"12\" fill=\"#666\">60</text><line x1=\"60\" y1=\"60\" x2=\"60\" y2=\"440\" stroke=\"black\" stroke-width=\"2\"/><line x1=\"60\" y1=\"440\" x2=\"740\" y2=\"440\" stroke=\"black\" stroke-width=\"2\"/><path d=\"M 60 60 L 71.33333333333333 60 L 82.66666666666667 60 L 94 60 L 105.33333333333334 60 L 116.66666666666666 60 L 128 60 L 139.33333333333331 60 L 150.66666666666669 60 L 162 60 L 173.33333333333331 60 L 184.66666666666666 60 L 196 60 L 207.33333333333334 60 L 218.66666666666666 60 L 230 60 L 241.33333333333334 60 L 252.66666666666666 60 L 264 60 L 275.3333333333333 60 L 286.66666666666663 60 L 298 69.49999999999994 L 309.3333333333333 79 L 320.6666666666667 88.5 L 332 98.00000000000006 L 343.33333333333337 107.5 L 354.6666666666667 116.99999999999994 L 366 126.5 L 377.3333333333333 136 L 388.6666666666667 145.50000000000006 L 400 155 L 411.33333333333337 164.5 L 422.6666666666667 174 L 434.00000000000006 183.5 L 445.3333333333333 193 L 456.6666666666667 202.5 L 468 212 L 479.33333333333337 221.50000000000003 L 490.66666666666663 230.99999999999997 L 502 240.5 L 513.3333333333333 250 L 524.6666666666667 259.5 L 536 269 L 547.3333333333333 278.5 L 558.6666666666666 288 L 570 297.5 L 581.3333333333334 307 L 592.6666666666666 316.5 L 604 326 L 615.3333333333334 335.5 L 626.6666666666667 345 L 638 354.5 L 649.3333333333334 364 L 660.6666666666666 373.5 L 672 383 L 683.3333333333333 392.5 L 694.6666666666666 402 L 706 411.5 L 717.3333333333334 421 L 728.6666666666666 430.5 L 740 440\" fill=\"none\" stroke=\"#1f77b4\" stroke-width=\"2\"/><circle cx=\"60\" cy=\"60\" r=\"4\" fill=\"#1f77b4\" stroke=\"white\" stroke-width=\"1\"/><circle cx=\"116.66666666666666\" cy=\"60\" r=\"4\" fill=\"#1f77b4\" stroke=\"white\" stroke-width=\"1\"/><circle cx=\"173.33333333333331\" cy=\"60\" r=\"4\" fill=\"#1f77b4\" stroke=\"white\" stroke-width=\"1\"/><circle cx=\"230\" cy=\"60\" r=\"4\" fill=\"#1f77b4\" stroke=\"white\" stroke-width=\"1\"/><circle cx=\"286.66666666666663\" cy=\"60\" r=\"4\" fill=\"#1f77b4\" stroke=\"white\" stroke-width=\"1\"/><circle cx=\"343.33333333333337\" cy=\"107.5\" r=\"4\" fill=\"#1f77b4\" stroke=\"white\" stroke-width=\"1\"/><circle cx=\"400\" cy=\"155\" r=\"4\" fill=\"#1f77b4\" stroke=\"white\" stroke-width=\"1\"/><circle cx=\"456.6666666666667\" cy=\"202.5\" r=\"4\" fill=\"#1f77b4\" stroke=\"white\" stroke-width=\"1\"/><circle cx=\"513.3333333333333\" cy=\"250\" r=\"4\" fill=\"#1f77b4\" stroke=\"white\" stroke-width=\"1\"/><circle cx=\"570\" cy=\"297.5\" r=\"4\" fill=\"#1f77b4\" stroke=\"white\" stroke-width=\"1\"/><circle cx=\"626.6666666666667\" cy=\"345\" r=\"4\" fill=\"#1f77b4\" stroke=\"white\" stroke-width=\"1\"/><circle cx=\"683.3333333333333\" cy=\"392.5\" r=\"4\" fill=\"#1f77b4\" stroke=\"white\" stroke-width=\"1\"/><circle cx=\"740\" cy=\"440\" r=\"4\" fill=\"#1f77b4\" stroke=\"white\" stroke-width=\"1\"/><text x=\"400\" y=\"490\" text-anchor=\"middle\" font-size=\"14\" font-weight=\"bold\">Points</text><text x=\"15\" y=\"250\" text-anchor=\"middle\" font-size=\"14\" font-weight=\"bold\" transform=\"rotate(-90, 15, 250)\">Grade</text><text x=\"400\" y=\"30\" text-anchor=\"middle\" font-size=\"16\" font-weight=\"bold\">Grade as a Function of Points (Max Points = 60)</text></svg>"
      ]
     },
     "metadata": {},
     "output_type": "display_data"
    }
   ],
   "source": [
    "import { display } from \"tslab\";\n",
    "\n",
    "function mark(maxPoints: number, points: number): number {\n",
    "    const grade = 7 - 6 * points / maxPoints;\n",
    "    return Math.round(Math.min(5.0, grade) * 10) / 10;\n",
    "}\n",
    "\n",
    "const maxPoints = 60;\n",
    "const width = 800;\n",
    "const height = 500;\n",
    "const padding = 60;\n",
    "\n",
    "// Generate points\n",
    "const chartData = Array.from({ length: maxPoints + 1 }, (_, i) => ({\n",
    "    x: i,\n",
    "    y: mark(maxPoints, i)\n",
    "}));\n",
    "\n",
    "// Scale functions\n",
    "const xScale = (x: number) => padding + (x / maxPoints) * (width - 2 * padding);\n",
    "const yScale = (y: number) => height - padding - ((y - 1) / 4) * (height - 2 * padding);\n",
    "\n",
    "// Build SVG\n",
    "let svg = `<svg width=\"${width}\" height=\"${height}\" xmlns=\"http://www.w3.org/2000/svg\" style=\"background: white;\">`;\n",
    "\n",
    "// Grid lines (horizontal)\n",
    "for (let grade = 1.0; grade <= 5.0; grade += 0.5) {\n",
    "    const y = yScale(grade);\n",
    "    svg += `<line x1=\"${padding}\" y1=\"${y}\" x2=\"${width-padding}\" y2=\"${y}\" stroke=\"#e0e0e0\" stroke-width=\"1\"/>`;\n",
    "    svg += `<text x=\"${padding - 10}\" y=\"${y + 5}\" text-anchor=\"end\" font-size=\"12\" fill=\"#666\">${grade.toFixed(1)}</text>`;\n",
    "}\n",
    "\n",
    "// Grid lines (vertical) - every 10 points\n",
    "for (let pts = 0; pts <= maxPoints; pts += 10) {\n",
    "    const x = xScale(pts);\n",
    "    svg += `<line x1=\"${x}\" y1=\"${padding}\" x2=\"${x}\" y2=\"${height-padding}\" stroke=\"#e0e0e0\" stroke-width=\"1\"/>`;\n",
    "    svg += `<text x=\"${x}\" y=\"${height-padding + 20}\" text-anchor=\"middle\" font-size=\"12\" fill=\"#666\">${pts}</text>`;\n",
    "}\n",
    "\n",
    "// Axes (thicker, on top of grid)\n",
    "svg += `<line x1=\"${padding}\" y1=\"${padding}\" x2=\"${padding}\" y2=\"${height-padding}\" stroke=\"black\" stroke-width=\"2\"/>`;\n",
    "svg += `<line x1=\"${padding}\" y1=\"${height-padding}\" x2=\"${width-padding}\" y2=\"${height-padding}\" stroke=\"black\" stroke-width=\"2\"/>`;\n",
    "\n",
    "// Plot line\n",
    "const pathData = chartData.map((d, i) => \n",
    "    `${i === 0 ? 'M' : 'L'} ${xScale(d.x)} ${yScale(d.y)}`\n",
    ").join(' ');\n",
    "svg += `<path d=\"${pathData}\" fill=\"none\" stroke=\"#1f77b4\" stroke-width=\"2\"/>`;\n",
    "\n",
    "// Points (with markers every 5 points for clarity)\n",
    "chartData.forEach((d, i) => {\n",
    "    if (i % 5 === 0) {\n",
    "        svg += `<circle cx=\"${xScale(d.x)}\" cy=\"${yScale(d.y)}\" r=\"4\" fill=\"#1f77b4\" stroke=\"white\" stroke-width=\"1\"/>`;\n",
    "    }\n",
    "});\n",
    "\n",
    "// Axis labels\n",
    "svg += `<text x=\"${width/2}\" y=\"${height-10}\" text-anchor=\"middle\" font-size=\"14\" font-weight=\"bold\">Points</text>`;\n",
    "svg += `<text x=\"15\" y=\"${height/2}\" text-anchor=\"middle\" font-size=\"14\" font-weight=\"bold\" transform=\"rotate(-90, 15, ${height/2})\">Grade</text>`;\n",
    "\n",
    "// Title\n",
    "svg += `<text x=\"${width/2}\" y=\"30\" text-anchor=\"middle\" font-size=\"16\" font-weight=\"bold\">Grade as a Function of Points (Max Points = 60)</text>`;\n",
    "\n",
    "svg += `</svg>`;\n",
    "\n",
    "display.html(svg);\n"
   ]
  },
  {
   "cell_type": "markdown",
   "id": "e211aca2",
   "metadata": {},
   "source": [
    "The resulting plot shows how the grade decreases linearly from 5.0 (worst) at 0 points to 1.0 (best) at 60 points, with a grade of 4.0 achieved at exactly 50% of the maximum points (30 points)."
   ]
  },
  {
   "cell_type": "markdown",
   "id": "1558bc6e",
   "metadata": {},
   "source": [
    "## Token Definitions"
   ]
  },
  {
   "cell_type": "markdown",
   "id": "34036826",
   "metadata": {},
   "source": [
    "In this section, we will define the tokens needed to process our exam data.\n",
    "\n",
    "Each token is created using Chevrotain's `createToken` function, which takes two main parameters:\n",
    "- `name` - A string identifying the token type\n",
    "- `pattern` - A regular expression that defines what strings this token matches"
   ]
  },
  {
   "cell_type": "markdown",
   "id": "91e86d21",
   "metadata": {},
   "source": [
    "### The `HEADER` Token\n",
    "\n",
    "The `HEADER` token is designed to match informational lines at the beginning of our exam data.\n",
    "\n",
    "Looking at our example data:\n",
    "\n",
    "```\n",
    "Class: Algorithms and Complexity\n",
    "Group: TINF22AI1\n",
    "Exercise: 1. 2. 3. 4. 5. 6.\n",
    "```\n",
    "\n",
    "Each HEADER line follows this pattern:\n",
    "1. It starts with one or more letters (for example, \"Class\", \"Group\", or \"Exercise\")\n",
    "2. This is followed by a colon `:`\n",
    "3. After the colon comes any descriptive text (such as the course name, group, or exercise numbers)\n",
    "4. The line ends with a newline character\n",
    "\n",
    "The regular expression `/[A-Za-z]+:.*\\n/` captures this pattern:\n",
    "- `[A-Za-z]+` matches one or more letters (upper or lowercase)\n",
    "- `:` matches the literal colon character\n",
    "- `.*` matches any characters after the colon (the descriptive text)\n",
    "- `\\n` matches the newline at the end\n",
    "\n",
    "**Note:** By including the newline in the pattern, we ensure that the entire line is recognized as a single token."
   ]
  },
  {
   "cell_type": "code",
   "execution_count": 6,
   "id": "2dd8b481",
   "metadata": {},
   "outputs": [],
   "source": [
    "const Header = createToken({ \n",
    "  name: \"HEADER\", \n",
    "  pattern: /[A-Za-z]+:.*\\n/ \n",
    "});"
   ]
  },
  {
   "cell_type": "markdown",
   "id": "0d6b1a7e",
   "metadata": {},
   "source": [
    "### The `MAXDEF` Token\n",
    "\n",
    "The `MAXDEF` token matches the line that defines the maximum number of points for the exam.\n",
    "\n",
    "In our example data, this line looks like:\n",
    "\n",
    "```\n",
    "MaxPoints = 60\n",
    "```\n",
    "\n",
    "The regular expression `/MaxPoints\\s*=\\s*[1-9][0-9]*/` captures this pattern:\n",
    "- `MaxPoints` matches the literal string\n",
    "- `\\s*` matches any amount of whitespace before and after the equals sign\n",
    "- `=` matches the literal equals sign\n",
    "- `[1-9][0-9]*` matches a number without leading zeros (e.g., \"60\", \"100\")\n",
    "\n",
    "This token is important because it tells us how many points are needed for the best possible grade."
   ]
  },
  {
   "cell_type": "code",
   "execution_count": 7,
   "id": "759acf47",
   "metadata": {},
   "outputs": [],
   "source": [
    "const MaxDef = createToken({ \n",
    "  name: \"MAXDEF\", \n",
    "  pattern: /MaxPoints\\s*=\\s*[1-9][0-9]*/ \n",
    "});"
   ]
  },
  {
   "cell_type": "markdown",
   "id": "97eaeb93",
   "metadata": {},
   "source": [
    "### The `NAME` Token\n",
    "\n",
    "The `NAME` token matches the name of a student, which is always followed by a colon.\n",
    "\n",
    "Student names can contain letters, spaces, and hyphens. For example:\n",
    "\n",
    "```\n",
    "Jim Smith:\n",
    "Susi Sorglos:\n",
    "```\n",
    "\n",
    "The regular expression `/[A-Za-z]+(?: [A-Za-z]+)+:/` ensures:\n",
    "- The name starts with one or more letters\n",
    "- It contains at least one space (to distinguish names from headers)\n",
    "- It ends with a colon `:`\n",
    "\n",
    "This token helps us identify which student the following points belong to."
   ]
  },
  {
   "cell_type": "code",
   "execution_count": 8,
   "id": "88051be3",
   "metadata": {},
   "outputs": [],
   "source": [
    "const Name = createToken({ \n",
    "  name: \"NAME\", \n",
    "  pattern: /[A-Za-z]+(?: [A-Za-z]+)+:/ \n",
    "});"
   ]
  },
  {
   "cell_type": "markdown",
   "id": "e95890d5",
   "metadata": {},
   "source": [
    "### The `MATRICULATION` Token\n",
    "\n",
    "The `MATRICULATION` token matches a student identification number.\n",
    "\n",
    "Some students are identified by a 7-digit matriculation number followed by a colon, for example:\n",
    "\n",
    "```\n",
    "1609922:\n",
    "```\n",
    "\n",
    "The regular expression `/[0-9]{7}:/` ensures:\n",
    "- Exactly seven digits (`[0-9]{7}`)\n",
    "- Followed by a colon (`:`)\n",
    "\n",
    "This token helps us process students who are listed by their ID instead of their name."
   ]
  },
  {
   "cell_type": "code",
   "execution_count": 9,
   "id": "d0446d3f",
   "metadata": {},
   "outputs": [],
   "source": [
    "const Matriculation = createToken({ \n",
    "  name: \"MATRICULATION\", \n",
    "  pattern: /[0-9]{7}:/ \n",
    "});"
   ]
  },
  {
   "cell_type": "markdown",
   "id": "610410c5",
   "metadata": {},
   "source": [
    "### The `NUMBER` Token\n",
    "\n",
    "The `NUMBER` token matches the points a student achieved in an exercise.\n",
    "\n",
    "A number is either exactly `0` or starts with a digit from 1-9 followed by any number of digits. This prevents leading zeros, so \"007\" would be tokenized as three separate numbers: `0`, `0`, `7`.\n",
    "\n",
    "The regular expression `/0|[1-9][0-9]*/` ensures:\n",
    "- Either a single zero (`0`)\n",
    "- Or a non-zero digit followed by more digits (`[1-9][0-9]*`)\n",
    "\n",
    "These tokens are used to sum up the points for each student."
   ]
  },
  {
   "cell_type": "code",
   "execution_count": 10,
   "id": "63245e3d",
   "metadata": {},
   "outputs": [],
   "source": [
    "const Number = createToken({ \n",
    "  name: \"NUMBER\", \n",
    "  pattern: /0|[1-9][0-9]*/ \n",
    "});"
   ]
  },
  {
   "cell_type": "markdown",
   "id": "093a38c4",
   "metadata": {},
   "source": [
    "### The `DASH` Token\n",
    "\n",
    "The `DASH` token matches a hyphen/minus character `-`.\n",
    "\n",
    "In the exam data, dashes indicate that a student did not attempt a specific exercise. For example:\n",
    "\n",
    "```\n",
    "John Slow: 4 4 2 0 - -\n",
    "```\n",
    "\n",
    "\n",
    "Here, John Slow didn't attempt exercises 5 and 6 (indicated by the dashes).\n",
    "\n",
    "The regular expression `/-/` simply matches a single dash character.\n",
    "\n",
    "Since dashes don't contribute to the point total, we add this token to the `SKIPPED` group. This means:\n",
    "- The lexer recognizes dashes (so they don't cause errors)\n",
    "- They are not included in the token stream\n",
    "- They effectively represent 0 points\n",
    "\n",
    "This is similar to how we handle whitespace - recognized but not processed."
   ]
  },
  {
   "cell_type": "code",
   "execution_count": 11,
   "id": "f0de2d0b",
   "metadata": {},
   "outputs": [],
   "source": [
    "const Dash = createToken({ \n",
    "  name: \"DASH\", \n",
    "  pattern: /-/, \n",
    "  group: Lexer.SKIPPED \n",
    "});"
   ]
  },
  {
   "cell_type": "markdown",
   "id": "50a72124",
   "metadata": {},
   "source": [
    "### The `IGNORE` Token\n",
    "\n",
    "Lines that contain only whitespace (spaces or tabs) should be ignored.\n",
    "\n",
    "In Chevrotain, we use a token in the `SKIPPED` group to recognize and discard these lines. The regular expression `/[ \\t\\r]+/` matches any sequence of spaces, tabs, or carriage returns.\n",
    "\n",
    "This ensures that empty lines in the input do not affect the processing."
   ]
  },
  {
   "cell_type": "code",
   "execution_count": 12,
   "id": "f822cd31",
   "metadata": {},
   "outputs": [],
   "source": [
    "const Whitespace = createToken({ \n",
    "  name: \"WS\", \n",
    "  pattern: /[ \\t\\r]+/, \n",
    "  group: Lexer.SKIPPED \n",
    "});\n"
   ]
  },
  {
   "cell_type": "markdown",
   "id": "2b5835b9",
   "metadata": {},
   "source": [
    "### The `LINEBREAK` Token\n",
    "\n",
    "The `LINEBREAK` token matches the newline character `\\n`.\n",
    "\n",
    "This token is important for detecting the end of a student's record. When we reach a LINEBREAK, we know it's time to calculate and output the student's grade.\n",
    "\n",
    "The regular expression `/\\n/` matches a single newline character.\n"
   ]
  },
  {
   "cell_type": "code",
   "execution_count": 13,
   "id": "8a9f6fbb",
   "metadata": {},
   "outputs": [],
   "source": [
    "const Linebreak = createToken({ \n",
    "  name: \"LINEBREAK\", \n",
    "  pattern: /\\n/ \n",
    "});\n"
   ]
  },
  {
   "cell_type": "markdown",
   "id": "5f93a2be",
   "metadata": {},
   "source": [
    "## Creating the Lexer\n",
    "\n",
    "Now that we have defined all our tokens, we need to collect them in an array and create the lexer.\n",
    "\n",
    "**Important:** The order of tokens matters! More specific patterns must come before more general ones to avoid ambiguity:\n",
    "- `MAXDEF` comes before `HEADER` (both contain letters and colons, but MAXDEF is more specific)\n",
    "- `MATRICULATION` comes before `NUMBER` (matriculation numbers are specific 7-digit sequences)"
   ]
  },
  {
   "cell_type": "code",
   "execution_count": 14,
   "id": "7d31a7fb",
   "metadata": {},
   "outputs": [],
   "source": [
    "const allTokens = [\n",
    "  Whitespace,\n",
    "  Dash,\n",
    "  MaxDef,\n",
    "  Header,\n",
    "  Matriculation,\n",
    "  Name,\n",
    "  Number,\n",
    "  Linebreak\n",
    "];\n",
    "\n",
    "const lexer = new Lexer(allTokens, { positionTracking: \"full\" });"
   ]
  },
  {
   "cell_type": "markdown",
   "id": "6572233e",
   "metadata": {},
   "source": [
    "## Processing the Exam Data\n",
    "\n",
    "In Chevrotain, token recognition (lexing) and data processing are separate concerns.\n",
    "\n",
    "We'll create a function that:\n",
    "1. Tokenizes the input using our lexer\n",
    "2. Iterates through the tokens\n",
    "3. Maintains state (current student, their points)\n",
    "4. Calculates and outputs grades when we reach the end of a student's line\n",
    "\n",
    "This approach is cleaner and more maintainable than mixing lexing with business logic."
   ]
  },
  {
   "cell_type": "code",
   "execution_count": 15,
   "id": "9485afaf",
   "metadata": {},
   "outputs": [],
   "source": [
    "function processExamData(input: string): void {\n",
    "  // Step 1: Tokenize the input\n",
    "  const result = lexer.tokenize(input);\n",
    "  \n",
    "  // Check for lexing errors\n",
    "  if (result.errors.length > 0) {\n",
    "    result.errors.forEach(err => {\n",
    "      console.log(`Illegal character at line ${err.line}.`);\n",
    "    });\n",
    "    return;\n",
    "  }\n",
    "  \n",
    "  // Step 2: Initialize state variables\n",
    "  let maxPoints = 0;      // Maximum points for best grade\n",
    "  let currentName = '';   // Current student being processed\n",
    "  let sumPoints = 0;      // Total points for current student\n",
    "  \n",
    "  // Step 3: Process each token\n",
    "  for (const token of result.tokens) {\n",
    "    switch (token.tokenType.name) {\n",
    "      case 'MAXDEF':\n",
    "        // Extract maximum points using regex\n",
    "        const match = token.image.match(/[1-9][0-9]*/);\n",
    "        if (match) {\n",
    "          maxPoints = parseInt(match[0]);\n",
    "        }\n",
    "        currentName = '';\n",
    "        break;\n",
    "        \n",
    "      case 'NAME':\n",
    "        // Start processing a new student (remove trailing colon)\n",
    "        currentName = token.image.slice(0, -1);\n",
    "        sumPoints = 0;\n",
    "        break;\n",
    "        \n",
    "      case 'MATRICULATION':\n",
    "        // Start processing a student by ID (remove trailing colon)\n",
    "        currentName = token.image.slice(0, -1);\n",
    "        sumPoints = 0;\n",
    "        break;\n",
    "        \n",
    "      case 'NUMBER':\n",
    "        // Add points to current student's total\n",
    "        sumPoints += parseInt(token.image);\n",
    "        break;\n",
    "        \n",
    "      case 'LINEBREAK':\n",
    "        // End of student record - calculate and output grade\n",
    "        if (currentName !== '') {\n",
    "          const grade = mark(maxPoints, sumPoints);\n",
    "          console.log(`${currentName} has ${sumPoints} points and achieved the mark ${grade}.`);\n",
    "          currentName = '';\n",
    "        }\n",
    "        break;\n",
    "        \n",
    "      case 'HEADER':\n",
    "        // Headers are recognized but not processed\n",
    "        break;\n",
    "    }\n",
    "  }\n",
    "}"
   ]
  },
  {
   "cell_type": "markdown",
   "id": "736e6a7a",
   "metadata": {},
   "source": [
    "Now let's run our scanner on the exam data and see the results:"
   ]
  },
  {
   "cell_type": "code",
   "execution_count": 16,
   "id": "77bcc7b7",
   "metadata": {},
   "outputs": [
    {
     "name": "stdout",
     "output_type": "stream",
     "text": [
      "Jim Smith has 43 points and achieved the mark 2.7.\n",
      "John Slow has 10 points and achieved the mark 5.\n",
      "Susi Sorglos has 57 points and achieved the mark 1.3.\n",
      "1609922 has 36 points and achieved the mark 3.4.\n"
     ]
    }
   ],
   "source": [
    "processExamData(data);"
   ]
  },
  {
   "cell_type": "markdown",
   "id": "bb44dbec",
   "metadata": {},
   "source": [
    "## How it works\n",
    "\n",
    "Let's trace through what happens for one student:\n",
    "\n",
    "1. We encounter a `NAME` token: \"Jim Smith:\"\n",
    "   - Store \"Jim Smith\" as `currentName`\n",
    "   - Reset `sumPoints` to 0\n",
    "\n",
    "2. We encounter `NUMBER` tokens: \"9\", \"12\", \"10\", \"6\", \"6\", \"0\"\n",
    "   - Each number is added to `sumPoints`\n",
    "   - After all numbers: `sumPoints = 43`\n",
    "\n",
    "3. We encounter a `LINEBREAK` token\n",
    "   - Calculate grade: `mark(60, 43) = 2.7`\n",
    "   - Output: \"Jim Smith has 43 points and achieved the mark 2.7.\"\n",
    "   - Reset `currentName` to empty string\n",
    "\n",
    "This process repeats for each student in the data."
   ]
  }
 ],
 "metadata": {
  "kernelspec": {
   "display_name": "TypeScript",
   "language": "typescript",
   "name": "tslab"
  },
  "language_info": {
   "codemirror_mode": {
    "mode": "typescript",
    "name": "javascript",
    "typescript": true
   },
   "file_extension": ".ts",
   "mimetype": "text/typescript",
   "name": "typescript",
   "version": "3.7.2"
  }
 },
 "nbformat": 4,
 "nbformat_minor": 5
}
