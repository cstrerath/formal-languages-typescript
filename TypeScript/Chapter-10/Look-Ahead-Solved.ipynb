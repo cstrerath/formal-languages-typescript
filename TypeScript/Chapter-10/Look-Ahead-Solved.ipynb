{
 "cells": [
  {
   "cell_type": "code",
   "execution_count": null,
   "metadata": {},
   "outputs": [],
   "source": [
    "from IPython.core.display import HTML\n",
    "with open (\"../style.css\", \"r\") as file:\n",
    "    css = file.read()\n",
    "HTML(css)"
   ]
  },
  {
   "cell_type": "markdown",
   "metadata": {},
   "source": [
    "# Dealing with Conflicts\n",
    "\n",
    "This notebook discusses conflicts that have their origin in insufficient looakahead.\n",
    "We will discuss the following grammar:\n",
    "```\n",
    "a : b 'V'\n",
    "  | c 'W'\n",
    "  \n",
    "b : 'X' 'U'\n",
    "\n",
    "c : 'X' 'U'\n",
    "```"
   ]
  },
  {
   "cell_type": "markdown",
   "metadata": {},
   "source": [
    "## Specification of the Scanner\n",
    "\n",
    "We implement a minimal scanner.  Below we need to declare.  The reason is that `Ply` only works when the list\n",
    "`tokens` is defined and contains at least one token.  "
   ]
  },
  {
   "cell_type": "code",
   "execution_count": 1,
   "metadata": {},
   "outputs": [],
   "source": [
    "import ply.lex as lex\n",
    "\n",
    "tokens   = [ 'USELESS' ]\n",
    "literals = ['U', 'V', 'W', 'X']\n",
    "\n",
    "def t_USELESS(t):\n",
    "    r'This will never be used.'\n",
    "\n",
    "def t_error(t):\n",
    "    r'Unknown token {t.value}.'\n",
    "\n",
    "__file__ = 'main'\n",
    "\n",
    "lexer = lex.lex()"
   ]
  },
  {
   "cell_type": "markdown",
   "metadata": {},
   "source": [
    "## Specification of the Parser"
   ]
  },
  {
   "cell_type": "code",
   "execution_count": 2,
   "metadata": {},
   "outputs": [],
   "source": [
    "import ply.yacc as yacc"
   ]
  },
  {
   "cell_type": "markdown",
   "metadata": {},
   "source": [
    "We can specify multiple expressions in a single rule.  In this case, we have used the `pass`statement \n",
    "as we just want to generate some conflicts. "
   ]
  },
  {
   "cell_type": "code",
   "execution_count": 3,
   "metadata": {},
   "outputs": [],
   "source": [
    "def p_a(p):\n",
    "    \"\"\"\n",
    "    a : b 'V'\n",
    "      | c 'W'\n",
    "    b : 'X' 'U'\n",
    "    c : 'X' 'U'  \n",
    "    \"\"\"\n",
    "    pass"
   ]
  },
  {
   "cell_type": "code",
   "execution_count": 4,
   "metadata": {},
   "outputs": [],
   "source": [
    "def p_error(p):\n",
    "    if p:\n",
    "        print(f'Syntax error at {p.value}.')\n",
    "    else:\n",
    "        print('Syntax error at end of input.')"
   ]
  },
  {
   "cell_type": "markdown",
   "metadata": {},
   "source": [
    "Setting the optional argument `write_tables` to `False` <B style=\"color:red\">is required</B> to prevent an obscure bug where the parser generator tries  to read an empty parse table."
   ]
  },
  {
   "cell_type": "code",
   "execution_count": 5,
   "metadata": {},
   "outputs": [
    {
     "name": "stderr",
     "output_type": "stream",
     "text": [
      "WARNING: Token 'USELESS' defined, but not used\n",
      "WARNING: There is 1 unused token\n",
      "Generating LALR tables\n"
     ]
    }
   ],
   "source": [
    "parser = yacc.yacc(write_tables=False, debug=True)"
   ]
  },
  {
   "cell_type": "markdown",
   "metadata": {},
   "source": [
    "Let's look at the action table that is generated.  We will see that there are no conflicts."
   ]
  },
  {
   "cell_type": "code",
   "execution_count": 6,
   "metadata": {},
   "outputs": [
    {
     "name": "stdout",
     "output_type": "stream",
     "text": [
      "Created by PLY version 3.11 (http://www.dabeaz.com/ply)\n",
      "\n",
      "Unused terminals:\n",
      "\n",
      "    USELESS\n",
      "\n",
      "Grammar\n",
      "\n",
      "Rule 0     S' -> a\n",
      "Rule 1     a -> b V\n",
      "Rule 2     a -> c W\n",
      "Rule 3     b -> X U\n",
      "Rule 4     c -> X U\n",
      "\n",
      "Terminals, with rules where they appear\n",
      "\n",
      "U                    : 3 4\n",
      "USELESS              : \n",
      "V                    : 1\n",
      "W                    : 2\n",
      "X                    : 3 4\n",
      "error                : \n",
      "\n",
      "Nonterminals, with rules where they appear\n",
      "\n",
      "a                    : 0\n",
      "b                    : 1\n",
      "c                    : 2\n",
      "\n",
      "Parsing method: LALR\n",
      "\n",
      "state 0\n",
      "\n",
      "    (0) S' -> . a\n",
      "    (1) a -> . b V\n",
      "    (2) a -> . c W\n",
      "    (3) b -> . X U\n",
      "    (4) c -> . X U\n",
      "\n",
      "    X               shift and go to state 4\n",
      "\n",
      "    a                              shift and go to state 1\n",
      "    b                              shift and go to state 2\n",
      "    c                              shift and go to state 3\n",
      "\n",
      "state 1\n",
      "\n",
      "    (0) S' -> a .\n",
      "\n",
      "\n",
      "\n",
      "state 2\n",
      "\n",
      "    (1) a -> b . V\n",
      "\n",
      "    V               shift and go to state 5\n",
      "\n",
      "\n",
      "state 3\n",
      "\n",
      "    (2) a -> c . W\n",
      "\n",
      "    W               shift and go to state 6\n",
      "\n",
      "\n",
      "state 4\n",
      "\n",
      "    (3) b -> X . U\n",
      "    (4) c -> X . U\n",
      "\n",
      "    U               shift and go to state 7\n",
      "\n",
      "\n",
      "state 5\n",
      "\n",
      "    (1) a -> b V .\n",
      "\n",
      "    $end            reduce using rule 1 (a -> b V .)\n",
      "\n",
      "\n",
      "state 6\n",
      "\n",
      "    (2) a -> c W .\n",
      "\n",
      "    $end            reduce using rule 2 (a -> c W .)\n",
      "\n",
      "\n",
      "state 7\n",
      "\n",
      "    (3) b -> X U .\n",
      "    (4) c -> X U .\n",
      "\n",
      "    V               reduce using rule 3 (b -> X U .)\n",
      "    W               reduce using rule 4 (c -> X U .)\n",
      "\n"
     ]
    }
   ],
   "source": [
    "!cat parser.out"
   ]
  },
  {
   "cell_type": "code",
   "execution_count": null,
   "metadata": {},
   "outputs": [],
   "source": []
  }
 ],
 "metadata": {
  "kernelspec": {
   "display_name": "Python 3 (ipykernel)",
   "language": "python",
   "name": "python3"
  },
  "language_info": {
   "codemirror_mode": {
    "name": "ipython",
    "version": 3
   },
   "file_extension": ".py",
   "mimetype": "text/x-python",
   "name": "python",
   "nbconvert_exporter": "python",
   "pygments_lexer": "ipython3",
   "version": "3.12.7"
  },
  "varInspector": {
   "cols": {
    "lenName": 16,
    "lenType": 16,
    "lenVar": 40
   },
   "kernels_config": {
    "python": {
     "delete_cmd_postfix": "",
     "delete_cmd_prefix": "del ",
     "library": "var_list.py",
     "varRefreshCmd": "print(var_dic_list())"
    },
    "r": {
     "delete_cmd_postfix": ") ",
     "delete_cmd_prefix": "rm(",
     "library": "var_list.r",
     "varRefreshCmd": "cat(var_dic_list()) "
    }
   },
   "types_to_exclude": [
    "module",
    "function",
    "builtin_function_or_method",
    "instance",
    "_Feature"
   ],
   "window_display": false
  }
 },
 "nbformat": 4,
 "nbformat_minor": 4
}
