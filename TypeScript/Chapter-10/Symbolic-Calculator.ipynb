{
 "cells": [
  {
   "cell_type": "code",
   "execution_count": null,
   "metadata": {},
   "outputs": [],
   "source": [
    "from IPython.core.display import HTML\n",
    "with open (\"../style.css\", \"r\") as file:\n",
    "    css = file.read()\n",
    "HTML(css)"
   ]
  },
  {
   "cell_type": "markdown",
   "metadata": {},
   "source": [
    "# A Simple Symbolic Calculator\n",
    "\n",
    "This file shows how a simple symbolic calculator can be implemented using `Ply`.  The grammar for the language implemented by this parser is as follows:\n",
    "$$\n",
    "\\begin{array}{lcl}\n",
    "  \\texttt{stmnt}   & \\rightarrow & \\;\\texttt{IDENTIFIER} \\;\\texttt{':='}\\; \\texttt{expr}\\; \\texttt{';'}\\\\\n",
    "                   & \\mid        & \\;\\texttt{expr}\\; \\texttt{';'}                      \\\\[0.2cm]\n",
    "  \\texttt{expr}    & \\rightarrow & \\;\\texttt{expr}\\; \\texttt{'+'} \\; \\texttt{product}  \\\\\n",
    "                   & \\mid        & \\;\\texttt{expr}\\; \\texttt{'-'} \\; \\texttt{product}  \\\\\n",
    "                   & \\mid        & \\;\\texttt{product}                                  \\\\[0.2cm]\n",
    "  \\texttt{product} & \\rightarrow & \\;\\texttt{product}\\; \\texttt{'*'} \\;\\texttt{factor} \\\\\n",
    "                   & \\mid        & \\;\\texttt{product}\\; \\texttt{'/'} \\;\\texttt{factor} \\\\\n",
    "                   & \\mid        & \\;\\texttt{factor}                                   \\\\[0.2cm]\n",
    "  \\texttt{factor}  & \\rightarrow &   \\texttt{'('} \\; \\texttt{expr} \\;\\texttt{')'}        \\\\\n",
    "                   & \\mid        & \\;\\texttt{NUMBER}                                   \\\\\n",
    "                   & \\mid        & \\;\\texttt{IDENTIFIER}                        \n",
    "\\end{array}\n",
    "$$"
   ]
  },
  {
   "cell_type": "markdown",
   "metadata": {},
   "source": [
    "## Specification of the Scanner"
   ]
  },
  {
   "cell_type": "code",
   "execution_count": null,
   "metadata": {},
   "outputs": [],
   "source": [
    "import ply.lex as lex"
   ]
  },
  {
   "cell_type": "markdown",
   "metadata": {},
   "source": [
    "There are only three tokens that need to be defined via regular expressions.  The other tokens consist only of a single character and can therefore be defined as literals."
   ]
  },
  {
   "cell_type": "code",
   "execution_count": null,
   "metadata": {},
   "outputs": [],
   "source": [
    "tokens = [ 'NUMBER', 'IDENTIFIER', 'ASSIGN_OP' ]"
   ]
  },
  {
   "cell_type": "markdown",
   "metadata": {},
   "source": [
    "The token `NUMBER` specifies a fully featured *floating point number*."
   ]
  },
  {
   "cell_type": "code",
   "execution_count": null,
   "metadata": {},
   "outputs": [],
   "source": [
    "def t_NUMBER(t):\n",
    "    r'0|[1-9][0-9]*(\\.[0-9]+)?([eE][+-]?([0-9]+))?'\n",
    "    t.value = float(t.value)\n",
    "    return t"
   ]
  },
  {
   "cell_type": "markdown",
   "metadata": {},
   "source": [
    "The token `IDENTIFIER` specifies the name of a *variable*."
   ]
  },
  {
   "cell_type": "code",
   "execution_count": null,
   "metadata": {},
   "outputs": [],
   "source": [
    "def t_IDENTIFIER(t):\n",
    "    r'[a-zA-Z][a-zA-Z0-9_]*'\n",
    "    return t"
   ]
  },
  {
   "cell_type": "markdown",
   "metadata": {},
   "source": [
    "The token `ASSIGN_OP` specifies the *assignment operator*.  As this operator consists of two characters, it can't be defined as a literal."
   ]
  },
  {
   "cell_type": "code",
   "execution_count": null,
   "metadata": {},
   "outputs": [],
   "source": [
    "def t_ASSIGN_OP(t):\n",
    "    r':='\n",
    "    return t"
   ]
  },
  {
   "cell_type": "markdown",
   "metadata": {},
   "source": [
    "`literals` is a list of operator symbols that consist of a single character."
   ]
  },
  {
   "cell_type": "code",
   "execution_count": null,
   "metadata": {},
   "outputs": [],
   "source": [
    "literals = ['+', '-', '*', '/', '(', ')', ';']"
   ]
  },
  {
   "cell_type": "markdown",
   "metadata": {},
   "source": [
    "Blanks and tabulators are ignored."
   ]
  },
  {
   "cell_type": "code",
   "execution_count": null,
   "metadata": {},
   "outputs": [],
   "source": [
    "t_ignore  = ' \\t'"
   ]
  },
  {
   "cell_type": "markdown",
   "metadata": {},
   "source": [
    "Newlines are counted in order to give precise error messages.  Otherwise they are ignored."
   ]
  },
  {
   "cell_type": "code",
   "execution_count": null,
   "metadata": {},
   "outputs": [],
   "source": [
    "def t_newline(t):\n",
    "    r'\\n+'\n",
    "    t.lexer.lineno += t.value.count('\\n')"
   ]
  },
  {
   "cell_type": "markdown",
   "metadata": {},
   "source": [
    "Unkown characters are reported as lexical errors."
   ]
  },
  {
   "cell_type": "code",
   "execution_count": null,
   "metadata": {},
   "outputs": [],
   "source": [
    "def t_error(t):\n",
    "    print(f\"Illegal character '{t.value[0]}' at character number {t.lexer.lexpos} in line {t.lexer.lineno}.\")\n",
    "    t.lexer.skip(1)"
   ]
  },
  {
   "cell_type": "markdown",
   "metadata": {},
   "source": [
    "The next line is necessary because we use `Ply` from a notebook."
   ]
  },
  {
   "cell_type": "code",
   "execution_count": null,
   "metadata": {},
   "outputs": [],
   "source": [
    "__file__ = 'main'"
   ]
  },
  {
   "cell_type": "markdown",
   "metadata": {},
   "source": [
    "We generate the lexer."
   ]
  },
  {
   "cell_type": "code",
   "execution_count": null,
   "metadata": {},
   "outputs": [],
   "source": [
    "lexer = lex.lex()"
   ]
  },
  {
   "cell_type": "markdown",
   "metadata": {},
   "source": [
    "## Specification of the Parser"
   ]
  },
  {
   "cell_type": "code",
   "execution_count": null,
   "metadata": {},
   "outputs": [],
   "source": [
    "import ply.yacc as yacc"
   ]
  },
  {
   "cell_type": "markdown",
   "metadata": {},
   "source": [
    "The *start variable* of our grammar is `statement`."
   ]
  },
  {
   "cell_type": "code",
   "execution_count": null,
   "metadata": {},
   "outputs": [],
   "source": [
    "start = 'stmnt'"
   ]
  },
  {
   "cell_type": "markdown",
   "metadata": {},
   "source": [
    "There are two grammar rules for `stmnt`s:\n",
    "```\n",
    "    stmnt : IDENTIFIER \":=\" expr \";\"\n",
    "          | expr ';'\n",
    "          ;\n",
    "```\n",
    "- If a *stmnt* is an assignment, the expression on the right hand side of the assignment operator is \n",
    "  evaluated and the value is stored in the dictionary `Names2Values`.  The key used in this dictionary\n",
    "  is the name of the variable on the left hand side ofthe assignment operator.\n",
    "- If a *stmnt* is an expression, the expression is evaluated and the result of this evaluation is printed.\n",
    "\n",
    "It is <b>very important</b> that in the grammar rules below the `:` is surrounded by space characters, for otherwise `Ply` will throw mysterious error messages at us!\n",
    "\n",
    "Below, `Names2Values` is a dictionary mapping variable names to their values.  It will be defined later."
   ]
  },
  {
   "cell_type": "code",
   "execution_count": null,
   "metadata": {},
   "outputs": [],
   "source": [
    "def p_stmnt_assign(p):\n",
    "    \"stmnt : IDENTIFIER ASSIGN_OP expr ';'\"\n",
    "    Names2Values[p[1]] = p[3]\n",
    "\n",
    "def p_stmnt_expr(p):\n",
    "    \"stmnt : expr ';'\"\n",
    "    print(p[1])"
   ]
  },
  {
   "cell_type": "markdown",
   "metadata": {},
   "source": [
    "An *expr* is a sequence of *products* that are combined with the operators `+` and `-`.\n",
    "The corresponding grammar rules are:\n",
    "```\n",
    "    expr : expr '+' product\n",
    "         | expr '-' product\n",
    "         | product\n",
    "         ;\n",
    "```"
   ]
  },
  {
   "cell_type": "code",
   "execution_count": null,
   "metadata": {},
   "outputs": [],
   "source": [
    "def p_expr_plus(p):\n",
    "    \"expr : expr '+' product\"\n",
    "    p[0] = p[1] + p[3]\n",
    "    \n",
    "def p_expr_minus(p):\n",
    "    \"expr : expr '-' product\"\n",
    "    p[0] = p[1] - p[3]\n",
    "    \n",
    "def p_expr_product(p):\n",
    "    \"expr : product\"\n",
    "    p[0] = p[1]"
   ]
  },
  {
   "cell_type": "markdown",
   "metadata": {},
   "source": [
    "A *product* is a sequence of *factors* that are combined with the operators `*` and `/`.\n",
    "The corresponding grammar rules are:\n",
    "```\n",
    "    product : product '*' factor\n",
    "            | product '/' factor\n",
    "            | factor\n",
    "            ;\n",
    "```"
   ]
  },
  {
   "cell_type": "code",
   "execution_count": null,
   "metadata": {},
   "outputs": [],
   "source": [
    "def p_product_multiply(p):\n",
    "    \"product : product '*' factor\"\n",
    "    p[0] = p[1] * p[3]\n",
    "    \n",
    "def p_product_divide(p):\n",
    "    \"product : product '/' factor\"\n",
    "    p[0] = p[1] / p[3]\n",
    "    \n",
    "def p_product_factor(p):\n",
    "    \"product : factor\"\n",
    "    p[0] = p[1]"
   ]
  },
  {
   "cell_type": "markdown",
   "metadata": {},
   "source": [
    "A factor is either an expression in parenthesis, a number, or an identifier.\n",
    "```\n",
    "   factor : '(' expr ')'\n",
    "          | NUMBER\n",
    "          | IDENTIFIER\n",
    "          ;\n",
    "```\n",
    "If an identifier is undefined, its value is `NaN`, which is short for *not a number*."
   ]
  },
  {
   "cell_type": "code",
   "execution_count": null,
   "metadata": {},
   "outputs": [],
   "source": [
    "def p_factor_group(p):\n",
    "    \"factor : '(' expr ')'\"\n",
    "    p[0] = p[2]\n",
    "\n",
    "def p_factor_number(p):\n",
    "    \"factor : NUMBER\"\n",
    "    p[0] = p[1]\n",
    "\n",
    "def p_factor_identifier(p):\n",
    "    \"factor : IDENTIFIER\"\n",
    "    p[0] = Names2Values.get(p[1], float('NaN'))"
   ]
  },
  {
   "cell_type": "markdown",
   "metadata": {},
   "source": [
    "The expression `float('NaN')` stands for an undefined number."
   ]
  },
  {
   "cell_type": "code",
   "execution_count": null,
   "metadata": {},
   "outputs": [],
   "source": [
    "import math"
   ]
  },
  {
   "cell_type": "code",
   "execution_count": null,
   "metadata": {},
   "outputs": [],
   "source": [
    "math.nan, float('Inf'), float('Inf') - float('Inf') "
   ]
  },
  {
   "cell_type": "code",
   "execution_count": null,
   "metadata": {},
   "outputs": [],
   "source": [
    "1.0 / float('Inf')"
   ]
  },
  {
   "cell_type": "code",
   "execution_count": null,
   "metadata": {},
   "outputs": [],
   "source": [
    "float('Inf') - 1"
   ]
  },
  {
   "cell_type": "markdown",
   "metadata": {},
   "source": [
    "The method `p_error` is called if a syntax error occurs.  The argument `p` is the token that could not be read.  If `p` is `None` then the syntax error occurs at the end of the input."
   ]
  },
  {
   "cell_type": "code",
   "execution_count": null,
   "metadata": {},
   "outputs": [],
   "source": [
    "def p_error(p):\n",
    "    if p:\n",
    "        print(f\"Syntax error at character number {p.lexer.lexpos} at token '{p.value}' in line {p.lexer.lineno}.\")\n",
    "    else:\n",
    "        raise(f\"Incomplete input.\")"
   ]
  },
  {
   "cell_type": "markdown",
   "metadata": {},
   "source": [
    "Setting the optional argument `write_tables` to `False` <B style=\"color:red\">is required</B> to prevent an *obscure bug* where the parser generator tries to read an empty parse table.\n",
    "We set `debug` to `True` so that the parse tables are dumped into the file `parser.out`."
   ]
  },
  {
   "cell_type": "code",
   "execution_count": null,
   "metadata": {},
   "outputs": [],
   "source": [
    "parser = yacc.yacc(write_tables=False, debug=True)"
   ]
  },
  {
   "cell_type": "markdown",
   "metadata": {},
   "source": [
    "Let's look at the action table that is generated."
   ]
  },
  {
   "cell_type": "code",
   "execution_count": null,
   "metadata": {
    "scrolled": true
   },
   "outputs": [],
   "source": [
    "!cat parser.out"
   ]
  },
  {
   "cell_type": "markdown",
   "metadata": {},
   "source": [
    "`Names2Values` is the dictionary that maps variable names to their values.  Initially the dictionary is empty as no variables have yet been defined."
   ]
  },
  {
   "cell_type": "code",
   "execution_count": null,
   "metadata": {},
   "outputs": [],
   "source": [
    "Names2Values = {}"
   ]
  },
  {
   "cell_type": "markdown",
   "metadata": {},
   "source": [
    "The parser is invoked by calling the method `yacc.parse(s)` where `s` is a string that is to be parsed."
   ]
  },
  {
   "cell_type": "code",
   "execution_count": null,
   "metadata": {},
   "outputs": [],
   "source": [
    "def main():\n",
    "    while True:\n",
    "        s = input('calc> ')\n",
    "        if s == '':\n",
    "            break\n",
    "        yacc.parse(s)"
   ]
  },
  {
   "cell_type": "code",
   "execution_count": null,
   "metadata": {},
   "outputs": [],
   "source": [
    "main()"
   ]
  },
  {
   "cell_type": "code",
   "execution_count": null,
   "metadata": {},
   "outputs": [],
   "source": [
    "Names2Values"
   ]
  },
  {
   "cell_type": "code",
   "execution_count": null,
   "metadata": {},
   "outputs": [],
   "source": []
  }
 ],
 "metadata": {
  "kernelspec": {
   "display_name": "Python 3 (ipykernel)",
   "language": "python",
   "name": "python3"
  },
  "language_info": {
   "codemirror_mode": {
    "name": "ipython",
    "version": 3
   },
   "file_extension": ".py",
   "mimetype": "text/x-python",
   "name": "python",
   "nbconvert_exporter": "python",
   "pygments_lexer": "ipython3",
   "version": "3.11.5"
  },
  "varInspector": {
   "cols": {
    "lenName": 16,
    "lenType": 16,
    "lenVar": 40
   },
   "kernels_config": {
    "python": {
     "delete_cmd_postfix": "",
     "delete_cmd_prefix": "del ",
     "library": "var_list.py",
     "varRefreshCmd": "print(var_dic_list())"
    },
    "r": {
     "delete_cmd_postfix": ") ",
     "delete_cmd_prefix": "rm(",
     "library": "var_list.r",
     "varRefreshCmd": "cat(var_dic_list()) "
    }
   },
   "types_to_exclude": [
    "module",
    "function",
    "builtin_function_or_method",
    "instance",
    "_Feature"
   ],
   "window_display": false
  }
 },
 "nbformat": 4,
 "nbformat_minor": 4
}
