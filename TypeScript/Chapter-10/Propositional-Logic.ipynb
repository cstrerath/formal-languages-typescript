{
 "cells": [
  {
   "cell_type": "code",
   "execution_count": null,
   "metadata": {},
   "outputs": [],
   "source": [
    "from IPython.core.display import HTML\n",
    "with open (\"../style.css\", \"r\") as file:\n",
    "    css = file.read()\n",
    "HTML(css)"
   ]
  },
  {
   "cell_type": "markdown",
   "metadata": {},
   "source": [
    "# A Grammar for Propositional Logic\n",
    "\n",
    "This file shows how a simple symbolic calculator can be implemented using `Ply`.  The grammar for the language implemented by this parser is as follows:\n",
    "$$\n",
    "\\begin{array}{lcl}\n",
    "  \\texttt{stmnt}   & \\rightarrow & \\;\\texttt{IDENTIFIER} \\;\\texttt{':='}\\; \\texttt{formula}\\; \\texttt{';'}\\\\\n",
    "                   & \\mid        & \\;\\texttt{formula}\\; \\texttt{';'}                                      \\\\[0.2cm]\n",
    "  \\texttt{formula} & \\rightarrow & \\;\\texttt{formula}\\; \\texttt{'<->'} \\; \\texttt{formula}                \\\\\n",
    "                   & \\mid        & \\;\\texttt{formula}\\; \\texttt{'->'} \\; \\texttt{formula}                 \\\\\n",
    "                   & \\mid        & \\;\\texttt{formula}\\; \\texttt{'&'} \\; \\texttt{formula}                  \\\\\n",
    "                   & \\mid        & \\;\\texttt{'!'} \\;\\texttt{formula}                                      \\\\\n",
    "                   & \\mid        & \\;\\texttt{'('} \\; \\texttt{formula} \\;\\texttt{')'}                      \\\\\n",
    "                   & \\mid        & \\;\\texttt{VALUE}                                                       \\\\\n",
    "                   & \\mid        & \\;\\texttt{IDENTIFIER}                        \n",
    "\\end{array}\n",
    "$$"
   ]
  },
  {
   "cell_type": "markdown",
   "metadata": {},
   "source": [
    "## Specification of the Scanner"
   ]
  },
  {
   "cell_type": "code",
   "execution_count": null,
   "metadata": {},
   "outputs": [],
   "source": [
    "import ply.lex as lex"
   ]
  },
  {
   "cell_type": "markdown",
   "metadata": {},
   "source": [
    "There are only five tokens that need to be defined via regular expressions.  The other tokens consist only of a single character and are therefore \n",
    "defined as literals."
   ]
  },
  {
   "cell_type": "code",
   "execution_count": null,
   "metadata": {},
   "outputs": [],
   "source": [
    "tokens = [ 'VALUE', 'IDENTIFIER', 'ASSIGN_OP', 'BICONDITIONAL', 'CONDITIONAL' ]"
   ]
  },
  {
   "cell_type": "markdown",
   "metadata": {},
   "source": [
    "The token `VALUE` specifies a *truth value*.  We support the strings `True`and `False` as truth values.  \n",
    "Furthermore, `0` and `1` can be used as truth values.\n",
    "\n",
    "As the strings `True` and `False` have the same structure that is specified by the regular expression for the token `IDENTIFIER`, it is <b>important</b> that the definition of `VALUE` precedes the definition of `IDENTIFIER`.\n",
    "\n",
    "Furthermore, the string `'0'` has to be converted into the integer `0` first before this integer is then converted into a Boolean."
   ]
  },
  {
   "cell_type": "code",
   "execution_count": null,
   "metadata": {},
   "outputs": [],
   "source": [
    "def t_VALUE(t):\n",
    "    r'True|False|0|1'\n",
    "    if t.value in ['True', 'False']:\n",
    "        t.value = bool(t.value)\n",
    "    else:\n",
    "        t.value = bool(int(t.value))\n",
    "    return t"
   ]
  },
  {
   "cell_type": "markdown",
   "metadata": {},
   "source": [
    "The token `IDENTIFIER` specifies the name of a *variable*."
   ]
  },
  {
   "cell_type": "code",
   "execution_count": null,
   "metadata": {},
   "outputs": [],
   "source": [
    "def t_IDENTIFIER(t):\n",
    "    r'[a-zA-Z][a-zA-Z0-9_]*'\n",
    "    return t"
   ]
  },
  {
   "cell_type": "markdown",
   "metadata": {},
   "source": [
    "The token `ASSIGN_OP` specifies the *assignment operator*.  As this operator consists of two characters, it can't be defined as a literal."
   ]
  },
  {
   "cell_type": "code",
   "execution_count": null,
   "metadata": {},
   "outputs": [],
   "source": [
    "def t_ASSIGN_OP(t):\n",
    "    r':='\n",
    "    return t\n",
    "\n",
    "def t_BICONDITIONAL(t):\n",
    "    r'<->'\n",
    "    return t\n",
    "\n",
    "def t_CONDITIONAL(t):\n",
    "    r'->'\n",
    "    return t"
   ]
  },
  {
   "cell_type": "markdown",
   "metadata": {},
   "source": [
    "`literals` is a list operator symbols that consist of a single character."
   ]
  },
  {
   "cell_type": "code",
   "execution_count": null,
   "metadata": {},
   "outputs": [],
   "source": [
    "literals = ['|', '&', '!', '(', ')', ';']"
   ]
  },
  {
   "cell_type": "markdown",
   "metadata": {},
   "source": [
    "Blanks and tabulators are ignored."
   ]
  },
  {
   "cell_type": "code",
   "execution_count": null,
   "metadata": {},
   "outputs": [],
   "source": [
    "t_ignore  = ' \\t'"
   ]
  },
  {
   "cell_type": "markdown",
   "metadata": {},
   "source": [
    "Newlines are counted in order to give precise error messages.  Otherwise they are ignored."
   ]
  },
  {
   "cell_type": "code",
   "execution_count": null,
   "metadata": {},
   "outputs": [],
   "source": [
    "def t_newline(t):\n",
    "    r'\\n+'\n",
    "    t.lexer.lineno += t.value.count('\\n')"
   ]
  },
  {
   "cell_type": "markdown",
   "metadata": {},
   "source": [
    "Unkown characters are reported as lexical errors."
   ]
  },
  {
   "cell_type": "code",
   "execution_count": null,
   "metadata": {},
   "outputs": [],
   "source": [
    "def t_error(t):\n",
    "    print(f\"Illegal character '{t.value[0]}' at character number {t.lexer.lexpos} in line {t.lexer.lineno}.\")\n",
    "    t.lexer.skip(1)"
   ]
  },
  {
   "cell_type": "code",
   "execution_count": null,
   "metadata": {},
   "outputs": [],
   "source": [
    "__file__ = 'main'"
   ]
  },
  {
   "cell_type": "markdown",
   "metadata": {},
   "source": [
    "We generate the lexer."
   ]
  },
  {
   "cell_type": "code",
   "execution_count": null,
   "metadata": {},
   "outputs": [],
   "source": [
    "lexer = lex.lex()"
   ]
  },
  {
   "cell_type": "markdown",
   "metadata": {},
   "source": [
    "## Specification of the Parser"
   ]
  },
  {
   "cell_type": "code",
   "execution_count": null,
   "metadata": {},
   "outputs": [],
   "source": [
    "import ply.yacc as yacc"
   ]
  },
  {
   "cell_type": "markdown",
   "metadata": {},
   "source": [
    "The *start variable* of our grammar is `statement`."
   ]
  },
  {
   "cell_type": "code",
   "execution_count": null,
   "metadata": {},
   "outputs": [],
   "source": [
    "start = 'stmnt'"
   ]
  },
  {
   "cell_type": "markdown",
   "metadata": {},
   "source": [
    "There are two grammar rules for `stmnt`s:\n",
    "```\n",
    "    stmnt : IDENTIFIER \":=\" formula \";\"\n",
    "          | formula ';'\n",
    "          ;\n",
    "```\n",
    "- If a *stmnt* is an assignment, the expression on the right hand side of the assignment operator is \n",
    "  evaluated and the value is stored in the dictionary `Names2Values`.  The key used in this dictionary\n",
    "  is the name of the variable on the left hand side ofthe assignment operator.\n",
    "- If a *stmnt* is a propositional formula, the formula is evaluated and the result of this evaluation is printed.\n",
    "\n",
    "\n",
    "Below, `Names2Values` is a dictionary mapping variable names to their values.  It will be defined later."
   ]
  },
  {
   "cell_type": "code",
   "execution_count": null,
   "metadata": {},
   "outputs": [],
   "source": [
    "def p_stmnt_assign(p):\n",
    "    \"stmnt : IDENTIFIER ASSIGN_OP formula ';'\"\n",
    "    Names2Values[p[1]] = p[3]\n",
    "\n",
    "def p_stmnt_formula(p):\n",
    "    \"stmnt : formula ';'\"\n",
    "    print(p[1])"
   ]
  },
  {
   "cell_type": "markdown",
   "metadata": {},
   "source": [
    "The grammar rules for `formula` are:\n",
    "```\n",
    " formula : formula '<->' formula\n",
    "         | formula '->' formula\n",
    "         | formula '|' formula\n",
    "         | formula '&' formula\n",
    "         | '!' formula\n",
    "         | '(' formula ')'\n",
    "         | VALUE\n",
    "         | IDENTIFIER\n",
    "         ;\n",
    "```"
   ]
  },
  {
   "cell_type": "code",
   "execution_count": null,
   "metadata": {},
   "outputs": [],
   "source": [
    "def p_formula_equivalence(p):\n",
    "    \"formula : formula BICONDITIONAL formula\"\n",
    "    p[0] = (p[1] == p[3])\n",
    "\n",
    "def p_formula_implication(p):\n",
    "    \"formula : formula CONDITIONAL formula\"\n",
    "    p[0] = not p[1] or p[3]\n",
    "\n",
    "def p_formula_or(p):\n",
    "    \"formula : formula '|' formula\"\n",
    "    p[0] = p[1] or p[3]\n",
    "    \n",
    "def p_formula_and(p):\n",
    "    \"formula : formula '&' formula\"\n",
    "    p[0] = p[1] and p[3]\n",
    "    \n",
    "def p_formula_not(p):\n",
    "    \"formula : '!' formula\"\n",
    "    p[0] = not p[1]\n",
    "    \n",
    "def p_formula_paren(p):\n",
    "    \"formula : '(' formula ')'\"\n",
    "    p[0] = p[2]\n",
    "    \n",
    "def p_formula_value(p):\n",
    "    \"formula : VALUE\"\n",
    "    p[0] = p[1]\n",
    "    \n",
    "def p_formula_identifier(p):\n",
    "    \"formula : IDENTIFIER\"\n",
    "    p[0] = Names2Values[p[1]]"
   ]
  },
  {
   "cell_type": "code",
   "execution_count": null,
   "metadata": {},
   "outputs": [],
   "source": [
    "precedence = ( ('nonassoc', 'BICONDITIONAL'),\n",
    "               ('right',    'CONDITIONAL'  ),\n",
    "               ('left',     '|'            ),\n",
    "               ('left',     '&'            ),\n",
    "               ('right',    '!'            )\n",
    "             )"
   ]
  },
  {
   "cell_type": "markdown",
   "metadata": {},
   "source": [
    "The method `p_error` is called if a syntax error occurs.  The argument `p` is the token that could not be read.  If `p` is `None` then there is a syntax error at the end of input."
   ]
  },
  {
   "cell_type": "code",
   "execution_count": null,
   "metadata": {},
   "outputs": [],
   "source": [
    "def p_error(p):\n",
    "    if p:\n",
    "        print(f\"Syntax error at character number {p.lexer.lexpos} at token '{p.value}' in line {p.lexer.lineno}.\")\n",
    "    else:\n",
    "        print('Syntax error at end of input.')"
   ]
  },
  {
   "cell_type": "markdown",
   "metadata": {},
   "source": [
    "Setting the optional argument `write_tables` to `False` <B style=\"color:red\">is required</B> to prevent an *obscure bug* where the parser generator tries to read an empty parse table.\n",
    "We set `debug` to `True` so that the parse tables are dumped into the file `parser.out`."
   ]
  },
  {
   "cell_type": "code",
   "execution_count": null,
   "metadata": {},
   "outputs": [],
   "source": [
    "parser = yacc.yacc(write_tables=False, debug=True)"
   ]
  },
  {
   "cell_type": "markdown",
   "metadata": {},
   "source": [
    "Let's look at the action table that is generated."
   ]
  },
  {
   "cell_type": "code",
   "execution_count": null,
   "metadata": {
    "scrolled": true
   },
   "outputs": [],
   "source": [
    "!type parser.out"
   ]
  },
  {
   "cell_type": "code",
   "execution_count": null,
   "metadata": {},
   "outputs": [],
   "source": [
    "!cat parser.out"
   ]
  },
  {
   "cell_type": "markdown",
   "metadata": {},
   "source": [
    "`Names2Values` is the dictionary that maps variable names to their values.  Initially the dictionary is empty as no variables has yet been defined."
   ]
  },
  {
   "cell_type": "code",
   "execution_count": null,
   "metadata": {},
   "outputs": [],
   "source": [
    "Names2Values = {}"
   ]
  },
  {
   "cell_type": "markdown",
   "metadata": {},
   "source": [
    "The method `test(s)` takes a string `s` that is supposed to be a `stmnt`.\n",
    "This statement is then executed."
   ]
  },
  {
   "cell_type": "code",
   "execution_count": null,
   "metadata": {},
   "outputs": [],
   "source": [
    "def test(s):\n",
    "    yacc.parse(s)"
   ]
  },
  {
   "cell_type": "code",
   "execution_count": null,
   "metadata": {},
   "outputs": [],
   "source": [
    "test('x := True;');\n",
    "test('x;')"
   ]
  },
  {
   "cell_type": "code",
   "execution_count": null,
   "metadata": {},
   "outputs": [],
   "source": [
    "test('y := False;')"
   ]
  },
  {
   "cell_type": "code",
   "execution_count": null,
   "metadata": {},
   "outputs": [],
   "source": [
    "test('1 <-> 0;')"
   ]
  },
  {
   "cell_type": "code",
   "execution_count": null,
   "metadata": {},
   "outputs": [],
   "source": [
    "test('x -> y | 0 & 1 <-> (x | y);')"
   ]
  },
  {
   "cell_type": "code",
   "execution_count": null,
   "metadata": {},
   "outputs": [],
   "source": [
    "for op in ['<->', '->', '&', '|']:\n",
    "    print(f'\\nTesting \"{op}\":')\n",
    "    for x in ['0', '1']:\n",
    "        for y in ['0', '1']:\n",
    "            test(f'x := {x};')\n",
    "            test(f'y := {y};')\n",
    "            print(f'{x} {op} {y}:')\n",
    "            test(f'x {op} y;')"
   ]
  },
  {
   "cell_type": "code",
   "execution_count": null,
   "metadata": {},
   "outputs": [],
   "source": []
  }
 ],
 "metadata": {
  "kernelspec": {
   "display_name": "Python 3 (ipykernel)",
   "language": "python",
   "name": "python3"
  },
  "language_info": {
   "codemirror_mode": {
    "name": "ipython",
    "version": 3
   },
   "file_extension": ".py",
   "mimetype": "text/x-python",
   "name": "python",
   "nbconvert_exporter": "python",
   "pygments_lexer": "ipython3",
   "version": "3.10.0"
  },
  "varInspector": {
   "cols": {
    "lenName": 16,
    "lenType": 16,
    "lenVar": 40
   },
   "kernels_config": {
    "python": {
     "delete_cmd_postfix": "",
     "delete_cmd_prefix": "del ",
     "library": "var_list.py",
     "varRefreshCmd": "print(var_dic_list())"
    },
    "r": {
     "delete_cmd_postfix": ") ",
     "delete_cmd_prefix": "rm(",
     "library": "var_list.r",
     "varRefreshCmd": "cat(var_dic_list()) "
    }
   },
   "types_to_exclude": [
    "module",
    "function",
    "builtin_function_or_method",
    "instance",
    "_Feature"
   ],
   "window_display": false
  }
 },
 "nbformat": 4,
 "nbformat_minor": 4
}
